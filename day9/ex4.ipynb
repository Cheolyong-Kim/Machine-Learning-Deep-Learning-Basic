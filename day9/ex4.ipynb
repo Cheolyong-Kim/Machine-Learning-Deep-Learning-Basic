{
 "cells": [
  {
   "cell_type": "code",
   "execution_count": 1,
   "id": "935fb2e7",
   "metadata": {},
   "outputs": [
    {
     "data": {
      "text/plain": [
       "(28, 28)"
      ]
     },
     "execution_count": 1,
     "metadata": {},
     "output_type": "execute_result"
    }
   ],
   "source": [
    "import tensorflow as tf\n",
    "from tensorflow import keras\n",
    "import numpy as np\n",
    "import pandas as pd\n",
    "import matplotlib.pyplot as plt\n",
    "\n",
    "(t_x,t_y),(tt_x,tt_y) = keras.datasets.fashion_mnist.load_data()\n",
    "s_t_x = t_x / 255.0\n",
    "s_tt_x = tt_x / 255.0\n",
    "\n",
    "from sklearn.model_selection import train_test_split\n",
    "t_x, v_x, t_y, v_y = train_test_split(s_t_x, t_y, test_size = 0.2, random_state = 42)\n",
    "t_x.shape[1:]"
   ]
  },
  {
   "cell_type": "code",
   "execution_count": 2,
   "id": "99c63414",
   "metadata": {},
   "outputs": [],
   "source": [
    "def my_m(l = None):\n",
    "    m = keras.Sequential()\n",
    "    m.add(keras.layers.Flatten(input_shape = (28, 28)))\n",
    "    if l:\n",
    "        for i in l:\n",
    "            m.add(i)\n",
    "    m.add(keras.layers.Dense(10, activation = 'softmax'))\n",
    "    m.compile(loss = 'sparse_categorical_crossentropy', optimizer = 'adam', metrics = 'accuracy')\n",
    "    return m"
   ]
  },
  {
   "cell_type": "code",
   "execution_count": 3,
   "id": "68b6102d",
   "metadata": {},
   "outputs": [
    {
     "name": "stdout",
     "output_type": "stream",
     "text": [
      "Epoch 1/20\n",
      "1500/1500 [==============================] - 6s 3ms/step - loss: 0.5890 - accuracy: 0.7936 - val_loss: 0.4338 - val_accuracy: 0.8433\n",
      "Epoch 2/20\n",
      "1500/1500 [==============================] - 6s 4ms/step - loss: 0.4380 - accuracy: 0.8425 - val_loss: 0.3925 - val_accuracy: 0.8530\n",
      "Epoch 3/20\n",
      "1500/1500 [==============================] - 6s 4ms/step - loss: 0.4001 - accuracy: 0.8536 - val_loss: 0.3713 - val_accuracy: 0.8637\n",
      "Epoch 4/20\n",
      "1500/1500 [==============================] - 5s 3ms/step - loss: 0.3755 - accuracy: 0.8631 - val_loss: 0.3576 - val_accuracy: 0.8712\n",
      "Epoch 5/20\n",
      "1500/1500 [==============================] - 4s 2ms/step - loss: 0.3626 - accuracy: 0.8672 - val_loss: 0.3451 - val_accuracy: 0.8747\n",
      "Epoch 6/20\n",
      "1500/1500 [==============================] - 5s 3ms/step - loss: 0.3492 - accuracy: 0.8718 - val_loss: 0.3391 - val_accuracy: 0.8792\n",
      "Epoch 7/20\n",
      "1500/1500 [==============================] - 4s 3ms/step - loss: 0.3396 - accuracy: 0.8749 - val_loss: 0.3597 - val_accuracy: 0.8703\n",
      "Epoch 8/20\n",
      "1500/1500 [==============================] - 4s 3ms/step - loss: 0.3328 - accuracy: 0.8760 - val_loss: 0.3274 - val_accuracy: 0.8786\n",
      "Epoch 9/20\n",
      "1500/1500 [==============================] - 2s 2ms/step - loss: 0.3247 - accuracy: 0.8791 - val_loss: 0.3369 - val_accuracy: 0.8782\n",
      "Epoch 10/20\n",
      "1500/1500 [==============================] - 3s 2ms/step - loss: 0.3184 - accuracy: 0.8819 - val_loss: 0.3339 - val_accuracy: 0.8777\n",
      "Epoch 11/20\n",
      "1500/1500 [==============================] - 4s 3ms/step - loss: 0.3100 - accuracy: 0.8849 - val_loss: 0.3390 - val_accuracy: 0.8775\n",
      "Epoch 12/20\n",
      "1500/1500 [==============================] - 3s 2ms/step - loss: 0.3025 - accuracy: 0.8868 - val_loss: 0.3242 - val_accuracy: 0.8804\n",
      "Epoch 13/20\n",
      "1500/1500 [==============================] - 3s 2ms/step - loss: 0.2996 - accuracy: 0.8868 - val_loss: 0.3289 - val_accuracy: 0.8838\n",
      "Epoch 14/20\n",
      "1500/1500 [==============================] - 2s 1ms/step - loss: 0.2928 - accuracy: 0.8904 - val_loss: 0.3275 - val_accuracy: 0.8820\n",
      "Epoch 15/20\n",
      "1500/1500 [==============================] - 6s 4ms/step - loss: 0.2890 - accuracy: 0.8920 - val_loss: 0.3254 - val_accuracy: 0.8816\n",
      "Epoch 16/20\n",
      "1500/1500 [==============================] - 3s 2ms/step - loss: 0.2830 - accuracy: 0.8931 - val_loss: 0.3158 - val_accuracy: 0.8860\n",
      "Epoch 17/20\n",
      "1500/1500 [==============================] - 3s 2ms/step - loss: 0.2851 - accuracy: 0.8925 - val_loss: 0.3271 - val_accuracy: 0.8815\n",
      "Epoch 18/20\n",
      "1500/1500 [==============================] - 2s 1ms/step - loss: 0.2790 - accuracy: 0.8944 - val_loss: 0.3357 - val_accuracy: 0.8817\n",
      "Epoch 19/20\n",
      "1500/1500 [==============================] - 2s 1ms/step - loss: 0.2748 - accuracy: 0.8960 - val_loss: 0.3280 - val_accuracy: 0.8833\n",
      "Epoch 20/20\n",
      "1500/1500 [==============================] - 2s 2ms/step - loss: 0.2732 - accuracy: 0.8969 - val_loss: 0.3246 - val_accuracy: 0.8845\n"
     ]
    },
    {
     "data": {
      "text/plain": [
       "[<matplotlib.lines.Line2D at 0x2320f0ff460>]"
      ]
     },
     "execution_count": 3,
     "metadata": {},
     "output_type": "execute_result"
    },
    {
     "data": {
      "image/png": "[encoded data removed]",
      "text/plain": [
       "<Figure size 432x288 with 1 Axes>"
      ]
     },
     "metadata": {
      "needs_background": "light"
     },
     "output_type": "display_data"
    }
   ],
   "source": [
    "m = keras.Sequential()\n",
    "m.add(keras.layers.Flatten(input_shape = (28, 28)))\n",
    "m.add(keras.layers.Dense(100, activation = 'relu'))\n",
    "m.add(keras.layers.Dropout(0.3))\n",
    "m.add(keras.layers.Dense(10, activation = 'softmax'))\n",
    "m.compile(loss = 'sparse_categorical_crossentropy', optimizer = 'adam', metrics = 'accuracy')\n",
    "ck_p = keras.callbacks.ModelCheckpoint('best_m.h5', save_best_only = True)  # 학습 도중에 가장 결과값이 좋을 때의 모델을 저장\n",
    "hy = m.fit(t_x, t_y, epochs = 20, validation_data = (v_x, v_y), callbacks = [ck_p]) \n",
    "plt.plot(hy.history['loss'])\n",
    "plt.plot(hy.history['val_loss'])"
   ]
  },
  {
   "cell_type": "code",
   "execution_count": 4,
   "id": "38fb1a65",
   "metadata": {},
   "outputs": [
    {
     "name": "stdout",
     "output_type": "stream",
     "text": [
      "375/375 [==============================] - 0s 1ms/step - loss: 0.3246 - accuracy: 0.8845\n"
     ]
    },
    {
     "data": {
      "text/plain": [
       "[0.32464003562927246, 0.8845000267028809]"
      ]
     },
     "execution_count": 4,
     "metadata": {},
     "output_type": "execute_result"
    }
   ],
   "source": [
    "m2 = keras.models.load_model('best_m.h5')\n",
    "m.evaluate(v_x, v_y)"
   ]
  },
  {
   "cell_type": "code",
   "execution_count": 5,
   "id": "dd91c5bb",
   "metadata": {},
   "outputs": [
    {
     "name": "stdout",
     "output_type": "stream",
     "text": [
      "375/375 [==============================] - 0s 904us/step - loss: 0.3158 - accuracy: 0.8860\n"
     ]
    },
    {
     "data": {
      "text/plain": [
       "[0.31579387187957764, 0.8859999775886536]"
      ]
     },
     "execution_count": 5,
     "metadata": {},
     "output_type": "execute_result"
    }
   ],
   "source": [
    "m2.evaluate(v_x, v_y)"
   ]
  },
  {
   "cell_type": "code",
   "execution_count": 6,
   "id": "0dbe1c1e",
   "metadata": {},
   "outputs": [
    {
     "name": "stdout",
     "output_type": "stream",
     "text": [
      "Epoch 1/20\n",
      "1500/1500 [==============================] - 3s 2ms/step - loss: 0.5956 - accuracy: 0.7895 - val_loss: 0.4261 - val_accuracy: 0.8444\n",
      "Epoch 2/20\n",
      "1500/1500 [==============================] - 4s 3ms/step - loss: 0.4444 - accuracy: 0.8403 - val_loss: 0.3937 - val_accuracy: 0.8574\n",
      "Epoch 3/20\n",
      "1500/1500 [==============================] - 4s 3ms/step - loss: 0.4081 - accuracy: 0.8513 - val_loss: 0.3696 - val_accuracy: 0.8636\n",
      "Epoch 4/20\n",
      "1500/1500 [==============================] - 3s 2ms/step - loss: 0.3831 - accuracy: 0.8603 - val_loss: 0.3655 - val_accuracy: 0.8674\n",
      "Epoch 5/20\n",
      "1500/1500 [==============================] - 2s 2ms/step - loss: 0.3706 - accuracy: 0.8652 - val_loss: 0.3463 - val_accuracy: 0.8701\n",
      "Epoch 6/20\n",
      "1500/1500 [==============================] - 2s 1ms/step - loss: 0.3562 - accuracy: 0.8692 - val_loss: 0.3381 - val_accuracy: 0.8767\n",
      "Epoch 7/20\n",
      "1500/1500 [==============================] - 2s 2ms/step - loss: 0.3466 - accuracy: 0.8724 - val_loss: 0.3318 - val_accuracy: 0.8825\n",
      "Epoch 8/20\n",
      "1500/1500 [==============================] - 2s 2ms/step - loss: 0.3396 - accuracy: 0.8739 - val_loss: 0.3334 - val_accuracy: 0.8785\n",
      "Epoch 9/20\n",
      "1500/1500 [==============================] - 2s 2ms/step - loss: 0.3284 - accuracy: 0.8789 - val_loss: 0.3490 - val_accuracy: 0.8700\n",
      "Epoch 10/20\n",
      "1500/1500 [==============================] - 4s 3ms/step - loss: 0.3244 - accuracy: 0.8795 - val_loss: 0.3290 - val_accuracy: 0.8785\n",
      "Epoch 11/20\n",
      "1500/1500 [==============================] - 2s 2ms/step - loss: 0.3139 - accuracy: 0.8829 - val_loss: 0.3269 - val_accuracy: 0.8798\n",
      "Epoch 12/20\n",
      "1500/1500 [==============================] - 3s 2ms/step - loss: 0.3115 - accuracy: 0.8834 - val_loss: 0.3215 - val_accuracy: 0.8844\n",
      "Epoch 13/20\n",
      "1500/1500 [==============================] - 2s 2ms/step - loss: 0.3067 - accuracy: 0.8856 - val_loss: 0.3276 - val_accuracy: 0.8794\n",
      "Epoch 14/20\n",
      "1500/1500 [==============================] - 2s 1ms/step - loss: 0.3015 - accuracy: 0.8864 - val_loss: 0.3214 - val_accuracy: 0.8827\n",
      "Epoch 15/20\n",
      "1500/1500 [==============================] - 2s 2ms/step - loss: 0.2978 - accuracy: 0.8893 - val_loss: 0.3255 - val_accuracy: 0.8789\n",
      "Epoch 16/20\n",
      "1500/1500 [==============================] - 2s 2ms/step - loss: 0.2914 - accuracy: 0.8909 - val_loss: 0.3166 - val_accuracy: 0.8863\n",
      "Epoch 17/20\n",
      "1500/1500 [==============================] - 2s 2ms/step - loss: 0.2896 - accuracy: 0.8915 - val_loss: 0.3188 - val_accuracy: 0.8823\n",
      "Epoch 18/20\n",
      "1500/1500 [==============================] - 2s 2ms/step - loss: 0.2871 - accuracy: 0.8923 - val_loss: 0.3347 - val_accuracy: 0.8783\n",
      "Epoch 19/20\n",
      "1500/1500 [==============================] - 2s 1ms/step - loss: 0.2779 - accuracy: 0.8945 - val_loss: 0.3221 - val_accuracy: 0.8827\n"
     ]
    },
    {
     "data": {
      "text/plain": [
       "<keras.callbacks.History at 0x2320faef850>"
      ]
     },
     "execution_count": 6,
     "metadata": {},
     "output_type": "execute_result"
    }
   ],
   "source": [
    "m3 = my_m([\n",
    "    keras.layers.Dense(100, activation = 'relu'), \n",
    "    keras.layers.Dropout(0.3)\n",
    "])\n",
    "\n",
    "ck_p = keras.callbacks.ModelCheckpoint('best1_m.h5', save_best_only = True)\n",
    "e_st = keras.callbacks.EarlyStopping(patience = 3) # 평가점수 그래프가 3번 연속으로 발산하면 학습을 멈춤\n",
    "m3.fit(t_x, t_y, epochs = 20, validation_data = (v_x, v_y), callbacks = [ck_p, e_st])"
   ]
  },
  {
   "cell_type": "code",
   "execution_count": 7,
   "id": "4b63da8e",
   "metadata": {},
   "outputs": [
    {
     "name": "stdout",
     "output_type": "stream",
     "text": [
      "375/375 [==============================] - 0s 976us/step - loss: 0.3221 - accuracy: 0.8827\n"
     ]
    },
    {
     "data": {
      "text/plain": [
       "[0.3221418559551239, 0.8826666474342346]"
      ]
     },
     "execution_count": 7,
     "metadata": {},
     "output_type": "execute_result"
    }
   ],
   "source": [
    "m3.evaluate(v_x, v_y)"
   ]
  },
  {
   "cell_type": "code",
   "execution_count": 8,
   "id": "369d099f",
   "metadata": {},
   "outputs": [
    {
     "name": "stdout",
     "output_type": "stream",
     "text": [
      "Epoch 1/20\n",
      "1500/1500 [==============================] - 3s 2ms/step - loss: 0.5950 - accuracy: 0.7896 - val_loss: 0.4553 - val_accuracy: 0.8346\n",
      "Epoch 2/20\n",
      "1500/1500 [==============================] - 2s 2ms/step - loss: 0.4421 - accuracy: 0.8402 - val_loss: 0.3857 - val_accuracy: 0.8589\n",
      "Epoch 3/20\n",
      "1500/1500 [==============================] - 3s 2ms/step - loss: 0.4026 - accuracy: 0.8532 - val_loss: 0.3699 - val_accuracy: 0.8650\n",
      "Epoch 4/20\n",
      "1500/1500 [==============================] - 4s 3ms/step - loss: 0.3825 - accuracy: 0.8628 - val_loss: 0.3594 - val_accuracy: 0.8683\n",
      "Epoch 5/20\n",
      "1500/1500 [==============================] - 2s 2ms/step - loss: 0.3664 - accuracy: 0.8654 - val_loss: 0.3500 - val_accuracy: 0.8708\n",
      "Epoch 6/20\n",
      "1500/1500 [==============================] - 2s 1ms/step - loss: 0.3540 - accuracy: 0.8690 - val_loss: 0.3418 - val_accuracy: 0.8737\n",
      "Epoch 7/20\n",
      "1500/1500 [==============================] - 4s 2ms/step - loss: 0.3430 - accuracy: 0.8740 - val_loss: 0.3529 - val_accuracy: 0.8709\n",
      "Epoch 8/20\n",
      "1500/1500 [==============================] - 2s 2ms/step - loss: 0.3325 - accuracy: 0.8771 - val_loss: 0.3360 - val_accuracy: 0.8789\n",
      "Epoch 9/20\n",
      "1500/1500 [==============================] - 3s 2ms/step - loss: 0.3258 - accuracy: 0.8791 - val_loss: 0.3449 - val_accuracy: 0.8773\n",
      "Epoch 10/20\n",
      "1500/1500 [==============================] - 3s 2ms/step - loss: 0.3190 - accuracy: 0.8808 - val_loss: 0.3426 - val_accuracy: 0.8742\n",
      "Epoch 11/20\n",
      "1500/1500 [==============================] - 2s 2ms/step - loss: 0.3123 - accuracy: 0.8845 - val_loss: 0.3253 - val_accuracy: 0.8813\n",
      "Epoch 12/20\n",
      "1500/1500 [==============================] - 2s 1ms/step - loss: 0.3087 - accuracy: 0.8848 - val_loss: 0.3306 - val_accuracy: 0.8809\n",
      "Epoch 13/20\n",
      "1500/1500 [==============================] - 3s 2ms/step - loss: 0.3022 - accuracy: 0.8872 - val_loss: 0.3244 - val_accuracy: 0.8840\n",
      "Epoch 14/20\n",
      "1500/1500 [==============================] - 3s 2ms/step - loss: 0.2974 - accuracy: 0.8879 - val_loss: 0.3189 - val_accuracy: 0.8843\n",
      "Epoch 15/20\n",
      "1500/1500 [==============================] - 3s 2ms/step - loss: 0.2899 - accuracy: 0.8926 - val_loss: 0.3256 - val_accuracy: 0.8850\n",
      "Epoch 16/20\n",
      "1500/1500 [==============================] - 4s 3ms/step - loss: 0.2898 - accuracy: 0.8901 - val_loss: 0.3301 - val_accuracy: 0.8818\n",
      "Epoch 17/20\n",
      "1500/1500 [==============================] - 3s 2ms/step - loss: 0.2825 - accuracy: 0.8939 - val_loss: 0.3240 - val_accuracy: 0.8872\n"
     ]
    },
    {
     "data": {
      "text/plain": [
       "<keras.callbacks.History at 0x23210de4400>"
      ]
     },
     "execution_count": 8,
     "metadata": {},
     "output_type": "execute_result"
    }
   ],
   "source": [
    "m4 = my_m([\n",
    "    keras.layers.Dense(100, activation = 'relu'), \n",
    "    keras.layers.Dropout(0.3)\n",
    "])\n",
    "\n",
    "ck_p = keras.callbacks.ModelCheckpoint('best2_m.h5', save_best_only = True)\n",
    "e_st = keras.callbacks.EarlyStopping(patience = 3, restore_best_weights = True)\n",
    "# 평가점수 그래프가 3번 연속으로 발산하면 학습을 멈춤\n",
    "# 멈춘 시점부터 처음까지 가장 좋은 가중치 값으로 기록\n",
    "m4.fit(t_x, t_y, epochs = 20, validation_data = (v_x, v_y), callbacks = [ck_p, e_st])"
   ]
  },
  {
   "cell_type": "code",
   "execution_count": 9,
   "id": "1472d7bf",
   "metadata": {},
   "outputs": [
    {
     "name": "stdout",
     "output_type": "stream",
     "text": [
      "375/375 [==============================] - 0s 1ms/step - loss: 0.3189 - accuracy: 0.8843\n"
     ]
    },
    {
     "data": {
      "text/plain": [
       "[0.31886282563209534, 0.8843333125114441]"
      ]
     },
     "execution_count": 9,
     "metadata": {},
     "output_type": "execute_result"
    }
   ],
   "source": [
    "m4.evaluate(v_x, v_y)"
   ]
  },
  {
   "cell_type": "code",
   "execution_count": 10,
   "id": "2f46d843",
   "metadata": {},
   "outputs": [],
   "source": [
    "def sig(x):\n",
    "    return 1 / (1 + np.exp(-x))"
   ]
  },
  {
   "cell_type": "code",
   "execution_count": 16,
   "id": "b11941a4",
   "metadata": {},
   "outputs": [
    {
     "data": {
      "image/png": "[encoded data removed]",
      "text/plain": [
       "<Figure size 432x288 with 1 Axes>"
      ]
     },
     "metadata": {
      "needs_background": "light"
     },
     "output_type": "display_data"
    }
   ],
   "source": [
    "x = np.linspace(-5, 5, 200)\n",
    "\n",
    "plt.plot([-5, 5], [0, 0])\n",
    "plt.plot([-5, 5], [1, 1])\n",
    "plt.plot([0, 0], [-0.2, 1.2])\n",
    "plt.plot([-5, 5], [-3 / 4, 7 / 4])\n",
    "plt.plot(x, sig(x))\n",
    "plt.grid(True)\n",
    "plt.axis([-5, 5, -0.2, 1.2])\n",
    "plt.show()"
   ]
  },
  {
   "cell_type": "code",
   "execution_count": null,
   "id": "5786d463",
   "metadata": {},
   "outputs": [],
   "source": []
  }
 ],
 "metadata": {
  "kernelspec": {
   "display_name": "Python 3 (ipykernel)",
   "language": "python",
   "name": "python3"
  },
  "language_info": {
   "codemirror_mode": {
    "name": "ipython",
    "version": 3
   },
   "file_extension": ".py",
   "mimetype": "text/x-python",
   "name": "python",
   "nbconvert_exporter": "python",
   "pygments_lexer": "ipython3",
   "version": "3.9.7"
  }
 },
 "nbformat": 4,
 "nbformat_minor": 5
}
