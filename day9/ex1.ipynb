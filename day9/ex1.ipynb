{
 "cells": [
  {
   "cell_type": "code",
   "execution_count": 41,
   "id": "bb2be74b",
   "metadata": {},
   "outputs": [],
   "source": [
    "from tensorflow import keras\n",
    "import numpy as np\n",
    "import tensorflow as tf\n",
    "\n",
    "(t_x, t_y), (tt_x, tt_y) = keras.datasets.fashion_mnist.load_data()\n",
    "\n",
    "s_t_x = t_x / 255.0\n",
    "s_tt_x = tt_x / 255.0\n",
    "s_t_x = s_t_x.reshape(-1, 28 * 28)"
   ]
  },
  {
   "cell_type": "code",
   "execution_count": 2,
   "id": "71d91e15",
   "metadata": {},
   "outputs": [],
   "source": [
    "from sklearn.model_selection import train_test_split\n",
    "\n",
    "t_x, v_x, t_y, v_y = train_test_split(s_t_x, t_y, test_size = 0.2, random_state = 42)"
   ]
  },
  {
   "cell_type": "code",
   "execution_count": 3,
   "id": "ca2c0458",
   "metadata": {},
   "outputs": [],
   "source": [
    "dense1 = keras.layers.Dense(100, activation = 'sigmoid', input_shape = (784,))  # 입력노드 784개, 출력노드 100개\n",
    "dense2 = keras.layers.Dense(10, activation = 'softmax')\n",
    "\n",
    "model = keras.Sequential([dense1, dense2])"
   ]
  },
  {
   "cell_type": "code",
   "execution_count": 4,
   "id": "8e738368",
   "metadata": {},
   "outputs": [
    {
     "name": "stdout",
     "output_type": "stream",
     "text": [
      "Model: \"sequential\"\n",
      "_________________________________________________________________\n",
      " Layer (type)                Output Shape              Param #   \n",
      "=================================================================\n",
      " dense (Dense)               (None, 100)               78500     \n",
      "                                                                 \n",
      " dense_1 (Dense)             (None, 10)                1010      \n",
      "                                                                 \n",
      "=================================================================\n",
      "Total params: 79,510\n",
      "Trainable params: 79,510\n",
      "Non-trainable params: 0\n",
      "_________________________________________________________________\n"
     ]
    }
   ],
   "source": [
    "model.summary()"
   ]
  },
  {
   "cell_type": "code",
   "execution_count": 5,
   "id": "a0506212",
   "metadata": {},
   "outputs": [],
   "source": [
    "model = keras.Sequential([keras.layers.Dense(100, activation = 'sigmoid', input_shape = (784,), name = 'hidden'), \n",
    "                          keras.layers.Dense(10, activation = 'softmax', name = 'output')], name = 'model1')"
   ]
  },
  {
   "cell_type": "code",
   "execution_count": 6,
   "id": "02f133bf",
   "metadata": {},
   "outputs": [
    {
     "name": "stdout",
     "output_type": "stream",
     "text": [
      "Model: \"model1\"\n",
      "_________________________________________________________________\n",
      " Layer (type)                Output Shape              Param #   \n",
      "=================================================================\n",
      " hidden (Dense)              (None, 100)               78500     \n",
      "                                                                 \n",
      " output (Dense)              (None, 10)                1010      \n",
      "                                                                 \n",
      "=================================================================\n",
      "Total params: 79,510\n",
      "Trainable params: 79,510\n",
      "Non-trainable params: 0\n",
      "_________________________________________________________________\n"
     ]
    }
   ],
   "source": [
    "model.summary()"
   ]
  },
  {
   "cell_type": "code",
   "execution_count": 7,
   "id": "5d7f7f7b",
   "metadata": {},
   "outputs": [
    {
     "name": "stdout",
     "output_type": "stream",
     "text": [
      "Model: \"model2\"\n",
      "_________________________________________________________________\n",
      " Layer (type)                Output Shape              Param #   \n",
      "=================================================================\n",
      " hidden (Dense)              (None, 100)               78500     \n",
      "                                                                 \n",
      " output (Dense)              (None, 10)                1010      \n",
      "                                                                 \n",
      "=================================================================\n",
      "Total params: 79,510\n",
      "Trainable params: 79,510\n",
      "Non-trainable params: 0\n",
      "_________________________________________________________________\n"
     ]
    }
   ],
   "source": [
    "model = keras.Sequential(name = 'model2')\n",
    "model.add(keras.layers.Dense(100, activation = 'sigmoid', input_shape = (784,), name = 'hidden'))\n",
    "model.add(keras.layers.Dense(10, activation = 'softmax', name = 'output'))\n",
    "model.summary()"
   ]
  },
  {
   "cell_type": "code",
   "execution_count": 8,
   "id": "82d00d0a",
   "metadata": {},
   "outputs": [
    {
     "name": "stdout",
     "output_type": "stream",
     "text": [
      "Epoch 1/10\n",
      "1500/1500 [==============================] - 4s 2ms/step - loss: 0.5645 - accuracy: 0.8072\n",
      "Epoch 2/10\n",
      "1500/1500 [==============================] - 3s 2ms/step - loss: 0.4070 - accuracy: 0.8538\n",
      "Epoch 3/10\n",
      "1500/1500 [==============================] - 4s 2ms/step - loss: 0.3715 - accuracy: 0.8652\n",
      "Epoch 4/10\n",
      "1500/1500 [==============================] - 3s 2ms/step - loss: 0.3494 - accuracy: 0.8731\n",
      "Epoch 5/10\n",
      "1500/1500 [==============================] - 2s 2ms/step - loss: 0.3323 - accuracy: 0.8791\n",
      "Epoch 6/10\n",
      "1500/1500 [==============================] - 2s 2ms/step - loss: 0.3184 - accuracy: 0.8838\n",
      "Epoch 7/10\n",
      "1500/1500 [==============================] - 3s 2ms/step - loss: 0.3070 - accuracy: 0.8876\n",
      "Epoch 8/10\n",
      "1500/1500 [==============================] - 4s 3ms/step - loss: 0.2975 - accuracy: 0.8928\n",
      "Epoch 9/10\n",
      "1500/1500 [==============================] - 4s 3ms/step - loss: 0.2885 - accuracy: 0.8958\n",
      "Epoch 10/10\n",
      "1500/1500 [==============================] - 2s 1ms/step - loss: 0.2807 - accuracy: 0.8969\n"
     ]
    },
    {
     "data": {
      "text/plain": [
       "<keras.callbacks.History at 0x21f439abc40>"
      ]
     },
     "execution_count": 8,
     "metadata": {},
     "output_type": "execute_result"
    }
   ],
   "source": [
    "model.compile(loss = 'sparse_categorical_crossentropy', metrics = 'accuracy')\n",
    "model.fit(t_x, t_y, epochs = 10)"
   ]
  },
  {
   "cell_type": "code",
   "execution_count": 9,
   "id": "d0caab46",
   "metadata": {},
   "outputs": [
    {
     "name": "stdout",
     "output_type": "stream",
     "text": [
      "Model: \"model3\"\n",
      "_________________________________________________________________\n",
      " Layer (type)                Output Shape              Param #   \n",
      "=================================================================\n",
      " flatten (Flatten)           (None, 784)               0         \n",
      "                                                                 \n",
      " hidden (Dense)              (None, 100)               78500     \n",
      "                                                                 \n",
      " output (Dense)              (None, 10)                1010      \n",
      "                                                                 \n",
      "=================================================================\n",
      "Total params: 79,510\n",
      "Trainable params: 79,510\n",
      "Non-trainable params: 0\n",
      "_________________________________________________________________\n"
     ]
    }
   ],
   "source": [
    "model = keras.Sequential(name = 'model3')\n",
    "model.add(keras.layers.Flatten(input_shape = (28, 28)))  # 입력 노드를 직접 설정가능.\n",
    "model.add(keras.layers.Dense(100, activation = 'relu', name = 'hidden'))\n",
    "model.add(keras.layers.Dense(10, activation = 'softmax', name = 'output'))\n",
    "model.summary()"
   ]
  },
  {
   "cell_type": "code",
   "execution_count": 10,
   "id": "91c3b06b",
   "metadata": {},
   "outputs": [],
   "source": [
    "(t_x, t_y), (tt_x, tt_y) = keras.datasets.fashion_mnist.load_data()\n",
    "\n",
    "s_t_x = t_x / 255.0\n",
    "t_x, v_x, t_y, v_y = train_test_split(s_t_x, t_y, test_size = 0.2, random_state = 42)"
   ]
  },
  {
   "cell_type": "code",
   "execution_count": 11,
   "id": "d0b44f3b",
   "metadata": {},
   "outputs": [
    {
     "name": "stdout",
     "output_type": "stream",
     "text": [
      "Epoch 1/5\n",
      "1500/1500 [==============================] - 3s 2ms/step - loss: 0.5320 - accuracy: 0.8125\n",
      "Epoch 2/5\n",
      "1500/1500 [==============================] - 3s 2ms/step - loss: 0.3930 - accuracy: 0.8588\n",
      "Epoch 3/5\n",
      "1500/1500 [==============================] - 4s 2ms/step - loss: 0.3572 - accuracy: 0.8715\n",
      "Epoch 4/5\n",
      "1500/1500 [==============================] - 4s 2ms/step - loss: 0.3333 - accuracy: 0.8807\n",
      "Epoch 5/5\n",
      "1500/1500 [==============================] - 5s 3ms/step - loss: 0.3190 - accuracy: 0.8867\n"
     ]
    },
    {
     "data": {
      "text/plain": [
       "<keras.callbacks.History at 0x21f43e07ee0>"
      ]
     },
     "execution_count": 11,
     "metadata": {},
     "output_type": "execute_result"
    }
   ],
   "source": [
    "model.compile(loss = 'sparse_categorical_crossentropy', metrics = 'accuracy')\n",
    "model.fit(t_x, t_y, epochs = 5)"
   ]
  },
  {
   "cell_type": "code",
   "execution_count": 12,
   "id": "6a2e053f",
   "metadata": {},
   "outputs": [
    {
     "name": "stdout",
     "output_type": "stream",
     "text": [
      "375/375 [==============================] - 0s 957us/step - loss: 0.3791 - accuracy: 0.8736\n"
     ]
    },
    {
     "data": {
      "text/plain": [
       "[0.37909048795700073, 0.8735833168029785]"
      ]
     },
     "execution_count": 12,
     "metadata": {},
     "output_type": "execute_result"
    }
   ],
   "source": [
    "model.evaluate(v_x, v_y)"
   ]
  },
  {
   "cell_type": "code",
   "execution_count": 13,
   "id": "45a9dec9",
   "metadata": {},
   "outputs": [],
   "source": [
    "model.compile(optimizer= 'sgd', loss = 'sparse_categorical_crossentropy', metrics = 'accuracy')"
   ]
  },
  {
   "cell_type": "code",
   "execution_count": 14,
   "id": "948b6b66",
   "metadata": {},
   "outputs": [],
   "source": [
    "# 옵티마이저를 직접 설정해서 넣을 수 있음\n",
    "sgd = keras.optimizers.SGD(learning_rate = 0.1)\n",
    "model.compile(loss = 'sparse_categorical_crossentropy', metrics = 'accuracy')"
   ]
  },
  {
   "cell_type": "code",
   "execution_count": 15,
   "id": "d3495104",
   "metadata": {},
   "outputs": [],
   "source": [
    "# 모멘텀 기법 추가 (https://beoks.tistory.com/30)\n",
    "sgd = keras.optimizers.SGD(momentum = 0.9, nesterov = True)"
   ]
  },
  {
   "cell_type": "code",
   "execution_count": 16,
   "id": "3515a3dd",
   "metadata": {},
   "outputs": [
    {
     "data": {
      "text/plain": [
       "keras.optimizer_v2.rmsprop.RMSprop"
      ]
     },
     "execution_count": 16,
     "metadata": {},
     "output_type": "execute_result"
    }
   ],
   "source": [
    "keras.optimizers.RMSprop  # 기본 설정 옵티마이저"
   ]
  },
  {
   "cell_type": "code",
   "execution_count": 17,
   "id": "63eb1884",
   "metadata": {},
   "outputs": [
    {
     "data": {
      "text/plain": [
       "keras.optimizer_v2.adagrad.Adagrad"
      ]
     },
     "execution_count": 17,
     "metadata": {},
     "output_type": "execute_result"
    }
   ],
   "source": [
    "keras.optimizers.Adagrad  # 가장 많이 씀"
   ]
  },
  {
   "cell_type": "code",
   "execution_count": 18,
   "id": "7cba9610",
   "metadata": {},
   "outputs": [
    {
     "name": "stdout",
     "output_type": "stream",
     "text": [
      "Model: \"sequential_1\"\n",
      "_________________________________________________________________\n",
      " Layer (type)                Output Shape              Param #   \n",
      "=================================================================\n",
      " flatten_1 (Flatten)         (None, 784)               0         \n",
      "                                                                 \n",
      " hidden (Dense)              (None, 100)               78500     \n",
      "                                                                 \n",
      " output (Dense)              (None, 10)                1010      \n",
      "                                                                 \n",
      "=================================================================\n",
      "Total params: 79,510\n",
      "Trainable params: 79,510\n",
      "Non-trainable params: 0\n",
      "_________________________________________________________________\n"
     ]
    }
   ],
   "source": [
    "model1 = keras.Sequential()\n",
    "model1.add(keras.layers.Flatten(input_shape = (28, 28)))\n",
    "model1.add(keras.layers.Dense(100, activation = 'relu', name = 'hidden'))\n",
    "model1.add(keras.layers.Dense(10, activation = 'softmax', name = 'output'))\n",
    "model1.summary()"
   ]
  },
  {
   "cell_type": "code",
   "execution_count": 21,
   "id": "1f7e4a22",
   "metadata": {},
   "outputs": [
    {
     "name": "stdout",
     "output_type": "stream",
     "text": [
      "Epoch 1/5\n",
      "1500/1500 [==============================] - 2s 1ms/step - loss: 0.2925 - accuracy: 0.8930\n",
      "Epoch 2/5\n",
      "1500/1500 [==============================] - 2s 1ms/step - loss: 0.2798 - accuracy: 0.8972\n",
      "Epoch 3/5\n",
      "1500/1500 [==============================] - 2s 1ms/step - loss: 0.2675 - accuracy: 0.9018\n",
      "Epoch 4/5\n",
      "1500/1500 [==============================] - 2s 1ms/step - loss: 0.2567 - accuracy: 0.9046\n",
      "Epoch 5/5\n",
      "1500/1500 [==============================] - 2s 1ms/step - loss: 0.2495 - accuracy: 0.9082\n"
     ]
    },
    {
     "data": {
      "text/plain": [
       "<keras.callbacks.History at 0x21f35df1070>"
      ]
     },
     "execution_count": 21,
     "metadata": {},
     "output_type": "execute_result"
    }
   ],
   "source": [
    "model1.compile(optimizer = 'adam', loss = 'sparse_categorical_crossentropy', metrics = 'accuracy')\n",
    "model1.fit(t_x, t_y, epochs = 5)"
   ]
  },
  {
   "cell_type": "code",
   "execution_count": 22,
   "id": "919b62ae",
   "metadata": {},
   "outputs": [
    {
     "name": "stdout",
     "output_type": "stream",
     "text": [
      "375/375 [==============================] - 0s 1ms/step - loss: 0.3791 - accuracy: 0.8736\n",
      "375/375 [==============================] - 0s 944us/step - loss: 0.3123 - accuracy: 0.8888\n"
     ]
    },
    {
     "data": {
      "text/plain": [
       "([0.37909048795700073, 0.8735833168029785],\n",
       " [0.3122565448284149, 0.8887500166893005])"
      ]
     },
     "execution_count": 22,
     "metadata": {},
     "output_type": "execute_result"
    }
   ],
   "source": [
    "model.evaluate(v_x, v_y), model1.evaluate(v_x, v_y)\n",
    "# adam이 성능이 더 좋게 나오지만 항상 그렇지는 않음\n",
    "# 입력한 데이터에 따라 다르기 때문에 데이터에 맞는 옵티마이저 선택이 중요"
   ]
  },
  {
   "cell_type": "markdown",
   "id": "2019d197",
   "metadata": {},
   "source": [
    "# 정리"
   ]
  },
  {
   "cell_type": "markdown",
   "id": "72325121",
   "metadata": {},
   "source": [
    "### 데이터 확인"
   ]
  },
  {
   "cell_type": "code",
   "execution_count": 24,
   "id": "919f2065",
   "metadata": {},
   "outputs": [
    {
     "data": {
      "text/plain": [
       "(48000, 28, 28)"
      ]
     },
     "execution_count": 24,
     "metadata": {},
     "output_type": "execute_result"
    }
   ],
   "source": [
    "t_x.shape"
   ]
  },
  {
   "cell_type": "code",
   "execution_count": 26,
   "id": "2ca199af",
   "metadata": {},
   "outputs": [
    {
     "name": "stdout",
     "output_type": "stream",
     "text": [
      "Model: \"sequential_3\"\n",
      "_________________________________________________________________\n",
      " Layer (type)                Output Shape              Param #   \n",
      "=================================================================\n",
      " flatten_3 (Flatten)         (None, 784)               0         \n",
      "                                                                 \n",
      " dense_4 (Dense)             (None, 100)               78500     \n",
      "                                                                 \n",
      " dense_5 (Dense)             (None, 300)               30300     \n",
      "                                                                 \n",
      " dense_6 (Dense)             (None, 10)                3010      \n",
      "                                                                 \n",
      "=================================================================\n",
      "Total params: 111,810\n",
      "Trainable params: 111,810\n",
      "Non-trainable params: 0\n",
      "_________________________________________________________________\n"
     ]
    }
   ],
   "source": [
    "m1 = keras.Sequential()\n",
    "m1.add(keras.layers.Flatten(input_shape = (28, 28)))\n",
    "m1.add(keras.layers.Dense(100, activation = 'relu'))\n",
    "m1.add(keras.layers.Dense(300, activation = 'relu'))\n",
    "m1.add(keras.layers.Dense(10, activation = 'softmax'))\n",
    "m1.summary()"
   ]
  },
  {
   "cell_type": "code",
   "execution_count": 27,
   "id": "c8a93f03",
   "metadata": {},
   "outputs": [
    {
     "name": "stdout",
     "output_type": "stream",
     "text": [
      "Epoch 1/30\n",
      "1500/1500 [==============================] - 4s 3ms/step - loss: 0.5037 - accuracy: 0.8170 - val_loss: 0.4048 - val_accuracy: 0.8528\n",
      "Epoch 2/30\n",
      "1500/1500 [==============================] - 4s 2ms/step - loss: 0.3699 - accuracy: 0.8631 - val_loss: 0.3540 - val_accuracy: 0.8712\n",
      "Epoch 3/30\n",
      "1500/1500 [==============================] - 6s 4ms/step - loss: 0.3334 - accuracy: 0.8755 - val_loss: 0.3622 - val_accuracy: 0.8702\n",
      "Epoch 4/30\n",
      "1500/1500 [==============================] - 5s 3ms/step - loss: 0.3092 - accuracy: 0.8854 - val_loss: 0.3412 - val_accuracy: 0.8748\n",
      "Epoch 5/30\n",
      "1500/1500 [==============================] - 3s 2ms/step - loss: 0.2908 - accuracy: 0.8914 - val_loss: 0.3483 - val_accuracy: 0.8748\n",
      "Epoch 6/30\n",
      "1500/1500 [==============================] - 4s 3ms/step - loss: 0.2746 - accuracy: 0.8965 - val_loss: 0.3466 - val_accuracy: 0.8789\n",
      "Epoch 7/30\n",
      "1500/1500 [==============================] - 4s 3ms/step - loss: 0.2616 - accuracy: 0.8999 - val_loss: 0.3257 - val_accuracy: 0.8788\n",
      "Epoch 8/30\n",
      "1500/1500 [==============================] - 7s 4ms/step - loss: 0.2488 - accuracy: 0.9059 - val_loss: 0.3255 - val_accuracy: 0.8825\n",
      "Epoch 9/30\n",
      "1500/1500 [==============================] - 4s 3ms/step - loss: 0.2390 - accuracy: 0.9093 - val_loss: 0.3324 - val_accuracy: 0.8862\n",
      "Epoch 10/30\n",
      "1500/1500 [==============================] - 6s 4ms/step - loss: 0.2305 - accuracy: 0.9126 - val_loss: 0.3313 - val_accuracy: 0.8866\n",
      "Epoch 11/30\n",
      "1500/1500 [==============================] - 4s 2ms/step - loss: 0.2214 - accuracy: 0.9153 - val_loss: 0.3340 - val_accuracy: 0.8848\n",
      "Epoch 12/30\n",
      "1500/1500 [==============================] - 5s 4ms/step - loss: 0.2133 - accuracy: 0.9182 - val_loss: 0.3365 - val_accuracy: 0.8888\n",
      "Epoch 13/30\n",
      "1500/1500 [==============================] - 4s 3ms/step - loss: 0.2059 - accuracy: 0.9202 - val_loss: 0.3277 - val_accuracy: 0.8901\n",
      "Epoch 14/30\n",
      "1500/1500 [==============================] - 4s 3ms/step - loss: 0.1977 - accuracy: 0.9248 - val_loss: 0.3450 - val_accuracy: 0.8900\n",
      "Epoch 15/30\n",
      "1500/1500 [==============================] - 4s 3ms/step - loss: 0.1931 - accuracy: 0.9259 - val_loss: 0.3410 - val_accuracy: 0.8882\n",
      "Epoch 16/30\n",
      "1500/1500 [==============================] - 3s 2ms/step - loss: 0.1848 - accuracy: 0.9288 - val_loss: 0.3411 - val_accuracy: 0.8888\n",
      "Epoch 17/30\n",
      "1500/1500 [==============================] - 3s 2ms/step - loss: 0.1802 - accuracy: 0.9304 - val_loss: 0.3393 - val_accuracy: 0.8901\n",
      "Epoch 18/30\n",
      "1500/1500 [==============================] - 3s 2ms/step - loss: 0.1691 - accuracy: 0.9345 - val_loss: 0.3710 - val_accuracy: 0.8863\n",
      "Epoch 19/30\n",
      "1500/1500 [==============================] - 4s 2ms/step - loss: 0.1660 - accuracy: 0.9359 - val_loss: 0.3498 - val_accuracy: 0.8905\n",
      "Epoch 20/30\n",
      "1500/1500 [==============================] - 3s 2ms/step - loss: 0.1594 - accuracy: 0.9383 - val_loss: 0.3626 - val_accuracy: 0.8942\n",
      "Epoch 21/30\n",
      "1500/1500 [==============================] - 3s 2ms/step - loss: 0.1570 - accuracy: 0.9393 - val_loss: 0.3706 - val_accuracy: 0.8928\n",
      "Epoch 22/30\n",
      "1500/1500 [==============================] - 6s 4ms/step - loss: 0.1519 - accuracy: 0.9413 - val_loss: 0.3931 - val_accuracy: 0.8930\n",
      "Epoch 23/30\n",
      "1500/1500 [==============================] - 5s 3ms/step - loss: 0.1472 - accuracy: 0.9432 - val_loss: 0.3904 - val_accuracy: 0.8926\n",
      "Epoch 24/30\n",
      "1500/1500 [==============================] - 3s 2ms/step - loss: 0.1419 - accuracy: 0.9444 - val_loss: 0.4158 - val_accuracy: 0.8864\n",
      "Epoch 25/30\n",
      "1500/1500 [==============================] - 5s 3ms/step - loss: 0.1393 - accuracy: 0.9460 - val_loss: 0.3988 - val_accuracy: 0.8941\n",
      "Epoch 26/30\n",
      "1500/1500 [==============================] - 3s 2ms/step - loss: 0.1362 - accuracy: 0.9479 - val_loss: 0.4041 - val_accuracy: 0.8945\n",
      "Epoch 27/30\n",
      "1500/1500 [==============================] - 4s 3ms/step - loss: 0.1322 - accuracy: 0.9495 - val_loss: 0.4384 - val_accuracy: 0.8920\n",
      "Epoch 28/30\n",
      "1500/1500 [==============================] - 4s 3ms/step - loss: 0.1285 - accuracy: 0.9509 - val_loss: 0.4326 - val_accuracy: 0.8923\n",
      "Epoch 29/30\n",
      "1500/1500 [==============================] - 4s 3ms/step - loss: 0.1248 - accuracy: 0.9519 - val_loss: 0.4569 - val_accuracy: 0.8901\n",
      "Epoch 30/30\n",
      "1500/1500 [==============================] - 4s 3ms/step - loss: 0.1213 - accuracy: 0.9531 - val_loss: 0.4473 - val_accuracy: 0.8936\n"
     ]
    }
   ],
   "source": [
    "m1.compile(optimizer = 'adam', loss = 'sparse_categorical_crossentropy', metrics = 'accuracy')\n",
    "history = m1.fit(t_x, t_y, epochs = 30, validation_data = (v_x, v_y))"
   ]
  },
  {
   "cell_type": "code",
   "execution_count": 28,
   "id": "bb3d179b",
   "metadata": {},
   "outputs": [
    {
     "data": {
      "text/plain": [
       "{'verbose': 1, 'epochs': 30, 'steps': 1500}"
      ]
     },
     "execution_count": 28,
     "metadata": {},
     "output_type": "execute_result"
    }
   ],
   "source": [
    "history.params"
   ]
  },
  {
   "cell_type": "code",
   "execution_count": 29,
   "id": "e20b34cc",
   "metadata": {},
   "outputs": [
    {
     "data": {
      "text/plain": [
       "dict_keys(['loss', 'accuracy', 'val_loss', 'val_accuracy'])"
      ]
     },
     "execution_count": 29,
     "metadata": {},
     "output_type": "execute_result"
    }
   ],
   "source": [
    "history.history.keys()"
   ]
  },
  {
   "cell_type": "code",
   "execution_count": 30,
   "id": "36d9c02b",
   "metadata": {},
   "outputs": [
    {
     "data": {
      "text/plain": [
       "(0.0, 1.0)"
      ]
     },
     "execution_count": 30,
     "metadata": {},
     "output_type": "execute_result"
    },
    {
     "data": {
      "image/png": "[encoded data removed]",
      "text/plain": [
       "<Figure size 576x360 with 1 Axes>"
      ]
     },
     "metadata": {
      "needs_background": "light"
     },
     "output_type": "display_data"
    }
   ],
   "source": [
    "import pandas as pd\n",
    "import matplotlib.pyplot as plt\n",
    "\n",
    "pd.DataFrame(history.history).plot(figsize = (8, 5))\n",
    "plt.grid(True)\n",
    "plt.gca().set_ylim(0, 1)\n",
    "\n",
    "# loss를 보면 과대적합이 발생한 것을 볼 수 있음"
   ]
  },
  {
   "cell_type": "code",
   "execution_count": 31,
   "id": "2bc18346",
   "metadata": {},
   "outputs": [
    {
     "name": "stdout",
     "output_type": "stream",
     "text": [
      "Model: \"sequential_4\"\n",
      "_________________________________________________________________\n",
      " Layer (type)                Output Shape              Param #   \n",
      "=================================================================\n",
      " flatten_4 (Flatten)         (None, 784)               0         \n",
      "                                                                 \n",
      " dense_7 (Dense)             (None, 300)               235500    \n",
      "                                                                 \n",
      " dense_8 (Dense)             (None, 100)               30100     \n",
      "                                                                 \n",
      " dense_9 (Dense)             (None, 10)                1010      \n",
      "                                                                 \n",
      "=================================================================\n",
      "Total params: 266,610\n",
      "Trainable params: 266,610\n",
      "Non-trainable params: 0\n",
      "_________________________________________________________________\n"
     ]
    }
   ],
   "source": [
    "m2 = keras.Sequential()\n",
    "m2.add(keras.layers.Flatten(input_shape = (28, 28)))\n",
    "m2.add(keras.layers.Dense(300, activation = 'relu'))\n",
    "m2.add(keras.layers.Dense(100, activation = 'relu'))\n",
    "m2.add(keras.layers.Dense(10, activation = 'softmax'))\n",
    "m2.summary()"
   ]
  },
  {
   "cell_type": "code",
   "execution_count": 32,
   "id": "6b80cc7d",
   "metadata": {},
   "outputs": [
    {
     "name": "stdout",
     "output_type": "stream",
     "text": [
      "Epoch 1/20\n",
      "1500/1500 [==============================] - 7s 5ms/step - loss: 0.4954 - accuracy: 0.8214 - val_loss: 0.4126 - val_accuracy: 0.8501\n",
      "Epoch 2/20\n",
      "1500/1500 [==============================] - 5s 3ms/step - loss: 0.3704 - accuracy: 0.8628 - val_loss: 0.3804 - val_accuracy: 0.8612\n",
      "Epoch 3/20\n",
      "1500/1500 [==============================] - 6s 4ms/step - loss: 0.3335 - accuracy: 0.8763 - val_loss: 0.3571 - val_accuracy: 0.8707\n",
      "Epoch 4/20\n",
      "1500/1500 [==============================] - 6s 4ms/step - loss: 0.3068 - accuracy: 0.8867 - val_loss: 0.3580 - val_accuracy: 0.8736\n",
      "Epoch 5/20\n",
      "1500/1500 [==============================] - 6s 4ms/step - loss: 0.2883 - accuracy: 0.8926 - val_loss: 0.3511 - val_accuracy: 0.8707\n",
      "Epoch 6/20\n",
      "1500/1500 [==============================] - 5s 3ms/step - loss: 0.2737 - accuracy: 0.8974 - val_loss: 0.3186 - val_accuracy: 0.8850\n",
      "Epoch 7/20\n",
      "1500/1500 [==============================] - 5s 3ms/step - loss: 0.2589 - accuracy: 0.9030 - val_loss: 0.3239 - val_accuracy: 0.8857\n",
      "Epoch 8/20\n",
      "1500/1500 [==============================] - 6s 4ms/step - loss: 0.2477 - accuracy: 0.9065 - val_loss: 0.3203 - val_accuracy: 0.8855\n",
      "Epoch 9/20\n",
      "1500/1500 [==============================] - 7s 5ms/step - loss: 0.2398 - accuracy: 0.9102 - val_loss: 0.3233 - val_accuracy: 0.8898\n",
      "Epoch 10/20\n",
      "1500/1500 [==============================] - 4s 3ms/step - loss: 0.2292 - accuracy: 0.9135 - val_loss: 0.3200 - val_accuracy: 0.8903\n",
      "Epoch 11/20\n",
      "1500/1500 [==============================] - 5s 3ms/step - loss: 0.2213 - accuracy: 0.9158 - val_loss: 0.3722 - val_accuracy: 0.8758\n",
      "Epoch 12/20\n",
      "1500/1500 [==============================] - 7s 4ms/step - loss: 0.2121 - accuracy: 0.9194 - val_loss: 0.3444 - val_accuracy: 0.8833\n",
      "Epoch 13/20\n",
      "1500/1500 [==============================] - 7s 5ms/step - loss: 0.2021 - accuracy: 0.9229 - val_loss: 0.3379 - val_accuracy: 0.8860\n",
      "Epoch 14/20\n",
      "1500/1500 [==============================] - 4s 3ms/step - loss: 0.1966 - accuracy: 0.9243 - val_loss: 0.3402 - val_accuracy: 0.8917\n",
      "Epoch 15/20\n",
      "1500/1500 [==============================] - 6s 4ms/step - loss: 0.1917 - accuracy: 0.9274 - val_loss: 0.3481 - val_accuracy: 0.8895\n",
      "Epoch 16/20\n",
      "1500/1500 [==============================] - 6s 4ms/step - loss: 0.1817 - accuracy: 0.9312 - val_loss: 0.3412 - val_accuracy: 0.8913\n",
      "Epoch 17/20\n",
      "1500/1500 [==============================] - 6s 4ms/step - loss: 0.1773 - accuracy: 0.9336 - val_loss: 0.3381 - val_accuracy: 0.8933\n",
      "Epoch 18/20\n",
      "1500/1500 [==============================] - 7s 5ms/step - loss: 0.1722 - accuracy: 0.9359 - val_loss: 0.3551 - val_accuracy: 0.8938\n",
      "Epoch 19/20\n",
      "1500/1500 [==============================] - 6s 4ms/step - loss: 0.1674 - accuracy: 0.9360 - val_loss: 0.3727 - val_accuracy: 0.8863\n",
      "Epoch 20/20\n",
      "1500/1500 [==============================] - 7s 4ms/step - loss: 0.1604 - accuracy: 0.9403 - val_loss: 0.3881 - val_accuracy: 0.8883\n"
     ]
    }
   ],
   "source": [
    "m2.compile(optimizer = 'adam', loss = 'sparse_categorical_crossentropy', metrics = 'accuracy')\n",
    "history1 = m2.fit(t_x, t_y, epochs = 20, validation_data = (v_x, v_y))"
   ]
  },
  {
   "cell_type": "code",
   "execution_count": 33,
   "id": "bf5c39b0",
   "metadata": {},
   "outputs": [
    {
     "data": {
      "text/plain": [
       "(0.0, 1.0)"
      ]
     },
     "execution_count": 33,
     "metadata": {},
     "output_type": "execute_result"
    },
    {
     "data": {
      "image/png": "[encoded data removed]",
      "text/plain": [
       "<Figure size 576x360 with 1 Axes>"
      ]
     },
     "metadata": {
      "needs_background": "light"
     },
     "output_type": "display_data"
    }
   ],
   "source": [
    "pd.DataFrame(history1.history).plot(figsize = (8, 5))\n",
    "plt.gca().set_ylim(0, 1)\n",
    "\n",
    "# 수식의 수가 많아짐에 따라서 과대적합되는 속도도 빨라짐"
   ]
  },
  {
   "cell_type": "code",
   "execution_count": 34,
   "id": "8e8523d0",
   "metadata": {},
   "outputs": [
    {
     "name": "stdout",
     "output_type": "stream",
     "text": [
      "Model: \"sequential_5\"\n",
      "_________________________________________________________________\n",
      " Layer (type)                Output Shape              Param #   \n",
      "=================================================================\n",
      " flatten_5 (Flatten)         (None, 784)               0         \n",
      "                                                                 \n",
      " dense_10 (Dense)            (None, 300)               235500    \n",
      "                                                                 \n",
      " dense_11 (Dense)            (None, 100)               30100     \n",
      "                                                                 \n",
      " dense_12 (Dense)            (None, 10)                1010      \n",
      "                                                                 \n",
      "=================================================================\n",
      "Total params: 266,610\n",
      "Trainable params: 266,610\n",
      "Non-trainable params: 0\n",
      "_________________________________________________________________\n"
     ]
    }
   ],
   "source": [
    "m3 = keras.Sequential()\n",
    "m3.add(keras.layers.Flatten(input_shape = (28, 28)))\n",
    "m3.add(keras.layers.Dense(300, activation = 'relu'))\n",
    "m3.add(keras.layers.Dense(100, activation = 'relu'))\n",
    "m3.add(keras.layers.Dense(10, activation = 'softmax'))\n",
    "m3.summary()"
   ]
  },
  {
   "cell_type": "code",
   "execution_count": 35,
   "id": "2e8d06b8",
   "metadata": {},
   "outputs": [
    {
     "name": "stdout",
     "output_type": "stream",
     "text": [
      "Epoch 1/20\n",
      "1500/1500 [==============================] - 4s 3ms/step - loss: 0.7558 - accuracy: 0.7543 - val_loss: 0.5746 - val_accuracy: 0.7924\n",
      "Epoch 2/20\n",
      "1500/1500 [==============================] - 3s 2ms/step - loss: 0.5013 - accuracy: 0.8245 - val_loss: 0.4726 - val_accuracy: 0.8367\n",
      "Epoch 3/20\n",
      "1500/1500 [==============================] - 6s 4ms/step - loss: 0.4521 - accuracy: 0.8423 - val_loss: 0.4364 - val_accuracy: 0.8492\n",
      "Epoch 4/20\n",
      "1500/1500 [==============================] - 6s 4ms/step - loss: 0.4242 - accuracy: 0.8511 - val_loss: 0.4134 - val_accuracy: 0.8576\n",
      "Epoch 5/20\n",
      "1500/1500 [==============================] - 5s 3ms/step - loss: 0.4027 - accuracy: 0.8587 - val_loss: 0.4122 - val_accuracy: 0.8575\n",
      "Epoch 6/20\n",
      "1500/1500 [==============================] - 4s 3ms/step - loss: 0.3881 - accuracy: 0.8636 - val_loss: 0.3927 - val_accuracy: 0.8618\n",
      "Epoch 7/20\n",
      "1500/1500 [==============================] - 6s 4ms/step - loss: 0.3723 - accuracy: 0.8684 - val_loss: 0.3773 - val_accuracy: 0.8692\n",
      "Epoch 8/20\n",
      "1500/1500 [==============================] - 3s 2ms/step - loss: 0.3602 - accuracy: 0.8726 - val_loss: 0.3726 - val_accuracy: 0.8686\n",
      "Epoch 9/20\n",
      "1500/1500 [==============================] - 3s 2ms/step - loss: 0.3505 - accuracy: 0.8756 - val_loss: 0.3685 - val_accuracy: 0.8699\n",
      "Epoch 10/20\n",
      "1500/1500 [==============================] - 3s 2ms/step - loss: 0.3397 - accuracy: 0.8795 - val_loss: 0.3592 - val_accuracy: 0.8708\n",
      "Epoch 11/20\n",
      "1500/1500 [==============================] - 3s 2ms/step - loss: 0.3306 - accuracy: 0.8821 - val_loss: 0.3519 - val_accuracy: 0.8748\n",
      "Epoch 12/20\n",
      "1500/1500 [==============================] - 3s 2ms/step - loss: 0.3236 - accuracy: 0.8838 - val_loss: 0.3682 - val_accuracy: 0.8696\n",
      "Epoch 13/20\n",
      "1500/1500 [==============================] - 4s 2ms/step - loss: 0.3153 - accuracy: 0.8879 - val_loss: 0.3398 - val_accuracy: 0.8794\n",
      "Epoch 14/20\n",
      "1500/1500 [==============================] - 4s 3ms/step - loss: 0.3082 - accuracy: 0.8897 - val_loss: 0.3655 - val_accuracy: 0.8699\n",
      "Epoch 15/20\n",
      "1500/1500 [==============================] - 7s 5ms/step - loss: 0.3034 - accuracy: 0.8919 - val_loss: 0.3398 - val_accuracy: 0.8802\n",
      "Epoch 16/20\n",
      "1500/1500 [==============================] - 6s 4ms/step - loss: 0.2955 - accuracy: 0.8950 - val_loss: 0.3443 - val_accuracy: 0.8789\n",
      "Epoch 17/20\n",
      "1500/1500 [==============================] - 4s 3ms/step - loss: 0.2902 - accuracy: 0.8961 - val_loss: 0.3376 - val_accuracy: 0.8777\n",
      "Epoch 18/20\n",
      "1500/1500 [==============================] - 5s 3ms/step - loss: 0.2843 - accuracy: 0.8982 - val_loss: 0.3260 - val_accuracy: 0.8853\n",
      "Epoch 19/20\n",
      "1500/1500 [==============================] - 6s 4ms/step - loss: 0.2790 - accuracy: 0.9001 - val_loss: 0.3535 - val_accuracy: 0.8717\n",
      "Epoch 20/20\n",
      "1500/1500 [==============================] - 5s 4ms/step - loss: 0.2738 - accuracy: 0.9012 - val_loss: 0.3475 - val_accuracy: 0.8748\n"
     ]
    }
   ],
   "source": [
    "# 옵티마이저 sgd로 변경\n",
    "m3.compile(optimizer = 'sgd', loss = 'sparse_categorical_crossentropy', metrics = 'accuracy')\n",
    "history2 = m3.fit(t_x, t_y, epochs = 20, validation_data = (v_x, v_y))"
   ]
  },
  {
   "cell_type": "code",
   "execution_count": 37,
   "id": "5afb09cd",
   "metadata": {},
   "outputs": [
    {
     "data": {
      "text/plain": [
       "(0.0, 1.0)"
      ]
     },
     "execution_count": 37,
     "metadata": {},
     "output_type": "execute_result"
    },
    {
     "data": {
      "image/png": "[encoded data removed]",
      "text/plain": [
       "<Figure size 576x360 with 1 Axes>"
      ]
     },
     "metadata": {
      "needs_background": "light"
     },
     "output_type": "display_data"
    }
   ],
   "source": [
    "pd.DataFrame(history2.history).plot(figsize = (8, 5))\n",
    "plt.gca().set_ylim(0, 1)\n",
    "\n",
    "# 옵티마이저에 따라 손실률, 정확도가 달라짐\n",
    "# 그래프를 확인하면서 손실률이 낮아지는지, 정확도가 높아지는지 확인해야함\n",
    "# 손실률이 낮아지지 않으면 과소적합"
   ]
  },
  {
   "cell_type": "code",
   "execution_count": 42,
   "id": "c0e46b88",
   "metadata": {},
   "outputs": [
    {
     "name": "stdout",
     "output_type": "stream",
     "text": [
      "313/313 [==============================] - 1s 4ms/step - loss: 0.3790 - accuracy: 0.8642\n"
     ]
    },
    {
     "data": {
      "text/plain": [
       "[0.37902456521987915, 0.8641999959945679]"
      ]
     },
     "execution_count": 42,
     "metadata": {},
     "output_type": "execute_result"
    }
   ],
   "source": [
    "m3.evaluate(s_tt_x, tt_y)"
   ]
  },
  {
   "cell_type": "code",
   "execution_count": 43,
   "id": "1e68e44e",
   "metadata": {},
   "outputs": [
    {
     "name": "stdout",
     "output_type": "stream",
     "text": [
      "313/313 [==============================] - 1s 3ms/step - loss: 0.4218 - accuracy: 0.8839\n"
     ]
    },
    {
     "data": {
      "text/plain": [
       "[0.4217817485332489, 0.883899986743927]"
      ]
     },
     "execution_count": 43,
     "metadata": {},
     "output_type": "execute_result"
    }
   ],
   "source": [
    "m2.evaluate(s_tt_x, tt_y)"
   ]
  },
  {
   "cell_type": "code",
   "execution_count": 44,
   "id": "5de6a6af",
   "metadata": {},
   "outputs": [
    {
     "name": "stdout",
     "output_type": "stream",
     "text": [
      "313/313 [==============================] - 1s 2ms/step - loss: 0.4955 - accuracy: 0.8911\n"
     ]
    },
    {
     "data": {
      "text/plain": [
       "[0.4955378770828247, 0.8910999894142151]"
      ]
     },
     "execution_count": 44,
     "metadata": {},
     "output_type": "execute_result"
    }
   ],
   "source": [
    "m1.evaluate(s_tt_x, tt_y)"
   ]
  }
 ],
 "metadata": {
  "kernelspec": {
   "display_name": "Python 3 (ipykernel)",
   "language": "python",
   "name": "python3"
  },
  "language_info": {
   "codemirror_mode": {
    "name": "ipython",
    "version": 3
   },
   "file_extension": ".py",
   "mimetype": "text/x-python",
   "name": "python",
   "nbconvert_exporter": "python",
   "pygments_lexer": "ipython3",
   "version": "3.9.7"
  }
 },
 "nbformat": 4,
 "nbformat_minor": 5
}
