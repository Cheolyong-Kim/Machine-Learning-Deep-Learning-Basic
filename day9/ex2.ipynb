{
 "cells": [
  {
   "cell_type": "code",
   "execution_count": 11,
   "id": "1b526791",
   "metadata": {},
   "outputs": [
    {
     "data": {
      "text/plain": [
       "(8,)"
      ]
     },
     "execution_count": 11,
     "metadata": {},
     "output_type": "execute_result"
    }
   ],
   "source": [
    "from sklearn.datasets import fetch_california_housing\n",
    "from sklearn.model_selection import train_test_split\n",
    "from sklearn.preprocessing import StandardScaler\n",
    "from tensorflow import keras\n",
    "import tensorflow as tf\n",
    "import numpy as np\n",
    "import pandas as pd\n",
    "import matplotlib.pyplot as plt\n",
    "\n",
    "np.random.seed(42)\n",
    "tf.random.set_seed(42)\n",
    "\n",
    "data = fetch_california_housing()\n",
    "in_data = StandardScaler().fit_transform(data.data)\n",
    "x_data, tt_x, y_data, tt_y = train_test_split(in_data, data.target, random_state = 42)\n",
    "t_x, v_x, t_y, v_y = train_test_split(x_data, y_data, random_state = 42, test_size = 0.2)\n",
    "\n",
    "t_x.shape[1:]  # 입력 데이터의 차원의 형상"
   ]
  },
  {
   "cell_type": "code",
   "execution_count": 5,
   "id": "9af90eba",
   "metadata": {},
   "outputs": [
    {
     "name": "stdout",
     "output_type": "stream",
     "text": [
      "Model: \"sequential_1\"\n",
      "_________________________________________________________________\n",
      " Layer (type)                Output Shape              Param #   \n",
      "=================================================================\n",
      " flatten_1 (Flatten)         (None, 8)                 0         \n",
      "                                                                 \n",
      " dense_2 (Dense)             (None, 30)                270       \n",
      "                                                                 \n",
      " dense_3 (Dense)             (None, 1)                 31        \n",
      "                                                                 \n",
      "=================================================================\n",
      "Total params: 301\n",
      "Trainable params: 301\n",
      "Non-trainable params: 0\n",
      "_________________________________________________________________\n"
     ]
    }
   ],
   "source": [
    "m = keras.models.Sequential()\n",
    "m.add(keras.layers.Flatten(input_shape = t_x.shape[1:]))\n",
    "m.add(keras.layers.Dense(30, activation = 'relu'))\n",
    "m.add(keras.layers.Dense(1))\n",
    "m.summary()"
   ]
  },
  {
   "cell_type": "code",
   "execution_count": 8,
   "id": "8687fb0b",
   "metadata": {},
   "outputs": [
    {
     "data": {
      "image/png": "[encoded data removed]",
      "text/plain": [
       "<IPython.core.display.Image object>"
      ]
     },
     "execution_count": 8,
     "metadata": {},
     "output_type": "execute_result"
    }
   ],
   "source": [
    "keras.utils.plot_model(m, 'm.png', show_shapes = True)"
   ]
  },
  {
   "cell_type": "code",
   "execution_count": 9,
   "id": "48d7ef64",
   "metadata": {},
   "outputs": [
    {
     "name": "stdout",
     "output_type": "stream",
     "text": [
      "Epoch 1/20\n",
      "387/387 [==============================] - 1s 2ms/step - loss: 1.8849 - val_loss: 0.9229\n",
      "Epoch 2/20\n",
      "387/387 [==============================] - 1s 2ms/step - loss: 0.8487 - val_loss: 0.6999\n",
      "Epoch 3/20\n",
      "387/387 [==============================] - 1s 2ms/step - loss: 0.7132 - val_loss: 0.6389\n",
      "Epoch 4/20\n",
      "387/387 [==============================] - 0s 1ms/step - loss: 0.6635 - val_loss: 0.6023\n",
      "Epoch 5/20\n",
      "387/387 [==============================] - 0s 808us/step - loss: 0.6299 - val_loss: 0.5745\n",
      "Epoch 6/20\n",
      "387/387 [==============================] - 0s 798us/step - loss: 0.6035 - val_loss: 0.5526\n",
      "Epoch 7/20\n",
      "387/387 [==============================] - 0s 812us/step - loss: 0.5814 - val_loss: 0.5347\n",
      "Epoch 8/20\n",
      "387/387 [==============================] - 0s 818us/step - loss: 0.5631 - val_loss: 0.5199\n",
      "Epoch 9/20\n",
      "387/387 [==============================] - 0s 859us/step - loss: 0.5484 - val_loss: 0.5072\n",
      "Epoch 10/20\n",
      "387/387 [==============================] - 0s 898us/step - loss: 0.5355 - val_loss: 0.4968\n",
      "Epoch 11/20\n",
      "387/387 [==============================] - 0s 827us/step - loss: 0.5244 - val_loss: 0.4881\n",
      "Epoch 12/20\n",
      "387/387 [==============================] - 0s 823us/step - loss: 0.5150 - val_loss: 0.4805\n",
      "Epoch 13/20\n",
      "387/387 [==============================] - 0s 748us/step - loss: 0.5072 - val_loss: 0.4737\n",
      "Epoch 14/20\n",
      "387/387 [==============================] - 0s 814us/step - loss: 0.5001 - val_loss: 0.4678\n",
      "Epoch 15/20\n",
      "387/387 [==============================] - 0s 885us/step - loss: 0.4936 - val_loss: 0.4624\n",
      "Epoch 16/20\n",
      "387/387 [==============================] - 0s 786us/step - loss: 0.4882 - val_loss: 0.4580\n",
      "Epoch 17/20\n",
      "387/387 [==============================] - 0s 875us/step - loss: 0.4831 - val_loss: 0.4538\n",
      "Epoch 18/20\n",
      "387/387 [==============================] - 0s 758us/step - loss: 0.4788 - val_loss: 0.4510\n",
      "Epoch 19/20\n",
      "387/387 [==============================] - 0s 975us/step - loss: 0.4753 - val_loss: 0.4477\n",
      "Epoch 20/20\n",
      "387/387 [==============================] - 0s 1ms/step - loss: 0.4717 - val_loss: 0.4448\n",
      "162/162 [==============================] - 0s 678us/step - loss: 0.4766\n"
     ]
    }
   ],
   "source": [
    "m.compile(optimizer = keras.optimizers.SGD(learning_rate = 1e-3), loss = 'mean_squared_error')\n",
    "hy = m.fit(t_x, t_y, validation_data = (v_x, v_y), epochs = 20)\n",
    "t_hy = m.evaluate(tt_x, tt_y)"
   ]
  },
  {
   "cell_type": "code",
   "execution_count": 13,
   "id": "551ec146",
   "metadata": {},
   "outputs": [
    {
     "name": "stderr",
     "output_type": "stream",
     "text": [
      "No handles with labels found to put in legend.\n"
     ]
    },
    {
     "data": {
      "text/plain": [
       "<matplotlib.legend.Legend at 0x1fef7983ca0>"
      ]
     },
     "execution_count": 13,
     "metadata": {},
     "output_type": "execute_result"
    },
    {
     "data": {
      "image/png": "[encoded data removed]",
      "text/plain": [
       "<Figure size 432x288 with 1 Axes>"
      ]
     },
     "metadata": {
      "needs_background": "light"
     },
     "output_type": "display_data"
    }
   ],
   "source": [
    "plt.plot(pd.DataFrame(hy.history))\n",
    "# 손실이 0으로 수렴하지 않고 0.5 근처에서 유지되고 있음\n",
    "# 제대로 학습이 안되고 있음"
   ]
  },
  {
   "cell_type": "code",
   "execution_count": 14,
   "id": "12a28889",
   "metadata": {},
   "outputs": [
    {
     "data": {
      "text/plain": [
       "array([[-1.15248922, -0.2891866 , -0.49989596, -0.15697642, -0.02956174,\n",
       "         0.07768129,  0.20044873,  0.27936569],\n",
       "       [-0.70501534,  0.10810379, -0.1574771 ,  0.20430076,  0.12320645,\n",
       "        -0.03763415, -0.23028292,  0.05475686],\n",
       "       [-0.20558796,  1.85618152, -0.5868143 ,  0.1882305 , -0.1019721 ,\n",
       "        -0.164679  ,  1.01509336, -1.43265267]])"
      ]
     },
     "execution_count": 14,
     "metadata": {},
     "output_type": "execute_result"
    }
   ],
   "source": [
    "tt_x[:3]"
   ]
  },
  {
   "cell_type": "code",
   "execution_count": 15,
   "id": "58bc2d65",
   "metadata": {},
   "outputs": [
    {
     "data": {
      "text/plain": [
       "array([0.477  , 0.458  , 5.00001])"
      ]
     },
     "execution_count": 15,
     "metadata": {},
     "output_type": "execute_result"
    }
   ],
   "source": [
    "tt_y[:3]"
   ]
  },
  {
   "cell_type": "code",
   "execution_count": 16,
   "id": "382bae47",
   "metadata": {},
   "outputs": [
    {
     "data": {
      "text/plain": [
       "array([[0.68847674],\n",
       "       [1.4980192 ],\n",
       "       [2.9209414 ]], dtype=float32)"
      ]
     },
     "execution_count": 16,
     "metadata": {},
     "output_type": "execute_result"
    }
   ],
   "source": [
    "m.predict(tt_x[:3])"
   ]
  },
  {
   "cell_type": "code",
   "execution_count": null,
   "id": "e9c7d706",
   "metadata": {},
   "outputs": [],
   "source": []
  }
 ],
 "metadata": {
  "kernelspec": {
   "display_name": "Python 3 (ipykernel)",
   "language": "python",
   "name": "python3"
  },
  "language_info": {
   "codemirror_mode": {
    "name": "ipython",
    "version": 3
   },
   "file_extension": ".py",
   "mimetype": "text/x-python",
   "name": "python",
   "nbconvert_exporter": "python",
   "pygments_lexer": "ipython3",
   "version": "3.9.7"
  }
 },
 "nbformat": 4,
 "nbformat_minor": 5
}
