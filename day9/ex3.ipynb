{
 "cells": [
  {
   "cell_type": "code",
   "execution_count": 1,
   "id": "e5ed2f3f",
   "metadata": {},
   "outputs": [],
   "source": [
    "import tensorflow as tf\n",
    "from tensorflow import keras\n",
    "import numpy as np\n",
    "import pandas as pd\n",
    "import matplotlib.pyplot as plt\n",
    "\n",
    "(t_x,t_y),(tt_x,tt_y) = keras.datasets.fashion_mnist.load_data()\n",
    "s_t_x = t_x / 255.0\n",
    "s_tt_x = tt_x / 255.0\n",
    "\n",
    "from sklearn.model_selection import train_test_split\n",
    "t_x, v_x, t_y, v_y = train_test_split(s_t_x, t_y, test_size = 0.2, random_state = 42)"
   ]
  },
  {
   "cell_type": "code",
   "execution_count": 2,
   "id": "ef3cd2fe",
   "metadata": {},
   "outputs": [],
   "source": [
    "m = keras.Sequential()\n",
    "m.add(keras.layers.Flatten(input_shape = (28, 28)))#784\n",
    "m.add(keras.layers.Dense(100, activation = 'relu'))#100\n",
    "m.add(keras.layers.Dense(300, activation = 'relu'))#300\n",
    "m.add(keras.layers.Dense(10, activation = 'softmax'))\n",
    "m.compile(optimizer = 'sgd', loss = 'sparse_categorical_crossentropy')"
   ]
  },
  {
   "cell_type": "code",
   "execution_count": 3,
   "id": "7b88651a",
   "metadata": {},
   "outputs": [
    {
     "name": "stdout",
     "output_type": "stream",
     "text": [
      "Epoch 1/20\n",
      "1500/1500 [==============================] - 3s 2ms/step - loss: 0.8165 - val_loss: 0.5964\n",
      "Epoch 2/20\n",
      "1500/1500 [==============================] - 2s 2ms/step - loss: 0.5257 - val_loss: 0.4972\n",
      "Epoch 3/20\n",
      "1500/1500 [==============================] - 4s 2ms/step - loss: 0.4726 - val_loss: 0.4668\n",
      "Epoch 4/20\n",
      "1500/1500 [==============================] - 3s 2ms/step - loss: 0.4442 - val_loss: 0.4445\n",
      "Epoch 5/20\n",
      "1500/1500 [==============================] - 4s 2ms/step - loss: 0.4226 - val_loss: 0.4280\n",
      "Epoch 6/20\n",
      "1500/1500 [==============================] - 6s 4ms/step - loss: 0.4063 - val_loss: 0.4232\n",
      "Epoch 7/20\n",
      "1500/1500 [==============================] - 4s 3ms/step - loss: 0.3920 - val_loss: 0.4123\n",
      "Epoch 8/20\n",
      "1500/1500 [==============================] - 3s 2ms/step - loss: 0.3808 - val_loss: 0.4200\n",
      "Epoch 9/20\n",
      "1500/1500 [==============================] - 5s 3ms/step - loss: 0.3690 - val_loss: 0.3795\n",
      "Epoch 10/20\n",
      "1500/1500 [==============================] - 3s 2ms/step - loss: 0.3615 - val_loss: 0.3693\n",
      "Epoch 11/20\n",
      "1500/1500 [==============================] - 3s 2ms/step - loss: 0.3523 - val_loss: 0.3655\n",
      "Epoch 12/20\n",
      "1500/1500 [==============================] - 3s 2ms/step - loss: 0.3442 - val_loss: 0.3687\n",
      "Epoch 13/20\n",
      "1500/1500 [==============================] - 4s 3ms/step - loss: 0.3374 - val_loss: 0.3540\n",
      "Epoch 14/20\n",
      "1500/1500 [==============================] - 3s 2ms/step - loss: 0.3311 - val_loss: 0.3575\n",
      "Epoch 15/20\n",
      "1500/1500 [==============================] - 3s 2ms/step - loss: 0.3245 - val_loss: 0.3547\n",
      "Epoch 16/20\n",
      "1500/1500 [==============================] - 4s 3ms/step - loss: 0.3179 - val_loss: 0.3540\n",
      "Epoch 17/20\n",
      "1500/1500 [==============================] - 4s 3ms/step - loss: 0.3131 - val_loss: 0.3529\n",
      "Epoch 18/20\n",
      "1500/1500 [==============================] - 5s 3ms/step - loss: 0.3076 - val_loss: 0.3559\n",
      "Epoch 19/20\n",
      "1500/1500 [==============================] - 4s 3ms/step - loss: 0.3020 - val_loss: 0.3371\n",
      "Epoch 20/20\n",
      "1500/1500 [==============================] - 2s 2ms/step - loss: 0.2981 - val_loss: 0.3453\n"
     ]
    }
   ],
   "source": [
    "hy = m.fit(t_x, t_y, epochs = 20, validation_data = (v_x, v_y))"
   ]
  },
  {
   "cell_type": "code",
   "execution_count": 4,
   "id": "7c3ee2d4",
   "metadata": {},
   "outputs": [
    {
     "data": {
      "text/plain": [
       "[<matplotlib.lines.Line2D at 0x1fc0d708df0>]"
      ]
     },
     "execution_count": 4,
     "metadata": {},
     "output_type": "execute_result"
    },
    {
     "data": {
      "image/png": "[encoded data removed]",
      "text/plain": [
       "<Figure size 432x288 with 1 Axes>"
      ]
     },
     "metadata": {
      "needs_background": "light"
     },
     "output_type": "display_data"
    }
   ],
   "source": [
    "plt.plot(hy.history['loss'])\n",
    "plt.plot(hy.history['val_loss'])"
   ]
  },
  {
   "cell_type": "code",
   "execution_count": 5,
   "id": "0813eb3e",
   "metadata": {},
   "outputs": [],
   "source": [
    "m = keras.Sequential()\n",
    "m.add(keras.layers.Flatten(input_shape = (28,28)))#784\n",
    "m.add(keras.layers.Dense(100,activation = 'relu'))#100\n",
    "m.add(keras.layers.Dense(300,activation = 'relu'))#300\n",
    "m.add(keras.layers.Dense(10,activation = 'softmax'))\n",
    "m.compile(optimizer = 'adam', loss = 'sparse_categorical_crossentropy')"
   ]
  },
  {
   "cell_type": "code",
   "execution_count": 6,
   "id": "a7039225",
   "metadata": {},
   "outputs": [
    {
     "name": "stdout",
     "output_type": "stream",
     "text": [
      "Epoch 1/20\n",
      "1500/1500 [==============================] - 4s 3ms/step - loss: 0.4984 - val_loss: 0.4204\n",
      "Epoch 2/20\n",
      "1500/1500 [==============================] - 4s 3ms/step - loss: 0.3742 - val_loss: 0.3700\n",
      "Epoch 3/20\n",
      "1500/1500 [==============================] - 3s 2ms/step - loss: 0.3353 - val_loss: 0.3802\n",
      "Epoch 4/20\n",
      "1500/1500 [==============================] - 3s 2ms/step - loss: 0.3113 - val_loss: 0.3361\n",
      "Epoch 5/20\n",
      "1500/1500 [==============================] - 3s 2ms/step - loss: 0.2929 - val_loss: 0.3377\n",
      "Epoch 6/20\n",
      "1500/1500 [==============================] - 3s 2ms/step - loss: 0.2761 - val_loss: 0.3348\n",
      "Epoch 7/20\n",
      "1500/1500 [==============================] - 3s 2ms/step - loss: 0.2606 - val_loss: 0.3284\n",
      "Epoch 8/20\n",
      "1500/1500 [==============================] - 3s 2ms/step - loss: 0.2519 - val_loss: 0.3245\n",
      "Epoch 9/20\n",
      "1500/1500 [==============================] - 3s 2ms/step - loss: 0.2381 - val_loss: 0.3245\n",
      "Epoch 10/20\n",
      "1500/1500 [==============================] - 2s 2ms/step - loss: 0.2301 - val_loss: 0.3411\n",
      "Epoch 11/20\n",
      "1500/1500 [==============================] - 3s 2ms/step - loss: 0.2201 - val_loss: 0.3303\n",
      "Epoch 12/20\n",
      "1500/1500 [==============================] - 3s 2ms/step - loss: 0.2162 - val_loss: 0.3314\n",
      "Epoch 13/20\n",
      "1500/1500 [==============================] - 3s 2ms/step - loss: 0.2069 - val_loss: 0.3816\n",
      "Epoch 14/20\n",
      "1500/1500 [==============================] - 2s 2ms/step - loss: 0.1996 - val_loss: 0.3757\n",
      "Epoch 15/20\n",
      "1500/1500 [==============================] - 2s 2ms/step - loss: 0.1926 - val_loss: 0.3485\n",
      "Epoch 16/20\n",
      "1500/1500 [==============================] - 2s 2ms/step - loss: 0.1847 - val_loss: 0.3428\n",
      "Epoch 17/20\n",
      "1500/1500 [==============================] - 2s 2ms/step - loss: 0.1792 - val_loss: 0.3420\n",
      "Epoch 18/20\n",
      "1500/1500 [==============================] - 2s 2ms/step - loss: 0.1750 - val_loss: 0.3565\n",
      "Epoch 19/20\n",
      "1500/1500 [==============================] - 2s 2ms/step - loss: 0.1687 - val_loss: 0.3769\n",
      "Epoch 20/20\n",
      "1500/1500 [==============================] - 2s 2ms/step - loss: 0.1646 - val_loss: 0.3676\n"
     ]
    }
   ],
   "source": [
    "hy = m.fit(t_x, t_y, epochs = 20, validation_data = (v_x, v_y))"
   ]
  },
  {
   "cell_type": "code",
   "execution_count": 7,
   "id": "2386383c",
   "metadata": {},
   "outputs": [
    {
     "data": {
      "text/plain": [
       "[<matplotlib.lines.Line2D at 0x1fc0d736820>]"
      ]
     },
     "execution_count": 7,
     "metadata": {},
     "output_type": "execute_result"
    },
    {
     "data": {
      "image/png": "[encoded data removed]",
      "text/plain": [
       "<Figure size 432x288 with 1 Axes>"
      ]
     },
     "metadata": {
      "needs_background": "light"
     },
     "output_type": "display_data"
    }
   ],
   "source": [
    "plt.plot(hy.history['loss'])\n",
    "plt.plot(hy.history['val_loss'])"
   ]
  },
  {
   "cell_type": "code",
   "execution_count": 13,
   "id": "f1b7216f",
   "metadata": {},
   "outputs": [],
   "source": [
    "m = keras.Sequential()\n",
    "m.add(keras.layers.Flatten(input_shape = (28,28)))#784\n",
    "m.add(keras.layers.Dense(100,activation = 'relu'))#100\n",
    "m.add(keras.layers.Dropout(0.3))  # 입력 데이터의 노드 30퍼센트를 무작위로 0으로 만듦\n",
    "m.add(keras.layers.Dense(300,activation = 'relu'))#300\n",
    "m.add(keras.layers.Dense(10,activation = 'softmax'))\n",
    "m.compile(optimizer = 'adam', loss = 'sparse_categorical_crossentropy')"
   ]
  },
  {
   "cell_type": "code",
   "execution_count": 14,
   "id": "29fb6897",
   "metadata": {},
   "outputs": [
    {
     "name": "stdout",
     "output_type": "stream",
     "text": [
      "Epoch 1/20\n",
      "1500/1500 [==============================] - 9s 6ms/step - loss: 0.5789 - val_loss: 0.4162\n",
      "Epoch 2/20\n",
      "1500/1500 [==============================] - 4s 3ms/step - loss: 0.4353 - val_loss: 0.3775\n",
      "Epoch 3/20\n",
      "1500/1500 [==============================] - 4s 2ms/step - loss: 0.4011 - val_loss: 0.3856\n",
      "Epoch 4/20\n",
      "1500/1500 [==============================] - 2s 2ms/step - loss: 0.3826 - val_loss: 0.3500\n",
      "Epoch 5/20\n",
      "1500/1500 [==============================] - 3s 2ms/step - loss: 0.3649 - val_loss: 0.3462\n",
      "Epoch 6/20\n",
      "1500/1500 [==============================] - 4s 2ms/step - loss: 0.3541 - val_loss: 0.3440\n",
      "Epoch 7/20\n",
      "1500/1500 [==============================] - 3s 2ms/step - loss: 0.3406 - val_loss: 0.3354\n",
      "Epoch 8/20\n",
      "1500/1500 [==============================] - 4s 3ms/step - loss: 0.3298 - val_loss: 0.3215\n",
      "Epoch 9/20\n",
      "1500/1500 [==============================] - 4s 2ms/step - loss: 0.3263 - val_loss: 0.3194\n",
      "Epoch 10/20\n",
      "1500/1500 [==============================] - 4s 3ms/step - loss: 0.3187 - val_loss: 0.3268\n",
      "Epoch 11/20\n",
      "1500/1500 [==============================] - 5s 4ms/step - loss: 0.3135 - val_loss: 0.3313\n",
      "Epoch 12/20\n",
      "1500/1500 [==============================] - 2s 2ms/step - loss: 0.3071 - val_loss: 0.3189\n",
      "Epoch 13/20\n",
      "1500/1500 [==============================] - 3s 2ms/step - loss: 0.3001 - val_loss: 0.3166\n",
      "Epoch 14/20\n",
      "1500/1500 [==============================] - 6s 4ms/step - loss: 0.2987 - val_loss: 0.3109\n",
      "Epoch 15/20\n",
      "1500/1500 [==============================] - 3s 2ms/step - loss: 0.2923 - val_loss: 0.3194\n",
      "Epoch 16/20\n",
      "1500/1500 [==============================] - 3s 2ms/step - loss: 0.2852 - val_loss: 0.3103\n",
      "Epoch 17/20\n",
      "1500/1500 [==============================] - 2s 2ms/step - loss: 0.2844 - val_loss: 0.3234\n",
      "Epoch 18/20\n",
      "1500/1500 [==============================] - 3s 2ms/step - loss: 0.2827 - val_loss: 0.3099\n",
      "Epoch 19/20\n",
      "1500/1500 [==============================] - 2s 2ms/step - loss: 0.2741 - val_loss: 0.3073\n",
      "Epoch 20/20\n",
      "1500/1500 [==============================] - 3s 2ms/step - loss: 0.2781 - val_loss: 0.3168\n"
     ]
    }
   ],
   "source": [
    "hy = m.fit(t_x, t_y, epochs = 20, validation_data = (v_x, v_y))"
   ]
  },
  {
   "cell_type": "code",
   "execution_count": 15,
   "id": "46dc9dea",
   "metadata": {},
   "outputs": [
    {
     "data": {
      "text/plain": [
       "[<matplotlib.lines.Line2D at 0x1fc0c807a90>]"
      ]
     },
     "execution_count": 15,
     "metadata": {},
     "output_type": "execute_result"
    },
    {
     "data": {
      "image/png": "[encoded data removed]",
      "text/plain": [
       "<Figure size 432x288 with 1 Axes>"
      ]
     },
     "metadata": {
      "needs_background": "light"
     },
     "output_type": "display_data"
    }
   ],
   "source": [
    "plt.plot(hy.history['loss'])\n",
    "plt.plot(hy.history['val_loss'])\n",
    "# 드롭아웃으로 과대적합(발산)하지 않도록함"
   ]
  },
  {
   "cell_type": "code",
   "execution_count": 21,
   "id": "32bf7694",
   "metadata": {},
   "outputs": [
    {
     "name": "stdout",
     "output_type": "stream",
     "text": [
      "1500/1500 [==============================] - 2s 1ms/step - loss: 0.2315\n"
     ]
    },
    {
     "data": {
      "text/plain": [
       "0.23151524364948273"
      ]
     },
     "execution_count": 21,
     "metadata": {},
     "output_type": "execute_result"
    }
   ],
   "source": [
    "m.evaluate(t_x, t_y)"
   ]
  },
  {
   "cell_type": "code",
   "execution_count": 16,
   "id": "4ee42aaa",
   "metadata": {},
   "outputs": [
    {
     "data": {
      "text/plain": [
       "[<tf.Variable 'dense_12/kernel:0' shape=(784, 100) dtype=float32, numpy=\n",
       " array([[ 0.03266455, -0.0687893 , -0.00521716, ...,  0.09958383,\n",
       "         -0.12119594,  0.08173104],\n",
       "        [ 0.31661594, -0.04172389, -0.15064012, ...,  0.08058547,\n",
       "         -0.11411459,  0.05032703],\n",
       "        [-0.2734242 , -0.01837575, -0.32265136, ..., -0.00188267,\n",
       "         -0.24199387, -0.43575114],\n",
       "        ...,\n",
       "        [-0.10760627,  0.28695473,  0.1532182 , ...,  0.19914389,\n",
       "          0.07098247,  0.16618173],\n",
       "        [-0.4038744 , -0.002943  , -0.25255615, ..., -0.06990632,\n",
       "          0.38096356, -0.13392416],\n",
       "        [-0.01510096,  0.13867985, -0.01768639, ...,  0.28108191,\n",
       "         -0.00279966, -0.06856717]], dtype=float32)>,\n",
       " <tf.Variable 'dense_12/bias:0' shape=(100,) dtype=float32, numpy=\n",
       " array([-1.6140041e-01, -1.8444668e-01,  5.1878238e-01,  4.7753856e-01,\n",
       "        -4.7935709e-02,  2.6215893e-01, -3.0675662e-01,  1.8575120e-01,\n",
       "        -1.8715377e-01, -1.1153218e+00, -2.3497779e-02,  4.4256264e-01,\n",
       "         1.4182970e-01, -4.7147182e-01,  4.5295191e-01, -6.3046575e-01,\n",
       "         5.7038281e-02,  1.3546532e-01, -1.6483945e-01,  4.9068943e-01,\n",
       "        -5.6064850e-01, -1.8197784e-02, -9.6345626e-02, -4.1120082e-01,\n",
       "         2.2000068e-01,  4.9297071e-01,  3.4467748e-01,  4.7211665e-01,\n",
       "         3.4731737e-01, -2.7143690e-01, -5.8679409e-02,  2.7423364e-01,\n",
       "        -2.7543890e-01,  3.7823781e-01,  2.9648682e-01, -2.8144112e-01,\n",
       "         5.1185172e-02,  3.2970342e-01,  1.1329413e-02,  1.2329747e-01,\n",
       "         2.9378167e-01, -1.4638743e-01,  1.4023803e-02, -5.9968680e-02,\n",
       "         2.9153788e-01,  1.2385220e-01,  4.4875500e-01,  3.7265930e-01,\n",
       "         2.7958384e-01, -3.0429812e-02,  4.5154801e-01,  6.5983023e-04,\n",
       "         1.6991711e-01,  1.2580237e-01, -3.2599527e-02, -2.9134247e-01,\n",
       "        -4.4152817e-01,  8.4998764e-02,  1.4699540e-01,  3.3480665e-01,\n",
       "         6.5457457e-01,  6.3464504e-01,  1.9717081e-01,  1.2174538e-01,\n",
       "         4.1956395e-01, -1.5507460e-01,  5.0227225e-01,  6.0238671e-02,\n",
       "        -4.6570444e-01,  2.7220523e-01, -1.3087818e-01, -2.9605776e-01,\n",
       "         3.3275267e-01,  4.2222613e-01,  2.9060203e-01,  2.6023269e-01,\n",
       "         4.1546008e-01,  1.3545094e-01,  3.6857825e-02,  8.1561661e-01,\n",
       "        -3.1757462e-01,  3.5779944e-01,  4.9075201e-02,  5.9173521e-02,\n",
       "        -7.2019078e-02,  8.6794700e-03,  4.9303207e-01, -4.6582413e-01,\n",
       "         1.8899164e-01, -3.4266448e-01,  4.4987429e-02,  1.0154995e-01,\n",
       "        -3.5560468e-01,  2.5766283e-01, -2.0911269e-02,  2.1126151e-01,\n",
       "         4.6735460e-01,  3.2144153e-01, -3.1102815e-01, -3.3240700e-01],\n",
       "       dtype=float32)>,\n",
       " <tf.Variable 'dense_13/kernel:0' shape=(100, 300) dtype=float32, numpy=\n",
       " array([[-0.33327335, -0.06175339, -0.19546252, ..., -0.22764558,\n",
       "          0.04630883,  0.01001553],\n",
       "        [-0.1382376 ,  0.07870955, -0.15590534, ..., -0.06889468,\n",
       "          0.05079651,  0.06804623],\n",
       "        [ 0.05393628,  0.05059176,  0.12897687, ...,  0.11558691,\n",
       "         -0.044757  , -0.02989424],\n",
       "        ...,\n",
       "        [ 0.0983459 , -0.13071507,  0.00898564, ...,  0.21551044,\n",
       "          0.14868528, -0.19127218],\n",
       "        [ 0.01313192, -0.20249727, -0.13067633, ..., -0.00703903,\n",
       "         -0.05048794, -0.03050507],\n",
       "        [-0.18787582, -0.1228919 ,  0.1535436 , ..., -0.01475774,\n",
       "          0.02393138, -0.15916899]], dtype=float32)>,\n",
       " <tf.Variable 'dense_13/bias:0' shape=(300,) dtype=float32, numpy=\n",
       " array([ 2.21932173e-01,  6.04505062e-01, -3.10440928e-01, -5.68256117e-02,\n",
       "        -3.04812014e-01, -2.09410995e-01, -3.54984254e-01, -2.54161716e-01,\n",
       "        -3.18520784e-01, -2.67659370e-02,  1.89030752e-01,  6.39695227e-02,\n",
       "         5.71582794e-01,  4.02687013e-01,  1.70511395e-01,  1.41592965e-01,\n",
       "        -1.22483216e-01, -1.01752236e-01, -2.82728493e-01,  1.93649024e-01,\n",
       "        -2.33884946e-01,  4.74538863e-01,  1.86927602e-01,  2.18408331e-01,\n",
       "         2.92945296e-01, -1.50151283e-01,  4.04441714e-01,  1.32612228e-01,\n",
       "        -2.90869802e-01,  1.46279961e-01, -3.88573050e-01, -3.64531904e-01,\n",
       "         2.52316952e-01, -1.91331968e-01,  6.02837741e-01, -3.49802732e-01,\n",
       "        -1.57808557e-01,  3.04194748e-01,  3.30401003e-01, -1.17614597e-01,\n",
       "         1.35077894e-01,  2.14057326e-01,  8.31769854e-02,  1.09284045e-02,\n",
       "        -4.97140959e-02,  2.03113526e-01,  3.11167806e-01, -3.56153578e-01,\n",
       "        -1.53668329e-01,  2.49412730e-02,  2.91687369e-01,  6.27099216e-01,\n",
       "        -2.34058693e-01,  2.18430668e-01,  3.43640208e-01,  1.72128573e-01,\n",
       "         6.18088841e-02, -4.73782755e-02,  2.51130879e-01,  8.05957764e-02,\n",
       "        -7.35031217e-02,  8.47935155e-02,  1.36613846e-01, -2.99482495e-01,\n",
       "        -3.64286929e-01,  1.65073618e-01,  5.74445546e-01,  3.05520147e-01,\n",
       "         7.18994718e-03, -5.43304943e-02,  5.28521895e-01,  2.84033626e-01,\n",
       "        -2.91015893e-01, -1.70600548e-01,  4.11243498e-01,  9.71421693e-03,\n",
       "         5.16551025e-02, -2.42535710e-01,  3.92078549e-01, -1.91448584e-01,\n",
       "        -3.52736652e-01, -3.20755303e-01,  4.66529906e-01,  3.46151978e-01,\n",
       "         2.35093251e-01, -1.32426009e-01,  1.94253027e-01, -4.85636410e-04,\n",
       "         1.58633143e-01, -1.08819768e-01,  4.92387742e-01,  4.55065131e-01,\n",
       "         5.02796173e-01,  8.48535061e-01, -3.48017871e-01,  1.85400292e-01,\n",
       "        -3.87707446e-03, -9.03278142e-02, -2.30504006e-01,  5.17250359e-01,\n",
       "        -1.92675054e-01, -5.12697548e-02, -2.50132680e-01,  3.31586689e-01,\n",
       "         5.51471174e-01,  4.02280577e-02, -1.95538737e-02,  6.71078712e-02,\n",
       "         2.11230159e-01,  3.89570951e-01, -1.25123896e-02,  2.18408301e-01,\n",
       "         5.75368106e-01,  4.54026967e-01, -8.68338626e-03, -2.18460020e-02,\n",
       "         7.65222982e-02,  3.44216585e-01, -4.57666367e-02, -1.44116193e-01,\n",
       "         6.22296482e-02, -3.13977487e-02,  3.25987726e-01,  1.24441281e-01,\n",
       "        -1.66531444e-01,  4.52650845e-01, -2.58515179e-01, -1.72093466e-01,\n",
       "         2.66609043e-01,  2.51649916e-01, -1.75489634e-01,  5.07361889e-01,\n",
       "         2.05592752e-01, -3.38570289e-02, -2.11652711e-01, -3.85353833e-01,\n",
       "        -1.42473429e-01,  1.35546088e-01,  2.31197745e-01, -3.69979292e-01,\n",
       "        -9.43198875e-02,  4.83678073e-01, -2.43686378e-01,  2.55859960e-02,\n",
       "        -8.52425322e-02,  3.06963861e-01,  2.79642910e-01,  1.25641778e-01,\n",
       "        -3.72673303e-01,  1.82121322e-01,  2.04630882e-01, -3.26813720e-02,\n",
       "         6.57432824e-02, -5.26502840e-02, -2.26660982e-01,  2.12757081e-01,\n",
       "        -2.49698475e-01, -3.18287343e-01,  6.09057784e-01,  2.72154570e-01,\n",
       "        -8.01556259e-02,  1.43140525e-01, -5.29650748e-02, -1.23243958e-01,\n",
       "         1.09087043e-01, -7.47910440e-02,  4.27245423e-02,  4.37211722e-01,\n",
       "         2.13865727e-01,  3.70562673e-01,  1.80881545e-01,  3.49154055e-01,\n",
       "        -2.04509422e-01, -8.81586596e-02, -3.15630257e-01,  1.86228737e-01,\n",
       "         3.53662819e-02,  6.48043007e-02,  2.66641885e-01,  6.75181627e-01,\n",
       "         2.26601854e-01,  2.20891073e-01, -3.86447608e-01,  1.06300861e-01,\n",
       "         5.81412427e-02,  3.25863004e-01,  2.84273148e-01,  1.42264023e-01,\n",
       "         4.12867635e-01,  2.34514311e-01, -3.46816212e-01,  9.00862888e-02,\n",
       "        -1.01253159e-01,  3.84842545e-01, -1.71047449e-01,  3.85164231e-01,\n",
       "         1.14653386e-01,  2.95521140e-01, -1.08415566e-01, -1.85336441e-01,\n",
       "         2.66257495e-01,  3.49578917e-01,  4.47894275e-01, -3.59000683e-01,\n",
       "         6.94601759e-02,  2.25521162e-01,  2.59787351e-01, -3.59675772e-02,\n",
       "        -1.44032627e-01,  2.31799603e-01,  1.79222003e-01, -2.40066245e-01,\n",
       "        -1.08983412e-01,  5.05889297e-01,  4.01266843e-01, -2.74693280e-01,\n",
       "         3.61579984e-01,  2.78816164e-01, -4.35985513e-02,  1.10108219e-02,\n",
       "        -9.94245932e-02,  2.75963962e-01,  3.29417527e-01, -1.74488232e-01,\n",
       "        -5.91319129e-02, -2.98647583e-03,  3.15383643e-01,  1.81525201e-01,\n",
       "        -2.89312154e-01,  6.07625425e-01, -4.34305444e-02,  1.71336800e-01,\n",
       "        -2.28473008e-01, -1.50829572e-02,  1.83110554e-02,  4.26578015e-01,\n",
       "         5.58476865e-01, -2.79354870e-01, -3.26596469e-01,  2.96830922e-01,\n",
       "        -1.22357816e-01,  3.77970815e-01, -1.06896937e-03, -1.52650028e-01,\n",
       "         5.57749152e-01,  4.09983367e-01, -4.90515232e-02,  3.65518272e-01,\n",
       "         6.82235062e-02,  5.06191730e-01, -2.02708170e-02,  4.68912609e-02,\n",
       "         5.12023985e-01, -3.23950231e-01, -2.26270542e-01,  1.53663218e-01,\n",
       "        -1.09492436e-01, -3.28883082e-02,  4.00679469e-01,  2.80750841e-01,\n",
       "        -2.27704763e-01, -6.23358935e-02,  2.77920634e-01,  1.24510437e-01,\n",
       "         5.43929748e-02, -2.19372332e-01,  2.38885254e-01,  4.66787890e-02,\n",
       "         3.47842187e-01,  2.58748561e-01,  2.33125146e-02,  7.32616289e-03,\n",
       "         1.69338584e-02, -1.47198737e-01, -2.13202760e-01,  3.46196294e-01,\n",
       "         3.47607076e-01,  4.69780505e-01,  2.61496484e-01,  6.27851963e-01,\n",
       "         5.53144515e-01, -2.87732296e-02, -1.82691626e-02,  2.45337948e-01,\n",
       "        -4.78791356e-01,  5.29298186e-01, -8.85792822e-02,  1.47028446e-01,\n",
       "        -3.95714611e-01,  9.96067002e-02, -1.66208997e-01,  4.66135323e-01,\n",
       "        -1.11866124e-01,  5.97478030e-03, -4.50858995e-02, -3.36558849e-01,\n",
       "        -2.13443846e-01, -2.70255208e-02, -9.17416960e-02,  4.37870622e-02],\n",
       "       dtype=float32)>,\n",
       " <tf.Variable 'dense_14/kernel:0' shape=(300, 10) dtype=float32, numpy=\n",
       " array([[-0.26889345,  0.17999187, -0.00252102, ...,  0.11000732,\n",
       "         -0.10219154,  0.11269493],\n",
       "        [-0.02090437,  0.01635869, -0.24487397, ...,  0.16383396,\n",
       "         -0.17108004, -0.23270534],\n",
       "        [ 0.04892309, -0.04709616,  0.17268655, ..., -0.18227503,\n",
       "          0.2782316 , -0.06615739],\n",
       "        ...,\n",
       "        [ 0.02465011, -0.04233559,  0.00999343, ...,  0.07637217,\n",
       "          0.09211385, -0.31383777],\n",
       "        [ 0.04350138, -0.0371417 , -0.09305888, ...,  0.03665539,\n",
       "          0.14352858,  0.02388709],\n",
       "        [-0.07450843,  0.01189538,  0.04632353, ..., -0.08947945,\n",
       "          0.08857011,  0.11575577]], dtype=float32)>,\n",
       " <tf.Variable 'dense_14/bias:0' shape=(10,) dtype=float32, numpy=\n",
       " array([-0.06691565, -0.35327497, -0.01612121,  0.25947338, -0.21996209,\n",
       "         0.26462772,  0.15617628,  0.22822773, -0.02643216, -0.39719692],\n",
       "       dtype=float32)>]"
      ]
     },
     "execution_count": 16,
     "metadata": {},
     "output_type": "execute_result"
    }
   ],
   "source": [
    "m.weights"
   ]
  },
  {
   "cell_type": "code",
   "execution_count": 17,
   "id": "68ab76e4",
   "metadata": {},
   "outputs": [],
   "source": [
    "m.save_weights('m_1_w.h5')"
   ]
  },
  {
   "cell_type": "code",
   "execution_count": 18,
   "id": "b80195c8",
   "metadata": {},
   "outputs": [],
   "source": [
    "m.save('m1.h5')"
   ]
  },
  {
   "cell_type": "code",
   "execution_count": 20,
   "id": "3da1888c",
   "metadata": {},
   "outputs": [
    {
     "name": "stdout",
     "output_type": "stream",
     "text": [
      "1500/1500 [==============================] - 4s 2ms/step - loss: 2.3357\n"
     ]
    },
    {
     "data": {
      "text/plain": [
       "2.3356645107269287"
      ]
     },
     "execution_count": 20,
     "metadata": {},
     "output_type": "execute_result"
    }
   ],
   "source": [
    "m1 = keras.Sequential()\n",
    "m1.add(keras.layers.Flatten(input_shape = (28,28)))#784\n",
    "m1.add(keras.layers.Dense(100,activation = 'relu'))#100\n",
    "m1.add(keras.layers.Dropout(0.3))\n",
    "m1.add(keras.layers.Dense(300,activation = 'relu'))#300\n",
    "m1.add(keras.layers.Dense(10,activation = 'softmax'))\n",
    "m1.compile(optimizer = 'adam', loss = 'sparse_categorical_crossentropy')\n",
    "m1.evaluate(t_x, t_y)  # 가중치 값들이 없는 상태"
   ]
  },
  {
   "cell_type": "code",
   "execution_count": 22,
   "id": "8fb95e7a",
   "metadata": {},
   "outputs": [],
   "source": [
    "m1.load_weights('m_1_w.h5')"
   ]
  },
  {
   "cell_type": "code",
   "execution_count": 23,
   "id": "7ad49bb1",
   "metadata": {},
   "outputs": [
    {
     "name": "stdout",
     "output_type": "stream",
     "text": [
      "1500/1500 [==============================] - 2s 2ms/step - loss: 0.2315\n"
     ]
    },
    {
     "data": {
      "text/plain": [
       "0.23151524364948273"
      ]
     },
     "execution_count": 23,
     "metadata": {},
     "output_type": "execute_result"
    }
   ],
   "source": [
    "m1.evaluate(t_x, t_y)"
   ]
  },
  {
   "cell_type": "code",
   "execution_count": 24,
   "id": "80f644a2",
   "metadata": {},
   "outputs": [],
   "source": [
    "m2 = keras.models.load_model('m1.h5')"
   ]
  },
  {
   "cell_type": "code",
   "execution_count": 25,
   "id": "156f315b",
   "metadata": {},
   "outputs": [
    {
     "name": "stdout",
     "output_type": "stream",
     "text": [
      "1500/1500 [==============================] - 2s 1ms/step - loss: 0.2315\n"
     ]
    },
    {
     "data": {
      "text/plain": [
       "0.23151524364948273"
      ]
     },
     "execution_count": 25,
     "metadata": {},
     "output_type": "execute_result"
    }
   ],
   "source": [
    "m2.evaluate(t_x, t_y)"
   ]
  }
 ],
 "metadata": {
  "kernelspec": {
   "display_name": "Python 3 (ipykernel)",
   "language": "python",
   "name": "python3"
  },
  "language_info": {
   "codemirror_mode": {
    "name": "ipython",
    "version": 3
   },
   "file_extension": ".py",
   "mimetype": "text/x-python",
   "name": "python",
   "nbconvert_exporter": "python",
   "pygments_lexer": "ipython3",
   "version": "3.9.7"
  }
 },
 "nbformat": 4,
 "nbformat_minor": 5
}
