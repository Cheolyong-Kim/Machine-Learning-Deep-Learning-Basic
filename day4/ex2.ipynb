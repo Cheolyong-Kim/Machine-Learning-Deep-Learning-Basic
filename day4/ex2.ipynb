{
 "cells": [
  {
   "cell_type": "markdown",
   "id": "b7f09a20",
   "metadata": {},
   "source": [
    "# 다중 선형 회귀"
   ]
  },
  {
   "cell_type": "code",
   "execution_count": 1,
   "id": "342aa321",
   "metadata": {},
   "outputs": [],
   "source": [
    "import numpy as np\n",
    "import pandas as pd\n",
    "from sklearn.model_selection import train_test_split\n",
    "from sklearn.preprocessing import PolynomialFeatures, StandardScaler\n",
    "from sklearn.linear_model import LinearRegression, Ridge, Lasso\n",
    "import matplotlib.pyplot as plt"
   ]
  },
  {
   "cell_type": "code",
   "execution_count": 2,
   "id": "bec346a8",
   "metadata": {},
   "outputs": [],
   "source": [
    "# 데이터 가져오기\n",
    "df = pd.read_csv(\"perch_full.csv\")\n",
    "X = df.to_numpy()\n",
    "Y = np.array(\n",
    "    [5.9, 32.0, 40.0, 51.5, 70.0, 100.0, 78.0, 80.0, 85.0, 85.0, \n",
    "     110.0, 115.0, 125.0, 130.0, 120.0, 120.0, 130.0, 135.0, 110.0, \n",
    "     130.0, 150.0, 145.0, 150.0, 170.0, 225.0, 145.0, 188.0, 180.0, \n",
    "     197.0, 218.0, 300.0, 260.0, 265.0, 250.0, 250.0, 300.0, 320.0, \n",
    "     514.0, 556.0, 840.0, 685.0, 700.0, 700.0, 690.0, 900.0, 650.0, \n",
    "     820.0, 850.0, 900.0, 1015.0, 820.0, 1100.0, 1000.0, 1100.0, \n",
    "     1000.0, 1000.0]\n",
    "     )"
   ]
  },
  {
   "cell_type": "code",
   "execution_count": 3,
   "id": "0fa0e4c4",
   "metadata": {},
   "outputs": [],
   "source": [
    "# 학습 데이터와 테스트 데이터 분할\n",
    "t_x, tt_x, t_y, tt_y = train_test_split(X, Y, train_size= 0.7, random_state= 42)"
   ]
  },
  {
   "cell_type": "code",
   "execution_count": 4,
   "id": "54cca73d",
   "metadata": {},
   "outputs": [],
   "source": [
    "# 데이터 전처리\n",
    "\n",
    "# 데이터 피쳐 증가 (과소적합 방지)\n",
    "p_m = PolynomialFeatures(degree= 5, include_bias= False).fit(t_x) # 학습 데이터 기반으로 피쳐 증가\n",
    "p_t_x = p_m.transform(t_x)\n",
    "p_tt_x = p_m.transform(tt_x)\n",
    "\n",
    "# 데이터 밸런싱 작업 (과대적합 방지)\n",
    "ss = StandardScaler().fit(p_t_x)  # 한 쪽으로 치우친 피쳐 정보를 균등하게 정리\n",
    "sc_t_x = ss.transform(p_t_x)\n",
    "sc_tt_x = ss.transform(p_tt_x)"
   ]
  },
  {
   "cell_type": "code",
   "execution_count": 5,
   "id": "97de34bc",
   "metadata": {},
   "outputs": [
    {
     "data": {
      "text/plain": [
       "Ridge(alpha=0.1)"
      ]
     },
     "execution_count": 5,
     "metadata": {},
     "output_type": "execute_result"
    }
   ],
   "source": [
    "# 모델 생성 및 학습\n",
    "\n",
    "# 모델 생성\n",
    "lr = LinearRegression()\n",
    "lso = Lasso(alpha= 10)\n",
    "rg = Ridge(alpha= 0.1)\n",
    "\n",
    "# 학습\n",
    "lr.fit(sc_t_x, t_y)\n",
    "lso.fit(sc_t_x, t_y)\n",
    "rg.fit(sc_t_x, t_y)"
   ]
  },
  {
   "cell_type": "code",
   "execution_count": 6,
   "id": "2f1933fb",
   "metadata": {},
   "outputs": [
    {
     "name": "stdout",
     "output_type": "stream",
     "text": [
      "1.0 -26.192517921905765\n",
      "0.9897983159614501 0.9842243738800773\n",
      "0.9882059522438204 0.9834044009315154\n"
     ]
    }
   ],
   "source": [
    "# 테스트 및 검증\n",
    "\n",
    "y_p = lr.predict(sc_t_x)  # 예측값 생성\n",
    "t_s = lr.score(sc_t_x, t_y)  # 학습 데이터를 이용하여 점수 확인\n",
    "tt_s = lr.score(sc_tt_x, tt_y)  # 테스트 데이터를 이용하여 점수 확인\n",
    "print(t_s, tt_s)\n",
    "\n",
    "t_s = rg.score(sc_t_x, t_y)\n",
    "tt_s = rg.score(sc_tt_x, tt_y) \n",
    "print(t_s, tt_s)\n",
    "\n",
    "t_s = lso.score(sc_t_x, t_y)\n",
    "tt_s = lso.score(sc_tt_x, tt_y)\n",
    "print(t_s, tt_s)"
   ]
  }
 ],
 "metadata": {
  "kernelspec": {
   "display_name": "Python 3 (ipykernel)",
   "language": "python",
   "name": "python3"
  },
  "language_info": {
   "codemirror_mode": {
    "name": "ipython",
    "version": 3
   },
   "file_extension": ".py",
   "mimetype": "text/x-python",
   "name": "python",
   "nbconvert_exporter": "python",
   "pygments_lexer": "ipython3",
   "version": "3.9.7"
  }
 },
 "nbformat": 4,
 "nbformat_minor": 5
}
