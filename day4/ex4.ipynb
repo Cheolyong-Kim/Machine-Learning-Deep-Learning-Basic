{
 "cells": [
  {
   "cell_type": "code",
   "execution_count": 12,
   "id": "25987f9a",
   "metadata": {},
   "outputs": [
    {
     "name": "stdout",
     "output_type": "stream",
     "text": [
      "0.9243697478991597 0.925\n",
      "[[1. 0. 0. 0. 0. 0. 0.]]\n"
     ]
    }
   ],
   "source": [
    "import pandas as pd\n",
    "import numpy as np\n",
    "from sklearn.preprocessing import StandardScaler\n",
    "from sklearn.model_selection import train_test_split\n",
    "from sklearn.neighbors import KNeighborsClassifier\n",
    "from sklearn.linear_model import LogisticRegression\n",
    "import matplotlib.pyplot as plt\n",
    "\n",
    "data = pd.read_csv('data1_all.csv')\n",
    "data_X = data[['Weight', 'Length', 'Diagonal', 'Height', 'Width']].to_numpy()\n",
    "data_Y = data['Name'].to_numpy()\n",
    "\n",
    "ss = StandardScaler().fit(data_X)\n",
    "data_X = ss.transform(data_X)\n",
    "\n",
    "t_x, tt_x, t_y, tt_y = train_test_split(data_X, data_Y, random_state= 42)\n",
    "\n",
    "lr = LogisticRegression(C= 20, max_iter= 1000)  # 다중 분류\n",
    "lr.fit(t_x, t_y)\n",
    "print(lr.score(t_x, t_y), lr.score(tt_x, tt_y))\n",
    "\n",
    "d = lr.decision_function(t_x[:1])\n",
    "\n",
    "from scipy.special import softmax  # 다중 분류 소프트맥스 함수\n",
    "print(np.round(softmax(d), ))"
   ]
  },
  {
   "cell_type": "code",
   "execution_count": 3,
   "id": "4a6b2035",
   "metadata": {},
   "outputs": [
    {
     "data": {
      "text/plain": [
       "LogisticRegression()"
      ]
     },
     "execution_count": 3,
     "metadata": {},
     "output_type": "execute_result"
    }
   ],
   "source": [
    "i = (t_y == 'A') | (t_y == 'G')\n",
    "b_t_x = t_x[i]\n",
    "b_t_y = t_y[i]\n",
    "\n",
    "lr = LogisticRegression()\n",
    "lr.fit(b_t_x, b_t_y)"
   ]
  },
  {
   "cell_type": "code",
   "execution_count": 4,
   "id": "02ad754b",
   "metadata": {},
   "outputs": [
    {
     "data": {
      "text/plain": [
       "(array([[-0.41981254, -0.60056128, -0.68786241, -1.00159093, -0.74532495]]),\n",
       " array([-2.1898649]))"
      ]
     },
     "execution_count": 4,
     "metadata": {},
     "output_type": "execute_result"
    }
   ],
   "source": [
    "lr.coef_, lr.intercept_"
   ]
  },
  {
   "cell_type": "code",
   "execution_count": 8,
   "id": "cf519cce",
   "metadata": {},
   "outputs": [],
   "source": [
    "d = lr.decision_function(b_t_x[:1])  # 학습된 공식을 꺼냄"
   ]
  },
  {
   "cell_type": "code",
   "execution_count": 9,
   "id": "da54022d",
   "metadata": {},
   "outputs": [
    {
     "data": {
      "text/plain": [
       "array([0.00254817])"
      ]
     },
     "execution_count": 9,
     "metadata": {},
     "output_type": "execute_result"
    }
   ],
   "source": [
    "from scipy.special import expit  # 단일 분류 시그모이드 함수\n",
    "\n",
    "expit(d)"
   ]
  }
 ],
 "metadata": {
  "kernelspec": {
   "display_name": "Python 3 (ipykernel)",
   "language": "python",
   "name": "python3"
  },
  "language_info": {
   "codemirror_mode": {
    "name": "ipython",
    "version": 3
   },
   "file_extension": ".py",
   "mimetype": "text/x-python",
   "name": "python",
   "nbconvert_exporter": "python",
   "pygments_lexer": "ipython3",
   "version": "3.9.7"
  }
 },
 "nbformat": 4,
 "nbformat_minor": 5
}
