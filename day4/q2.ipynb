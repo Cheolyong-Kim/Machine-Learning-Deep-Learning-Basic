{
 "cells": [
  {
   "cell_type": "code",
   "execution_count": 1,
   "id": "ed155a15",
   "metadata": {},
   "outputs": [],
   "source": [
    "import numpy as np\n",
    "import pandas as pd\n",
    "from sklearn.model_selection import train_test_split\n",
    "from sklearn.preprocessing import PolynomialFeatures, StandardScaler\n",
    "from sklearn.linear_model import LinearRegression, Ridge, Lasso, SGDRegressor\n",
    "import matplotlib.pyplot as plt"
   ]
  },
  {
   "cell_type": "code",
   "execution_count": 2,
   "id": "bfa0fe56",
   "metadata": {},
   "outputs": [
    {
     "data": {
      "text/plain": [
       "dict_keys(['data', 'target', 'feature_names', 'DESCR', 'filename'])"
      ]
     },
     "execution_count": 2,
     "metadata": {},
     "output_type": "execute_result"
    }
   ],
   "source": [
    "from sklearn.datasets import load_boston\n",
    "\n",
    "b_data = load_boston()\n",
    "b_data.keys()"
   ]
  },
  {
   "cell_type": "code",
   "execution_count": 3,
   "id": "6be48ca7",
   "metadata": {},
   "outputs": [
    {
     "data": {
      "text/plain": [
       "(506,)"
      ]
     },
     "execution_count": 3,
     "metadata": {},
     "output_type": "execute_result"
    }
   ],
   "source": [
    "X = b_data.data\n",
    "Y = b_data.target\n",
    "\n",
    "Y.shape"
   ]
  },
  {
   "cell_type": "code",
   "execution_count": 4,
   "id": "35af6f03",
   "metadata": {},
   "outputs": [
    {
     "data": {
      "text/plain": [
       "(506, 1)"
      ]
     },
     "execution_count": 4,
     "metadata": {},
     "output_type": "execute_result"
    }
   ],
   "source": [
    "y_data = Y.reshape(-1, 1)\n",
    "y_data.shape"
   ]
  },
  {
   "cell_type": "code",
   "execution_count": 5,
   "id": "da534548",
   "metadata": {},
   "outputs": [],
   "source": [
    "from sklearn.preprocessing import MinMaxScaler\n",
    "\n",
    "mm_m = MinMaxScaler(feature_range= (0, 5)).fit(X)\n",
    "sc_x_data = mm_m.transform(X)"
   ]
  },
  {
   "cell_type": "code",
   "execution_count": 56,
   "id": "219375d7",
   "metadata": {},
   "outputs": [],
   "source": [
    "# 데이터 분류\n",
    "t_x, tt_x, t_y, tt_y = train_test_split(sc_x_data, y_data, random_state= 10)"
   ]
  },
  {
   "cell_type": "code",
   "execution_count": 57,
   "id": "ab153978",
   "metadata": {},
   "outputs": [
    {
     "name": "stderr",
     "output_type": "stream",
     "text": [
      "C:\\anaconda3\\lib\\site-packages\\sklearn\\utils\\validation.py:63: DataConversionWarning: A column-vector y was passed when a 1d array was expected. Please change the shape of y to (n_samples, ), for example using ravel().\n",
      "  return f(*args, **kwargs)\n"
     ]
    },
    {
     "data": {
      "text/plain": [
       "SGDRegressor(alpha=0.1)"
      ]
     },
     "execution_count": 57,
     "metadata": {},
     "output_type": "execute_result"
    }
   ],
   "source": [
    "# 모델 생성 및 학습\n",
    "lr = LinearRegression(fit_intercept= True, normalize= False)\n",
    "rg = Ridge(fit_intercept= True, alpha= 0.1, normalize= False)\n",
    "lso = Lasso(fit_intercept= True, alpha= 0.1, normalize= False)\n",
    "sgd = SGDRegressor(fit_intercept= True, alpha= 0.1, max_iter= 1000)\n",
    "\n",
    "lr.fit(t_x, t_y)\n",
    "rg.fit(t_x, t_y)\n",
    "lso.fit(t_x, t_y)\n",
    "sgd.fit(t_x, t_y)"
   ]
  },
  {
   "cell_type": "code",
   "execution_count": 58,
   "id": "25f3beef",
   "metadata": {},
   "outputs": [
    {
     "name": "stdout",
     "output_type": "stream",
     "text": [
      "0.7575686094674801 0.6745585065949402\n",
      "0.7575684841957252 0.6745476506883203\n",
      "0.7533819825998691 0.6721307653867756\n",
      "0.7014985114235619 0.5881283162637609\n"
     ]
    }
   ],
   "source": [
    "# 성능 평가\n",
    "lr_t_s = lr.score(t_x, t_y)\n",
    "lr_tt_s = lr.score(tt_x, tt_y)\n",
    "print(lr_t_s, lr_tt_s)\n",
    "\n",
    "rg_t_s = rg.score(t_x, t_y)\n",
    "rg_tt_s = rg.score(tt_x, tt_y)\n",
    "print(rg_t_s, rg_tt_s)\n",
    "\n",
    "lso_t_s = lso.score(t_x, t_y)\n",
    "lso_tt_s = lso.score(tt_x, tt_y)\n",
    "print(lso_t_s, lso_tt_s)\n",
    "\n",
    "sgd_t_s = sgd.score(t_x, t_y)\n",
    "sgd_tt_s = sgd.score(tt_x, tt_y)\n",
    "print(sgd_t_s, sgd_tt_s)"
   ]
  },
  {
   "cell_type": "code",
   "execution_count": 59,
   "id": "1d411fa5",
   "metadata": {},
   "outputs": [
    {
     "name": "stdout",
     "output_type": "stream",
     "text": [
      "3.857300907995506 5.695835030617262 0.6745585065949402\n",
      "3.857252955096328 5.6959300291635815 0.6745476506883203\n",
      "3.847956035420201 5.7170405633365124 0.6721307653867756\n",
      "4.268502300866182 6.407696124061427 0.5881283162637609\n"
     ]
    }
   ],
   "source": [
    "# 오차값 출력\n",
    "from sklearn.metrics import mean_absolute_error, mean_squared_error, r2_score\n",
    "\n",
    "lr_y_pred = lr.predict(tt_x)\n",
    "print(mean_absolute_error(tt_y, lr_y_pred), mean_squared_error(tt_y, lr_y_pred, squared= False), r2_score(tt_y, lr_y_pred))\n",
    "\n",
    "rg_y_pred = rg.predict(tt_x)\n",
    "print(mean_absolute_error(tt_y, rg_y_pred), mean_squared_error(tt_y, rg_y_pred, squared= False), r2_score(tt_y, rg_y_pred))\n",
    "\n",
    "lso_y_pred = lso.predict(tt_x)\n",
    "print(mean_absolute_error(tt_y, lso_y_pred), mean_squared_error(tt_y, lso_y_pred, squared= False), r2_score(tt_y, lso_y_pred))\n",
    "\n",
    "sgd_y_pred = sgd.predict(tt_x)\n",
    "print(mean_absolute_error(tt_y, sgd_y_pred), mean_squared_error(tt_y, sgd_y_pred, squared= False), r2_score(tt_y, sgd_y_pred))"
   ]
  },
  {
   "cell_type": "code",
   "execution_count": 60,
   "id": "a540c222",
   "metadata": {},
   "outputs": [
    {
     "data": {
      "image/png": "[encoded data removed]",
      "text/plain": [
       "<Figure size 432x288 with 1 Axes>"
      ]
     },
     "metadata": {
      "needs_background": "light"
     },
     "output_type": "display_data"
    }
   ],
   "source": [
    "plt.scatter(tt_y, sgd_y_pred)  # 예측값과 실제값으로 그래프를 그렸을 때 y=x에 가까운 선 모양이 나타나면 학습이 잘된 것\n",
    "plt.show()"
   ]
  }
 ],
 "metadata": {
  "kernelspec": {
   "display_name": "Python 3 (ipykernel)",
   "language": "python",
   "name": "python3"
  },
  "language_info": {
   "codemirror_mode": {
    "name": "ipython",
    "version": 3
   },
   "file_extension": ".py",
   "mimetype": "text/x-python",
   "name": "python",
   "nbconvert_exporter": "python",
   "pygments_lexer": "ipython3",
   "version": "3.9.7"
  }
 },
 "nbformat": 4,
 "nbformat_minor": 5
}
