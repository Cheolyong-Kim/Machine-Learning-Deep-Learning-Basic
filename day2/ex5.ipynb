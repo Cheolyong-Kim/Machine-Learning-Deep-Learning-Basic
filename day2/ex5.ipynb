{
 "cells": [
  {
   "cell_type": "code",
   "execution_count": 1,
   "id": "42923981",
   "metadata": {},
   "outputs": [
    {
     "data": {
      "text/plain": [
       "1.0"
      ]
     },
     "execution_count": 1,
     "metadata": {},
     "output_type": "execute_result"
    }
   ],
   "source": [
    "import pandas as pd\n",
    "import numpy as np\n",
    "import matplotlib.pyplot as plt\n",
    "from sklearn.neighbors import KNeighborsClassifier\n",
    "from sklearn.model_selection import train_test_split\n",
    "\n",
    "# 데이터 수집\n",
    "data = pd.read_csv('data.csv')\n",
    "X = pd.DataFrame(data, columns= ['D_length', 'D_weight'])\n",
    "Y = pd.DataFrame(data, columns= ['y'])\n",
    "np_X = np.array(X)\n",
    "np_Y = np.array(Y['y'], dtype= 'int')\n",
    "\n",
    "# 데이터 전처리\n",
    "mean = np.mean(np_X, axis= 0)\n",
    "std = np.std(np_X, axis= 0)\n",
    "\n",
    "sc_t_x = (np_X - mean) / std\n",
    "\n",
    "t_x, tt_x, t_y, tt_y = train_test_split(sc_t_x, np_Y, random_state= 10)\n",
    "\n",
    "# 모델 생성 및 학습\n",
    "kn = KNeighborsClassifier().fit(t_x, t_y)\n",
    "\n",
    "# 테스트 및 검증\n",
    "kn.score(tt_x, tt_y)"
   ]
  },
  {
   "cell_type": "code",
   "execution_count": null,
   "id": "87b23157",
   "metadata": {},
   "outputs": [],
   "source": []
  }
 ],
 "metadata": {
  "kernelspec": {
   "display_name": "Python 3 (ipykernel)",
   "language": "python",
   "name": "python3"
  },
  "language_info": {
   "codemirror_mode": {
    "name": "ipython",
    "version": 3
   },
   "file_extension": ".py",
   "mimetype": "text/x-python",
   "name": "python",
   "nbconvert_exporter": "python",
   "pygments_lexer": "ipython3",
   "version": "3.9.7"
  }
 },
 "nbformat": 4,
 "nbformat_minor": 5
}
