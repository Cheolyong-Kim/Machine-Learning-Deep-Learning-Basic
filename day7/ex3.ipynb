{
 "cells": [
  {
   "cell_type": "code",
   "execution_count": 1,
   "id": "9deb1744",
   "metadata": {},
   "outputs": [],
   "source": [
    "import numpy as np\n",
    "from sklearn.tree import DecisionTreeClassifier\n",
    "from sklearn.model_selection import cross_val_score\n",
    "\n",
    "X = np.load('day7_data2_X.npy')\n",
    "y = np.load('day7_data2_y.npy')"
   ]
  },
  {
   "cell_type": "code",
   "execution_count": 4,
   "id": "d0e46cf3",
   "metadata": {},
   "outputs": [
    {
     "data": {
      "text/plain": [
       "0.7874500095219958"
      ]
     },
     "execution_count": 4,
     "metadata": {},
     "output_type": "execute_result"
    }
   ],
   "source": [
    "from sklearn.ensemble import AdaBoostClassifier, RandomForestClassifier\n",
    "\n",
    "aec = AdaBoostClassifier(base_estimator= DecisionTreeClassifier(max_depth= 2), n_estimators= 500)\n",
    "cross_val_score(aec, X, y, cv= 5).mean()"
   ]
  },
  {
   "cell_type": "code",
   "execution_count": 5,
   "id": "4bb7e29f",
   "metadata": {},
   "outputs": [
    {
     "data": {
      "text/plain": [
       "0.8020694470894434"
      ]
     },
     "execution_count": 5,
     "metadata": {},
     "output_type": "execute_result"
    }
   ],
   "source": [
    "ck1 = RandomForestClassifier(n_estimators= 500)  # 적은 횟수로 학습하면 배깅이 더 좋은 성능을 보여줌\n",
    "cross_val_score(ck1, X, y, cv= 5).mean()"
   ]
  },
  {
   "cell_type": "code",
   "execution_count": 8,
   "id": "bc745f2f",
   "metadata": {},
   "outputs": [
    {
     "data": {
      "text/plain": [
       "0.8369516917412557"
      ]
     },
     "execution_count": 8,
     "metadata": {},
     "output_type": "execute_result"
    }
   ],
   "source": [
    "aec1 = AdaBoostClassifier(base_estimator= DecisionTreeClassifier(max_depth= 2), n_estimators= 500)\n",
    "\n",
    "params = {\n",
    "    'n_estimators': [20, 22, 23, 24, 25],\n",
    "    'learning_rate': [0.4, 0.45, 0.5, 0.55, 0.6],\n",
    "    'base_estimator__criterion': ['gini', 'entropy'],\n",
    "    'base_estimator__max_features': [7, 8],\n",
    "    'base_estimator__max_depth': [1, 2]\n",
    "}\n",
    "\n",
    "from sklearn.model_selection import GridSearchCV\n",
    "g = GridSearchCV(estimator= aec1, param_grid= params, cv= 5)\n",
    "g.fit(X, y)\n",
    "g.best_score_"
   ]
  },
  {
   "cell_type": "code",
   "execution_count": 9,
   "id": "7d280351",
   "metadata": {},
   "outputs": [
    {
     "data": {
      "text/plain": [
       "{'base_estimator__criterion': 'gini',\n",
       " 'base_estimator__max_depth': 2,\n",
       " 'base_estimator__max_features': 7,\n",
       " 'learning_rate': 0.4,\n",
       " 'n_estimators': 24}"
      ]
     },
     "execution_count": 9,
     "metadata": {},
     "output_type": "execute_result"
    }
   ],
   "source": [
    "g.best_params_"
   ]
  },
  {
   "cell_type": "code",
   "execution_count": null,
   "id": "83de1ca6",
   "metadata": {},
   "outputs": [],
   "source": []
  }
 ],
 "metadata": {
  "kernelspec": {
   "display_name": "Python 3 (ipykernel)",
   "language": "python",
   "name": "python3"
  },
  "language_info": {
   "codemirror_mode": {
    "name": "ipython",
    "version": 3
   },
   "file_extension": ".py",
   "mimetype": "text/x-python",
   "name": "python",
   "nbconvert_exporter": "python",
   "pygments_lexer": "ipython3",
   "version": "3.9.7"
  }
 },
 "nbformat": 4,
 "nbformat_minor": 5
}
