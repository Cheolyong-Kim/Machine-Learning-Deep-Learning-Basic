{
 "cells": [
  {
   "cell_type": "markdown",
   "id": "5541b284",
   "metadata": {},
   "source": [
    "# 베이즈 분류기"
   ]
  },
  {
   "cell_type": "code",
   "execution_count": 1,
   "id": "39de5206",
   "metadata": {},
   "outputs": [
    {
     "data": {
      "text/plain": [
       "array([[1, 1],\n",
       "       [0, 0],\n",
       "       [0, 0],\n",
       "       [0, 0],\n",
       "       [0, 0],\n",
       "       [0, 0],\n",
       "       [0, 1],\n",
       "       [0, 0],\n",
       "       [1, 1],\n",
       "       [1, 0],\n",
       "       [1, 0],\n",
       "       [0, 0],\n",
       "       [0, 0],\n",
       "       [1, 0],\n",
       "       [0, 0],\n",
       "       [0, 0],\n",
       "       [0, 0],\n",
       "       [0, 1],\n",
       "       [0, 1],\n",
       "       [1, 1]], dtype=int64)"
      ]
     },
     "execution_count": 1,
     "metadata": {},
     "output_type": "execute_result"
    }
   ],
   "source": [
    "from pandas import Series, DataFrame\n",
    "import pandas as pd\n",
    "import numpy as np\n",
    "\n",
    "viagra_spam = {\n",
    "    'viagra': [1, 0, 0, 0, 0, 0, 0, 0, 1, 1, 1, 0, 0, 1, 0, 0, 0, 0, 0, 1],\n",
    "    'spam': [1, 0, 0, 0, 0, 0, 1, 0, 1, 0, 0, 0, 0, 0, 0, 0, 0, 1, 1, 1]\n",
    "}\n",
    "\n",
    "df = pd.DataFrame(viagra_spam, columns= ['viagra', 'spam'])\n",
    "np_data = df.values\n",
    "np_data"
   ]
  },
  {
   "cell_type": "markdown",
   "id": "c376ffef",
   "metadata": {},
   "source": [
    "### P(viagra and spam)"
   ]
  },
  {
   "cell_type": "code",
   "execution_count": 13,
   "id": "9105e28c",
   "metadata": {},
   "outputs": [],
   "source": [
    "p_v_cap_s = sum((np_data[:, 0] == 1) & (np_data[:, 1] == 1)) / 20"
   ]
  },
  {
   "cell_type": "markdown",
   "id": "01c16482",
   "metadata": {},
   "source": [
    "### P(viagra)"
   ]
  },
  {
   "cell_type": "code",
   "execution_count": 5,
   "id": "8d165e6a",
   "metadata": {},
   "outputs": [
    {
     "data": {
      "text/plain": [
       "0.3"
      ]
     },
     "execution_count": 5,
     "metadata": {},
     "output_type": "execute_result"
    }
   ],
   "source": [
    "p_v = sum((np_data[:, 0] == 1)) / 20\n",
    "p_v"
   ]
  },
  {
   "cell_type": "markdown",
   "id": "0c045d01",
   "metadata": {},
   "source": [
    "### P(spam)"
   ]
  },
  {
   "cell_type": "code",
   "execution_count": 7,
   "id": "ab88cfbe",
   "metadata": {},
   "outputs": [
    {
     "data": {
      "text/plain": [
       "0.3"
      ]
     },
     "execution_count": 7,
     "metadata": {},
     "output_type": "execute_result"
    }
   ],
   "source": [
    "p_s = sum((np_data[:, 1] == 1)) / 20\n",
    "p_v"
   ]
  },
  {
   "cell_type": "markdown",
   "id": "72de332f",
   "metadata": {},
   "source": [
    "### P(~viagra and spam)"
   ]
  },
  {
   "cell_type": "code",
   "execution_count": 9,
   "id": "e9c60b88",
   "metadata": {},
   "outputs": [
    {
     "data": {
      "text/plain": [
       "0.15"
      ]
     },
     "execution_count": 9,
     "metadata": {},
     "output_type": "execute_result"
    }
   ],
   "source": [
    "p_n_v_cap_s = sum((np_data[:, 0] == 0) & (np_data[:, 1] == 1)) / 20\n",
    "p_n_v_cap_s"
   ]
  },
  {
   "cell_type": "markdown",
   "id": "809c1c4a",
   "metadata": {},
   "source": [
    "### P(spam|viagra)"
   ]
  },
  {
   "cell_type": "code",
   "execution_count": 15,
   "id": "bb5ec9bb",
   "metadata": {},
   "outputs": [
    {
     "data": {
      "text/plain": [
       "0.5"
      ]
     },
     "execution_count": 15,
     "metadata": {},
     "output_type": "execute_result"
    }
   ],
   "source": [
    "(p_v_cap_s / p_s) * p_s / p_v"
   ]
  },
  {
   "cell_type": "markdown",
   "id": "3da28dc2",
   "metadata": {},
   "source": [
    "### P(spam|~viagra)"
   ]
  },
  {
   "cell_type": "code",
   "execution_count": 16,
   "id": "8bace64c",
   "metadata": {},
   "outputs": [
    {
     "data": {
      "text/plain": [
       "0.2142857142857143"
      ]
     },
     "execution_count": 16,
     "metadata": {},
     "output_type": "execute_result"
    }
   ],
   "source": [
    "(p_n_v_cap_s / p_s) * p_s / (1 - p_v)"
   ]
  }
 ],
 "metadata": {
  "kernelspec": {
   "display_name": "Python 3 (ipykernel)",
   "language": "python",
   "name": "python3"
  },
  "language_info": {
   "codemirror_mode": {
    "name": "ipython",
    "version": 3
   },
   "file_extension": ".py",
   "mimetype": "text/x-python",
   "name": "python",
   "nbconvert_exporter": "python",
   "pygments_lexer": "ipython3",
   "version": "3.9.7"
  }
 },
 "nbformat": 4,
 "nbformat_minor": 5
}
