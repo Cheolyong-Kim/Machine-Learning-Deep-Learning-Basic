{
 "cells": [
  {
   "cell_type": "code",
   "execution_count": 19,
   "id": "75d49ead",
   "metadata": {},
   "outputs": [],
   "source": [
    "import numpy as np\n",
    "import matplotlib.pyplot as plt\n",
    "from sklearn.model_selection import train_test_split\n",
    "from sklearn.neighbors import KNeighborsRegressor\n",
    "from sklearn.metrics import mean_absolute_error\n",
    "from sklearn.linear_model import LinearRegression"
   ]
  },
  {
   "cell_type": "code",
   "execution_count": 2,
   "id": "438348bc",
   "metadata": {},
   "outputs": [],
   "source": [
    "X = np.array(\n",
    "    [8.4, 13.7, 15.0, 16.2, 17.4, 18.0, 18.7, 19.0, 19.6, 20.0, \n",
    "     21.0, 21.0, 21.0, 21.3, 22.0, 22.0, 22.0, 22.0, 22.0, 22.5, \n",
    "     22.5, 22.7, 23.0, 23.5, 24.0, 24.0, 24.6, 25.0, 25.6, 26.5, \n",
    "     27.3, 27.5, 27.5, 27.5, 28.0, 28.7, 30.0, 32.8, 34.5, 35.0, \n",
    "     36.5, 36.0, 37.0, 37.0, 39.0, 39.0, 39.0, 40.0, 40.0, 40.0, \n",
    "     40.0, 42.0, 43.0, 43.0, 43.5, 44.0]\n",
    "     )\n",
    "Y = np.array(\n",
    "    [5.9, 32.0, 40.0, 51.5, 70.0, 100.0, 78.0, 80.0, 85.0, 85.0, \n",
    "     110.0, 115.0, 125.0, 130.0, 120.0, 120.0, 130.0, 135.0, 110.0, \n",
    "     130.0, 150.0, 145.0, 150.0, 170.0, 225.0, 145.0, 188.0, 180.0, \n",
    "     197.0, 218.0, 300.0, 260.0, 265.0, 250.0, 250.0, 300.0, 320.0, \n",
    "     514.0, 556.0, 840.0, 685.0, 700.0, 700.0, 690.0, 900.0, 650.0, \n",
    "     820.0, 850.0, 900.0, 1015.0, 820.0, 1100.0, 1000.0, 1100.0, \n",
    "     1000.0, 1000.0]\n",
    "     )"
   ]
  },
  {
   "cell_type": "code",
   "execution_count": 3,
   "id": "3747e865",
   "metadata": {},
   "outputs": [
    {
     "data": {
      "text/plain": [
       "<matplotlib.collections.PathCollection at 0x1724f8c7e20>"
      ]
     },
     "execution_count": 3,
     "metadata": {},
     "output_type": "execute_result"
    },
    {
     "data": {
      "image/png": "[encoded data removed]",
      "text/plain": [
       "<Figure size 432x288 with 1 Axes>"
      ]
     },
     "metadata": {
      "needs_background": "light"
     },
     "output_type": "display_data"
    }
   ],
   "source": [
    "plt.scatter(X, Y)"
   ]
  },
  {
   "cell_type": "code",
   "execution_count": 4,
   "id": "c3f291a5",
   "metadata": {},
   "outputs": [
    {
     "name": "stdout",
     "output_type": "stream",
     "text": [
      "(42,) (14,)\n"
     ]
    }
   ],
   "source": [
    "t_x, tt_x, t_y, tt_y = train_test_split(X, Y, random_state= 43)\n",
    "print(t_x.shape, tt_x.shape)"
   ]
  },
  {
   "cell_type": "code",
   "execution_count": 5,
   "id": "1788d504",
   "metadata": {},
   "outputs": [
    {
     "data": {
      "text/plain": [
       "array([34.5, 39. , 43. , 16.2, 39. , 19.6, 22. , 36. , 19. , 40. , 30. ,\n",
       "       22.5, 26.5, 32.8, 20. , 42. , 25.6, 21. , 27.5, 24. , 21. , 44. ,\n",
       "       37. , 40. , 37. , 28. , 13.7, 24. , 21. , 28.7, 43.5, 23.5, 27.3,\n",
       "       39. , 15. , 25. , 22. , 22. , 22.7, 40. ,  8.4, 17.4])"
      ]
     },
     "execution_count": 5,
     "metadata": {},
     "output_type": "execute_result"
    }
   ],
   "source": [
    "t_x"
   ]
  },
  {
   "cell_type": "code",
   "execution_count": 6,
   "id": "9d23b05c",
   "metadata": {},
   "outputs": [
    {
     "name": "stdout",
     "output_type": "stream",
     "text": [
      "(42, 1) (14, 1)\n"
     ]
    }
   ],
   "source": [
    "n_t_x = t_x.reshape(-1, 1)\n",
    "n_tt_x = tt_x.reshape(-1, 1)\n",
    "print(n_t_x.shape, n_tt_x.shape)"
   ]
  },
  {
   "cell_type": "code",
   "execution_count": 7,
   "id": "a08d70a1",
   "metadata": {},
   "outputs": [
    {
     "data": {
      "text/plain": [
       "KNeighborsRegressor()"
      ]
     },
     "execution_count": 7,
     "metadata": {},
     "output_type": "execute_result"
    }
   ],
   "source": [
    "knr = KNeighborsRegressor()\n",
    "knr.fit(n_t_x, t_y)"
   ]
  },
  {
   "cell_type": "code",
   "execution_count": 8,
   "id": "feb90313",
   "metadata": {},
   "outputs": [
    {
     "data": {
      "text/plain": [
       "0.9662464614810213"
      ]
     },
     "execution_count": 8,
     "metadata": {},
     "output_type": "execute_result"
    }
   ],
   "source": [
    "knr.score(n_tt_x, tt_y)"
   ]
  },
  {
   "cell_type": "code",
   "execution_count": 9,
   "id": "1746556c",
   "metadata": {},
   "outputs": [
    {
     "data": {
      "text/plain": [
       "29.69285714285715"
      ]
     },
     "execution_count": 9,
     "metadata": {},
     "output_type": "execute_result"
    }
   ],
   "source": [
    "end_tt_y = knr.predict(n_tt_x)\n",
    "\n",
    "mae = mean_absolute_error(tt_y, end_tt_y)  # 오차 계산\n",
    "mae"
   ]
  },
  {
   "cell_type": "code",
   "execution_count": 10,
   "id": "8e511399",
   "metadata": {},
   "outputs": [
    {
     "data": {
      "text/plain": [
       "0.9815010309553626"
      ]
     },
     "execution_count": 10,
     "metadata": {},
     "output_type": "execute_result"
    }
   ],
   "source": [
    "knr.score(n_t_x, t_y)  # 훈련 데이터로 점수 계산"
   ]
  },
  {
   "cell_type": "code",
   "execution_count": 11,
   "id": "001b10e4",
   "metadata": {},
   "outputs": [
    {
     "data": {
      "text/plain": [
       "0.9625437594582437"
      ]
     },
     "execution_count": 11,
     "metadata": {},
     "output_type": "execute_result"
    }
   ],
   "source": [
    "knr.n_neighbors = 3\n",
    "knr.fit(n_t_x, t_y)\n",
    "knr.score(n_tt_x, tt_y)"
   ]
  },
  {
   "cell_type": "code",
   "execution_count": 12,
   "id": "55bda348",
   "metadata": {},
   "outputs": [
    {
     "data": {
      "text/plain": [
       "0.9878266455621827"
      ]
     },
     "execution_count": 12,
     "metadata": {},
     "output_type": "execute_result"
    }
   ],
   "source": [
    "knr.score(n_t_x, t_y)  # 모델 변경 후 훈련 데이터로 점수 계산"
   ]
  },
  {
   "cell_type": "code",
   "execution_count": 13,
   "id": "9ee1ad96",
   "metadata": {},
   "outputs": [
    {
     "data": {
      "image/png": "[encoded data removed]",
      "text/plain": [
       "<Figure size 432x288 with 1 Axes>"
      ]
     },
     "metadata": {
      "needs_background": "light"
     },
     "output_type": "display_data"
    },
    {
     "data": {
      "image/png": "[encoded data removed]",
      "text/plain": [
       "<Figure size 432x288 with 1 Axes>"
      ]
     },
     "metadata": {
      "needs_background": "light"
     },
     "output_type": "display_data"
    },
    {
     "data": {
      "image/png": "[encoded data removed]",
      "text/plain": [
       "<Figure size 432x288 with 1 Axes>"
      ]
     },
     "metadata": {
      "needs_background": "light"
     },
     "output_type": "display_data"
    }
   ],
   "source": [
    "knr1 = KNeighborsRegressor()\n",
    "x = np.arange(5, 45).reshape(-1, 1)  # 비교를 위한 데이터 생성\n",
    "\n",
    "for n in [1, 5, 10]:\n",
    "    knr1.n_neighbors = n\n",
    "    knr1.fit(n_t_x, t_y)\n",
    "    p_data = knr1.predict(x)\n",
    "    plt.scatter(n_t_x, t_y)\n",
    "    plt.plot(x, p_data)\n",
    "    plt.title(f'n_plt{n}')\n",
    "    plt.show()"
   ]
  },
  {
   "cell_type": "markdown",
   "id": "659d775e",
   "metadata": {},
   "source": [
    "### K회귀의 한계"
   ]
  },
  {
   "cell_type": "code",
   "execution_count": 14,
   "id": "1d410d0c",
   "metadata": {},
   "outputs": [
    {
     "data": {
      "text/plain": [
       "array([1033.33333333])"
      ]
     },
     "execution_count": 14,
     "metadata": {},
     "output_type": "execute_result"
    }
   ],
   "source": [
    "knr2 = KNeighborsRegressor(n_neighbors= 3)\n",
    "knr2.fit(n_t_x, t_y)\n",
    "knr2.predict([[50]])"
   ]
  },
  {
   "cell_type": "code",
   "execution_count": 16,
   "id": "684ce7dc",
   "metadata": {},
   "outputs": [
    {
     "data": {
      "text/plain": [
       "<matplotlib.collections.PathCollection at 0x172502f7370>"
      ]
     },
     "execution_count": 16,
     "metadata": {},
     "output_type": "execute_result"
    },
    {
     "data": {
      "image/png": "[encoded data removed]",
      "text/plain": [
       "<Figure size 432x288 with 1 Axes>"
      ]
     },
     "metadata": {
      "needs_background": "light"
     },
     "output_type": "display_data"
    }
   ],
   "source": [
    "d, i = knr2.kneighbors([[50]])\n",
    "plt.scatter(n_t_x, t_y)\n",
    "plt.scatter(n_t_x[i], t_y[i], marker= '*')\n",
    "plt.scatter(50, 1033.3, marker= '^')\n",
    "\n",
    "# 학습했던 데이터의 범위를 벗어나면 결과값을 추측하지 못함"
   ]
  },
  {
   "cell_type": "code",
   "execution_count": 17,
   "id": "6fa90833",
   "metadata": {},
   "outputs": [
    {
     "data": {
      "text/plain": [
       "array([1033.33333333])"
      ]
     },
     "execution_count": 17,
     "metadata": {},
     "output_type": "execute_result"
    }
   ],
   "source": [
    "knr2.predict([[1000]])  # x값을 학습한 데이터보다 아주 큰 값을 주면 문제가 확실히 보임"
   ]
  },
  {
   "cell_type": "markdown",
   "id": "af79418f",
   "metadata": {},
   "source": [
    "### 선형회귀"
   ]
  },
  {
   "cell_type": "code",
   "execution_count": 20,
   "id": "99915056",
   "metadata": {},
   "outputs": [],
   "source": [
    "lr = LinearRegression().fit(n_t_x, t_y)"
   ]
  },
  {
   "cell_type": "code",
   "execution_count": 21,
   "id": "2e9b7bb6",
   "metadata": {},
   "outputs": [
    {
     "name": "stdout",
     "output_type": "stream",
     "text": [
      "[1187.92199858]\n",
      "[35638.66987063]\n"
     ]
    }
   ],
   "source": [
    "print(lr.predict([[50]]))\n",
    "print(lr.predict([[1000]]))"
   ]
  },
  {
   "cell_type": "code",
   "execution_count": 23,
   "id": "f7ba8320",
   "metadata": {},
   "outputs": [
    {
     "data": {
      "text/plain": [
       "[<matplotlib.lines.Line2D at 0x17250178430>]"
      ]
     },
     "execution_count": 23,
     "metadata": {},
     "output_type": "execute_result"
    },
    {
     "data": {
      "image/png": "[encoded data removed]",
      "text/plain": [
       "<Figure size 432x288 with 1 Axes>"
      ]
     },
     "metadata": {
      "needs_background": "light"
     },
     "output_type": "display_data"
    }
   ],
   "source": [
    "plt.scatter(n_t_x, t_y)\n",
    "plt.plot([15, 50], [15 * lr.coef_ + lr.intercept_, 50 * lr.coef_ + lr.intercept_], c= 'r')  # 선형회귀를 통해 만들어낸 직선 그리기"
   ]
  },
  {
   "cell_type": "markdown",
   "id": "a346b818",
   "metadata": {},
   "source": [
    "### 다항식"
   ]
  },
  {
   "cell_type": "code",
   "execution_count": 27,
   "id": "81a6727f",
   "metadata": {},
   "outputs": [],
   "source": [
    "p_t_x = np.column_stack((n_t_x ** 2, n_t_x))\n",
    "p_tt_x = np.column_stack((n_tt_x ** 2, n_tt_x))"
   ]
  },
  {
   "cell_type": "code",
   "execution_count": 28,
   "id": "fbbce7ac",
   "metadata": {},
   "outputs": [
    {
     "name": "stdout",
     "output_type": "stream",
     "text": [
      "[1573.06792794]\n"
     ]
    }
   ],
   "source": [
    "lr = LinearRegression()\n",
    "lr.fit(p_t_x, t_y)\n",
    "\n",
    "print(lr.predict([[50 ** 2, 50]]))"
   ]
  },
  {
   "cell_type": "code",
   "execution_count": 29,
   "id": "dae7fad5",
   "metadata": {},
   "outputs": [
    {
     "name": "stdout",
     "output_type": "stream",
     "text": [
      "[  1.05682431 -24.53340579] 157.67745303390137\n"
     ]
    }
   ],
   "source": [
    "print(lr.coef_, lr.intercept_)  # w2, w1, w0 출력"
   ]
  },
  {
   "cell_type": "code",
   "execution_count": 30,
   "id": "364be992",
   "metadata": {},
   "outputs": [
    {
     "data": {
      "text/plain": [
       "<matplotlib.collections.PathCollection at 0x172500daf40>"
      ]
     },
     "execution_count": 30,
     "metadata": {},
     "output_type": "execute_result"
    },
    {
     "data": {
      "image/png": "[encoded data removed]",
      "text/plain": [
       "<Figure size 432x288 with 1 Axes>"
      ]
     },
     "metadata": {
      "needs_background": "light"
     },
     "output_type": "display_data"
    }
   ],
   "source": [
    "p = np.arange(15, 50)\n",
    "plt.scatter(n_t_x, t_y)\n",
    "plt.plot(p, (1.05 * p ** 2) - (24.5 * p) + 157.6)\n",
    "plt.scatter([50], [1573.06])"
   ]
  },
  {
   "cell_type": "code",
   "execution_count": null,
   "id": "6acfdef0",
   "metadata": {},
   "outputs": [],
   "source": []
  }
 ],
 "metadata": {
  "kernelspec": {
   "display_name": "Python 3 (ipykernel)",
   "language": "python",
   "name": "python3"
  },
  "language_info": {
   "codemirror_mode": {
    "name": "ipython",
    "version": 3
   },
   "file_extension": ".py",
   "mimetype": "text/x-python",
   "name": "python",
   "nbconvert_exporter": "python",
   "pygments_lexer": "ipython3",
   "version": "3.9.7"
  }
 },
 "nbformat": 4,
 "nbformat_minor": 5
}
