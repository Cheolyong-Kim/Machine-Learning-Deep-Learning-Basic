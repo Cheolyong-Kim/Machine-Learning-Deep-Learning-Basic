{
 "cells": [
  {
   "cell_type": "code",
   "execution_count": 1,
   "id": "a5a6aa14",
   "metadata": {},
   "outputs": [
    {
     "data": {
      "text/plain": [
       "(25000,)"
      ]
     },
     "execution_count": 1,
     "metadata": {},
     "output_type": "execute_result"
    }
   ],
   "source": [
    "from tensorflow.keras.datasets.imdb import load_data\n",
    "(x_data,y_data),(tt_x,tt_y) = load_data(num_words=500)\n",
    "x_data.shape"
   ]
  },
  {
   "cell_type": "code",
   "execution_count": 2,
   "id": "c4054f20",
   "metadata": {},
   "outputs": [
    {
     "data": {
      "text/plain": [
       "(218, 189)"
      ]
     },
     "execution_count": 2,
     "metadata": {},
     "output_type": "execute_result"
    }
   ],
   "source": [
    "len(x_data[0]),len(x_data[1])"
   ]
  },
  {
   "cell_type": "code",
   "execution_count": 3,
   "id": "86f0e6ad",
   "metadata": {},
   "outputs": [
    {
     "data": {
      "text/plain": [
       "array([1, 0, 0, 1, 0], dtype=int64)"
      ]
     },
     "execution_count": 3,
     "metadata": {},
     "output_type": "execute_result"
    }
   ],
   "source": [
    "y_data[:5]"
   ]
  },
  {
   "cell_type": "code",
   "execution_count": 4,
   "id": "a26df25b",
   "metadata": {},
   "outputs": [],
   "source": [
    "from sklearn.model_selection import train_test_split\n",
    "t_x,v_x,t_y,v_y=train_test_split(x_data,y_data,test_size=0.2,random_state=42)"
   ]
  },
  {
   "cell_type": "code",
   "execution_count": 5,
   "id": "c70a3638",
   "metadata": {},
   "outputs": [
    {
     "data": {
      "text/plain": [
       "(array([1.1149e+04, 5.7490e+03, 1.8590e+03, 7.3200e+02, 3.0600e+02,\n",
       "        1.8800e+02, 6.0000e+00, 4.0000e+00, 4.0000e+00, 3.0000e+00]),\n",
       " array([  11. ,  195.3,  379.6,  563.9,  748.2,  932.5, 1116.8, 1301.1,\n",
       "        1485.4, 1669.7, 1854. ]),\n",
       " <BarContainer object of 10 artists>)"
      ]
     },
     "execution_count": 5,
     "metadata": {},
     "output_type": "execute_result"
    },
    {
     "data": {
      "image/png": "[encoded data removed]",
      "text/plain": [
       "<Figure size 432x288 with 1 Axes>"
      ]
     },
     "metadata": {
      "needs_background": "light"
     },
     "output_type": "display_data"
    }
   ],
   "source": [
    "import numpy as np\n",
    "l= np.array([len(i)for i in t_x])\n",
    "import matplotlib.pyplot as plt\n",
    "plt.hist(l)"
   ]
  },
  {
   "cell_type": "code",
   "execution_count": 6,
   "id": "17297993",
   "metadata": {},
   "outputs": [
    {
     "data": {
      "text/plain": [
       "178.0"
      ]
     },
     "execution_count": 6,
     "metadata": {},
     "output_type": "execute_result"
    }
   ],
   "source": [
    "np.median(l)"
   ]
  },
  {
   "cell_type": "code",
   "execution_count": 7,
   "id": "5e68d685",
   "metadata": {},
   "outputs": [],
   "source": [
    "from tensorflow.keras.preprocessing.sequence import pad_sequences\n",
    "s_t_x=pad_sequences(t_x,maxlen=100)"
   ]
  },
  {
   "cell_type": "code",
   "execution_count": 8,
   "id": "28972b11",
   "metadata": {},
   "outputs": [
    {
     "data": {
      "text/plain": [
       "(20000, 100)"
      ]
     },
     "execution_count": 8,
     "metadata": {},
     "output_type": "execute_result"
    }
   ],
   "source": [
    "s_t_x.shape"
   ]
  },
  {
   "cell_type": "code",
   "execution_count": 9,
   "id": "08e36ab2",
   "metadata": {
    "scrolled": true
   },
   "outputs": [],
   "source": [
    "s_v_x=pad_sequences(v_x,maxlen=100)"
   ]
  },
  {
   "cell_type": "code",
   "execution_count": 10,
   "id": "b65394cb",
   "metadata": {
    "scrolled": false
   },
   "outputs": [],
   "source": [
    "from tensorflow import keras\n",
    "m=keras.Sequential()"
   ]
  },
  {
   "cell_type": "code",
   "execution_count": 11,
   "id": "255ff99a",
   "metadata": {},
   "outputs": [],
   "source": [
    "m.add(keras.layers.SimpleRNN(8,input_shape=(100,500)))\n",
    "m.add(keras.layers.Dense(1,activation='sigmoid'))"
   ]
  },
  {
   "cell_type": "code",
   "execution_count": 12,
   "id": "841e7918",
   "metadata": {},
   "outputs": [],
   "source": [
    "t_oh=keras.utils.to_categorical(s_t_x)"
   ]
  },
  {
   "cell_type": "code",
   "execution_count": 13,
   "id": "14eff1d1",
   "metadata": {},
   "outputs": [
    {
     "data": {
      "text/plain": [
       "(20000, 100, 500)"
      ]
     },
     "execution_count": 13,
     "metadata": {},
     "output_type": "execute_result"
    }
   ],
   "source": [
    "t_oh.shape"
   ]
  },
  {
   "cell_type": "code",
   "execution_count": 14,
   "id": "ae8f7b55",
   "metadata": {},
   "outputs": [],
   "source": [
    "v_oh=keras.utils.to_categorical(s_v_x)"
   ]
  },
  {
   "cell_type": "code",
   "execution_count": 15,
   "id": "6bfff910",
   "metadata": {
    "scrolled": true
   },
   "outputs": [
    {
     "name": "stdout",
     "output_type": "stream",
     "text": [
      "Model: \"sequential\"\n",
      "_________________________________________________________________\n",
      " Layer (type)                Output Shape              Param #   \n",
      "=================================================================\n",
      " simple_rnn (SimpleRNN)      (None, 8)                 4072      \n",
      "                                                                 \n",
      " dense (Dense)               (None, 1)                 9         \n",
      "                                                                 \n",
      "=================================================================\n",
      "Total params: 4,081\n",
      "Trainable params: 4,081\n",
      "Non-trainable params: 0\n",
      "_________________________________________________________________\n"
     ]
    }
   ],
   "source": [
    "m.summary()"
   ]
  },
  {
   "cell_type": "code",
   "execution_count": 16,
   "id": "0fc47a23",
   "metadata": {
    "scrolled": true
   },
   "outputs": [
    {
     "name": "stdout",
     "output_type": "stream",
     "text": [
      "Epoch 1/100\n",
      "313/313 [==============================] - 5s 15ms/step - loss: 0.6949 - accuracy: 0.5191 - val_loss: 0.6892 - val_accuracy: 0.5378\n",
      "Epoch 2/100\n",
      "313/313 [==============================] - 5s 14ms/step - loss: 0.6790 - accuracy: 0.5767 - val_loss: 0.6700 - val_accuracy: 0.6096\n",
      "Epoch 3/100\n",
      "313/313 [==============================] - 5s 15ms/step - loss: 0.6605 - accuracy: 0.6245 - val_loss: 0.6541 - val_accuracy: 0.6342\n",
      "Epoch 4/100\n",
      "313/313 [==============================] - 5s 15ms/step - loss: 0.6414 - accuracy: 0.6571 - val_loss: 0.6364 - val_accuracy: 0.6636\n",
      "Epoch 5/100\n",
      "313/313 [==============================] - 5s 15ms/step - loss: 0.6250 - accuracy: 0.6799 - val_loss: 0.6214 - val_accuracy: 0.6824\n",
      "Epoch 6/100\n",
      "313/313 [==============================] - 5s 15ms/step - loss: 0.6086 - accuracy: 0.6982 - val_loss: 0.6074 - val_accuracy: 0.6920\n",
      "Epoch 7/100\n",
      "313/313 [==============================] - 5s 14ms/step - loss: 0.5915 - accuracy: 0.7151 - val_loss: 0.5918 - val_accuracy: 0.7080\n",
      "Epoch 8/100\n",
      "313/313 [==============================] - 5s 15ms/step - loss: 0.5771 - accuracy: 0.7243 - val_loss: 0.5797 - val_accuracy: 0.7148\n",
      "Epoch 9/100\n",
      "313/313 [==============================] - 5s 15ms/step - loss: 0.5649 - accuracy: 0.7337 - val_loss: 0.5735 - val_accuracy: 0.7230\n",
      "Epoch 10/100\n",
      "313/313 [==============================] - 5s 14ms/step - loss: 0.5524 - accuracy: 0.7425 - val_loss: 0.5585 - val_accuracy: 0.7270\n",
      "Epoch 11/100\n",
      "313/313 [==============================] - 5s 14ms/step - loss: 0.5428 - accuracy: 0.7488 - val_loss: 0.5520 - val_accuracy: 0.7288\n",
      "Epoch 12/100\n",
      "313/313 [==============================] - 5s 15ms/step - loss: 0.5356 - accuracy: 0.7509 - val_loss: 0.5465 - val_accuracy: 0.7356\n",
      "Epoch 13/100\n",
      "313/313 [==============================] - 5s 14ms/step - loss: 0.5277 - accuracy: 0.7553 - val_loss: 0.5378 - val_accuracy: 0.7394\n",
      "Epoch 14/100\n",
      "313/313 [==============================] - 5s 15ms/step - loss: 0.5194 - accuracy: 0.7614 - val_loss: 0.5332 - val_accuracy: 0.7436\n",
      "Epoch 15/100\n",
      "313/313 [==============================] - 5s 14ms/step - loss: 0.5132 - accuracy: 0.7650 - val_loss: 0.5305 - val_accuracy: 0.7470\n",
      "Epoch 16/100\n",
      "313/313 [==============================] - 5s 14ms/step - loss: 0.5063 - accuracy: 0.7699 - val_loss: 0.5203 - val_accuracy: 0.7554\n",
      "Epoch 17/100\n",
      "313/313 [==============================] - 5s 15ms/step - loss: 0.4998 - accuracy: 0.7738 - val_loss: 0.5160 - val_accuracy: 0.7610\n",
      "Epoch 18/100\n",
      "313/313 [==============================] - 5s 14ms/step - loss: 0.4931 - accuracy: 0.7781 - val_loss: 0.5095 - val_accuracy: 0.7634\n",
      "Epoch 19/100\n",
      "313/313 [==============================] - 5s 15ms/step - loss: 0.4880 - accuracy: 0.7805 - val_loss: 0.5077 - val_accuracy: 0.7606\n",
      "Epoch 20/100\n",
      "313/313 [==============================] - 5s 15ms/step - loss: 0.4821 - accuracy: 0.7844 - val_loss: 0.5021 - val_accuracy: 0.7630\n",
      "Epoch 21/100\n",
      "313/313 [==============================] - 5s 14ms/step - loss: 0.4783 - accuracy: 0.7858 - val_loss: 0.4974 - val_accuracy: 0.7686\n",
      "Epoch 22/100\n",
      "313/313 [==============================] - 5s 14ms/step - loss: 0.4719 - accuracy: 0.7911 - val_loss: 0.4940 - val_accuracy: 0.7686\n",
      "Epoch 23/100\n",
      "313/313 [==============================] - 5s 15ms/step - loss: 0.4687 - accuracy: 0.7922 - val_loss: 0.4913 - val_accuracy: 0.7690\n",
      "Epoch 24/100\n",
      "313/313 [==============================] - 5s 14ms/step - loss: 0.4655 - accuracy: 0.7948 - val_loss: 0.4986 - val_accuracy: 0.7654\n",
      "Epoch 25/100\n",
      "313/313 [==============================] - 5s 15ms/step - loss: 0.4620 - accuracy: 0.7958 - val_loss: 0.4867 - val_accuracy: 0.7726\n",
      "Epoch 26/100\n",
      "313/313 [==============================] - 5s 15ms/step - loss: 0.4585 - accuracy: 0.7989 - val_loss: 0.4851 - val_accuracy: 0.7684\n",
      "Epoch 27/100\n",
      "313/313 [==============================] - 5s 14ms/step - loss: 0.4556 - accuracy: 0.8003 - val_loss: 0.4831 - val_accuracy: 0.7730\n",
      "Epoch 28/100\n",
      "313/313 [==============================] - 5s 14ms/step - loss: 0.4532 - accuracy: 0.8025 - val_loss: 0.4815 - val_accuracy: 0.7742\n",
      "Epoch 29/100\n",
      "313/313 [==============================] - 5s 15ms/step - loss: 0.4498 - accuracy: 0.8033 - val_loss: 0.4792 - val_accuracy: 0.7754\n",
      "Epoch 30/100\n",
      "313/313 [==============================] - 5s 15ms/step - loss: 0.4473 - accuracy: 0.8040 - val_loss: 0.4765 - val_accuracy: 0.7768\n",
      "Epoch 31/100\n",
      "313/313 [==============================] - 5s 14ms/step - loss: 0.4444 - accuracy: 0.8062 - val_loss: 0.4752 - val_accuracy: 0.7762\n",
      "Epoch 32/100\n",
      "313/313 [==============================] - 5s 14ms/step - loss: 0.4422 - accuracy: 0.8075 - val_loss: 0.4734 - val_accuracy: 0.7792\n",
      "Epoch 33/100\n",
      "313/313 [==============================] - 5s 14ms/step - loss: 0.4401 - accuracy: 0.8074 - val_loss: 0.4722 - val_accuracy: 0.7804\n",
      "Epoch 34/100\n",
      "313/313 [==============================] - 5s 14ms/step - loss: 0.4376 - accuracy: 0.8102 - val_loss: 0.4734 - val_accuracy: 0.7800\n",
      "Epoch 35/100\n",
      "313/313 [==============================] - 5s 14ms/step - loss: 0.4356 - accuracy: 0.8126 - val_loss: 0.4699 - val_accuracy: 0.7820\n",
      "Epoch 36/100\n",
      "313/313 [==============================] - 5s 15ms/step - loss: 0.4335 - accuracy: 0.8138 - val_loss: 0.4715 - val_accuracy: 0.7794\n",
      "Epoch 37/100\n",
      "313/313 [==============================] - 5s 14ms/step - loss: 0.4320 - accuracy: 0.8143 - val_loss: 0.4673 - val_accuracy: 0.7810\n",
      "Epoch 38/100\n",
      "313/313 [==============================] - 5s 15ms/step - loss: 0.4305 - accuracy: 0.8127 - val_loss: 0.4690 - val_accuracy: 0.7806\n",
      "Epoch 39/100\n",
      "313/313 [==============================] - 5s 15ms/step - loss: 0.4289 - accuracy: 0.8141 - val_loss: 0.4645 - val_accuracy: 0.7818\n",
      "Epoch 40/100\n",
      "313/313 [==============================] - 5s 15ms/step - loss: 0.4271 - accuracy: 0.8152 - val_loss: 0.4643 - val_accuracy: 0.7840\n",
      "Epoch 41/100\n",
      "313/313 [==============================] - 5s 14ms/step - loss: 0.4255 - accuracy: 0.8170 - val_loss: 0.4647 - val_accuracy: 0.7836\n",
      "Epoch 42/100\n",
      "313/313 [==============================] - 5s 15ms/step - loss: 0.4240 - accuracy: 0.8171 - val_loss: 0.4680 - val_accuracy: 0.7822\n",
      "Epoch 43/100\n",
      "313/313 [==============================] - 5s 15ms/step - loss: 0.4226 - accuracy: 0.8174 - val_loss: 0.4633 - val_accuracy: 0.7850\n",
      "Epoch 44/100\n",
      "313/313 [==============================] - 5s 14ms/step - loss: 0.4221 - accuracy: 0.8180 - val_loss: 0.4629 - val_accuracy: 0.7830\n",
      "Epoch 45/100\n",
      "313/313 [==============================] - 5s 15ms/step - loss: 0.4200 - accuracy: 0.8169 - val_loss: 0.4615 - val_accuracy: 0.7856\n",
      "Epoch 46/100\n",
      "313/313 [==============================] - 5s 15ms/step - loss: 0.4191 - accuracy: 0.8191 - val_loss: 0.4610 - val_accuracy: 0.7826\n",
      "Epoch 47/100\n",
      "313/313 [==============================] - 5s 14ms/step - loss: 0.4181 - accuracy: 0.8199 - val_loss: 0.4583 - val_accuracy: 0.7864\n",
      "Epoch 48/100\n",
      "313/313 [==============================] - 5s 14ms/step - loss: 0.4167 - accuracy: 0.8188 - val_loss: 0.4591 - val_accuracy: 0.7870\n",
      "Epoch 49/100\n",
      "313/313 [==============================] - 5s 15ms/step - loss: 0.4159 - accuracy: 0.8215 - val_loss: 0.4603 - val_accuracy: 0.7858\n",
      "Epoch 50/100\n",
      "313/313 [==============================] - 5s 14ms/step - loss: 0.4141 - accuracy: 0.8205 - val_loss: 0.4640 - val_accuracy: 0.7868\n"
     ]
    }
   ],
   "source": [
    "ot=keras.optimizers.RMSprop(learning_rate=1e-4)\n",
    "m.compile(optimizer=ot,loss='binary_crossentropy',metrics='accuracy')\n",
    "ck_p = keras.callbacks.ModelCheckpoint('Ex2.h5', \n",
    "                                                save_best_only=True)\n",
    "e_stopping= keras.callbacks.EarlyStopping(patience=3,\n",
    "                                                  restore_best_weights=True)\n",
    "hy=m.fit(t_oh,t_y,epochs=100,batch_size=64,validation_data=(v_oh,v_y)\n",
    "        , callbacks=[ck_p,e_stopping])"
   ]
  },
  {
   "cell_type": "code",
   "execution_count": 17,
   "id": "3d662ca9",
   "metadata": {
    "scrolled": true
   },
   "outputs": [
    {
     "data": {
      "text/plain": [
       "[<matplotlib.lines.Line2D at 0x1724a8b4580>]"
      ]
     },
     "execution_count": 17,
     "metadata": {},
     "output_type": "execute_result"
    },
    {
     "data": {
      "image/png": "[encoded data removed]",
      "text/plain": [
       "<Figure size 432x288 with 1 Axes>"
      ]
     },
     "metadata": {
      "needs_background": "light"
     },
     "output_type": "display_data"
    }
   ],
   "source": [
    "plt.plot(hy.history['loss'])\n",
    "plt.plot(hy.history['val_loss'])"
   ]
  },
  {
   "cell_type": "code",
   "execution_count": 18,
   "id": "8a70222d",
   "metadata": {},
   "outputs": [
    {
     "name": "stdout",
     "output_type": "stream",
     "text": [
      "Epoch 1/100\n",
      "313/313 [==============================] - 4s 9ms/step - loss: 0.6889 - accuracy: 0.5456 - val_loss: 0.6782 - val_accuracy: 0.5858\n",
      "Epoch 2/100\n",
      "313/313 [==============================] - 3s 9ms/step - loss: 0.6604 - accuracy: 0.6460 - val_loss: 0.6536 - val_accuracy: 0.6570\n",
      "Epoch 3/100\n",
      "313/313 [==============================] - 3s 9ms/step - loss: 0.6344 - accuracy: 0.6950 - val_loss: 0.6317 - val_accuracy: 0.6928\n",
      "Epoch 4/100\n",
      "313/313 [==============================] - 3s 9ms/step - loss: 0.6096 - accuracy: 0.7260 - val_loss: 0.6114 - val_accuracy: 0.7092\n",
      "Epoch 5/100\n",
      "313/313 [==============================] - 3s 9ms/step - loss: 0.5861 - accuracy: 0.7460 - val_loss: 0.5875 - val_accuracy: 0.7330\n",
      "Epoch 6/100\n",
      "313/313 [==============================] - 3s 9ms/step - loss: 0.5652 - accuracy: 0.7581 - val_loss: 0.5696 - val_accuracy: 0.7458\n",
      "Epoch 7/100\n",
      "313/313 [==============================] - 3s 9ms/step - loss: 0.5461 - accuracy: 0.7691 - val_loss: 0.5578 - val_accuracy: 0.7456\n",
      "Epoch 8/100\n",
      "313/313 [==============================] - 3s 9ms/step - loss: 0.5285 - accuracy: 0.7781 - val_loss: 0.5391 - val_accuracy: 0.7604\n",
      "Epoch 9/100\n",
      "313/313 [==============================] - 3s 9ms/step - loss: 0.5128 - accuracy: 0.7846 - val_loss: 0.5261 - val_accuracy: 0.7698\n",
      "Epoch 10/100\n",
      "313/313 [==============================] - 3s 9ms/step - loss: 0.4985 - accuracy: 0.7916 - val_loss: 0.5151 - val_accuracy: 0.7682\n",
      "Epoch 11/100\n",
      "313/313 [==============================] - 3s 9ms/step - loss: 0.4858 - accuracy: 0.7964 - val_loss: 0.5050 - val_accuracy: 0.7742\n",
      "Epoch 12/100\n",
      "313/313 [==============================] - 3s 9ms/step - loss: 0.4742 - accuracy: 0.7995 - val_loss: 0.4990 - val_accuracy: 0.7740\n",
      "Epoch 13/100\n",
      "313/313 [==============================] - 3s 9ms/step - loss: 0.4644 - accuracy: 0.8043 - val_loss: 0.4885 - val_accuracy: 0.7778\n",
      "Epoch 14/100\n",
      "313/313 [==============================] - 3s 9ms/step - loss: 0.4557 - accuracy: 0.8078 - val_loss: 0.4868 - val_accuracy: 0.7764\n",
      "Epoch 15/100\n",
      "313/313 [==============================] - 3s 9ms/step - loss: 0.4484 - accuracy: 0.8087 - val_loss: 0.4799 - val_accuracy: 0.7796\n",
      "Epoch 16/100\n",
      "313/313 [==============================] - 3s 9ms/step - loss: 0.4419 - accuracy: 0.8105 - val_loss: 0.4747 - val_accuracy: 0.7810\n",
      "Epoch 17/100\n",
      "313/313 [==============================] - 3s 9ms/step - loss: 0.4361 - accuracy: 0.8151 - val_loss: 0.4709 - val_accuracy: 0.7832\n",
      "Epoch 18/100\n",
      "313/313 [==============================] - 3s 9ms/step - loss: 0.4307 - accuracy: 0.8157 - val_loss: 0.4697 - val_accuracy: 0.7850\n",
      "Epoch 19/100\n",
      "313/313 [==============================] - 3s 9ms/step - loss: 0.4261 - accuracy: 0.8177 - val_loss: 0.4698 - val_accuracy: 0.7816\n",
      "Epoch 20/100\n",
      "313/313 [==============================] - 3s 9ms/step - loss: 0.4216 - accuracy: 0.8189 - val_loss: 0.4648 - val_accuracy: 0.7866\n",
      "Epoch 21/100\n",
      "313/313 [==============================] - 3s 9ms/step - loss: 0.4191 - accuracy: 0.8200 - val_loss: 0.4676 - val_accuracy: 0.7824\n",
      "Epoch 22/100\n",
      "313/313 [==============================] - 3s 9ms/step - loss: 0.4151 - accuracy: 0.8225 - val_loss: 0.4640 - val_accuracy: 0.7836\n",
      "Epoch 23/100\n",
      "313/313 [==============================] - 3s 9ms/step - loss: 0.4127 - accuracy: 0.8219 - val_loss: 0.4654 - val_accuracy: 0.7828\n",
      "Epoch 24/100\n",
      "313/313 [==============================] - 3s 9ms/step - loss: 0.4092 - accuracy: 0.8246 - val_loss: 0.4643 - val_accuracy: 0.7840\n",
      "Epoch 25/100\n",
      "313/313 [==============================] - 3s 9ms/step - loss: 0.4067 - accuracy: 0.8243 - val_loss: 0.4672 - val_accuracy: 0.7836\n"
     ]
    }
   ],
   "source": [
    "m1=keras.Sequential()\n",
    "m1.add(keras.layers.Embedding(500,16,input_length=100))\n",
    "m1.add(keras.layers.SimpleRNN(8))\n",
    "m1.add(keras.layers.Dense(1,activation='sigmoid'))\n",
    "ot=keras.optimizers.RMSprop(learning_rate=1e-4)\n",
    "m1.compile(optimizer=ot,loss='binary_crossentropy',metrics='accuracy')\n",
    "ck_p = keras.callbacks.ModelCheckpoint('Ex2_emd.h5', \n",
    "                                                save_best_only=True)\n",
    "e_stopping= keras.callbacks.EarlyStopping(patience=3,\n",
    "                                                  restore_best_weights=True)\n",
    "hy1=m1.fit(s_t_x,t_y,epochs=100,batch_size=64,validation_data=(s_v_x,v_y)\n",
    "        , callbacks=[ck_p,e_stopping])"
   ]
  },
  {
   "cell_type": "code",
   "execution_count": 19,
   "id": "cc9adbca",
   "metadata": {
    "scrolled": true
   },
   "outputs": [
    {
     "data": {
      "text/plain": [
       "[<matplotlib.lines.Line2D at 0x1724aafa820>]"
      ]
     },
     "execution_count": 19,
     "metadata": {},
     "output_type": "execute_result"
    },
    {
     "data": {
      "image/png": "[encoded data removed]",
      "text/plain": [
       "<Figure size 432x288 with 1 Axes>"
      ]
     },
     "metadata": {
      "needs_background": "light"
     },
     "output_type": "display_data"
    }
   ],
   "source": [
    "plt.plot(hy1.history['loss'])\n",
    "plt.plot(hy1.history['val_loss'])"
   ]
  },
  {
   "cell_type": "code",
   "execution_count": 20,
   "id": "06cab9e1",
   "metadata": {},
   "outputs": [],
   "source": [
    "(x_data,y_data),(tt_x,tt_y) = load_data(num_words=500)\n",
    "t_x,v_x,t_y,v_y=train_test_split(x_data,y_data,test_size=0.2,random_state=42)"
   ]
  },
  {
   "cell_type": "code",
   "execution_count": 21,
   "id": "def33411",
   "metadata": {},
   "outputs": [],
   "source": [
    "s_t_x=pad_sequences(t_x,maxlen=100)\n",
    "s_v_x=pad_sequences(v_x,maxlen=100)"
   ]
  },
  {
   "cell_type": "code",
   "execution_count": 22,
   "id": "80992f0f",
   "metadata": {},
   "outputs": [],
   "source": [
    "m2=keras.Sequential()\n",
    "m2.add(keras.layers.Embedding(500,16,input_length=100))\n",
    "m2.add(keras.layers.LSTM(8,dropout=0.3))\n",
    "m2.add(keras.layers.Dense(1,activation='sigmoid'))"
   ]
  },
  {
   "cell_type": "code",
   "execution_count": 23,
   "id": "d536aac5",
   "metadata": {},
   "outputs": [
    {
     "name": "stdout",
     "output_type": "stream",
     "text": [
      "Epoch 1/100\n",
      "313/313 [==============================] - 7s 17ms/step - loss: 0.6922 - accuracy: 0.5350 - val_loss: 0.6913 - val_accuracy: 0.5782\n",
      "Epoch 2/100\n",
      "313/313 [==============================] - 5s 16ms/step - loss: 0.6891 - accuracy: 0.6032 - val_loss: 0.6871 - val_accuracy: 0.6326\n",
      "Epoch 3/100\n",
      "313/313 [==============================] - 5s 16ms/step - loss: 0.6818 - accuracy: 0.6445 - val_loss: 0.6763 - val_accuracy: 0.6528\n",
      "Epoch 4/100\n",
      "313/313 [==============================] - 5s 16ms/step - loss: 0.6524 - accuracy: 0.6723 - val_loss: 0.6147 - val_accuracy: 0.7042\n",
      "Epoch 5/100\n",
      "313/313 [==============================] - 5s 17ms/step - loss: 0.5877 - accuracy: 0.7225 - val_loss: 0.5737 - val_accuracy: 0.7420\n",
      "Epoch 6/100\n",
      "313/313 [==============================] - 5s 16ms/step - loss: 0.5613 - accuracy: 0.7427 - val_loss: 0.5515 - val_accuracy: 0.7464\n",
      "Epoch 7/100\n",
      "313/313 [==============================] - 5s 16ms/step - loss: 0.5405 - accuracy: 0.7562 - val_loss: 0.5336 - val_accuracy: 0.7550\n",
      "Epoch 8/100\n",
      "313/313 [==============================] - 5s 16ms/step - loss: 0.5229 - accuracy: 0.7654 - val_loss: 0.5171 - val_accuracy: 0.7632\n",
      "Epoch 9/100\n",
      "313/313 [==============================] - 5s 16ms/step - loss: 0.5070 - accuracy: 0.7735 - val_loss: 0.5041 - val_accuracy: 0.7718\n",
      "Epoch 10/100\n",
      "313/313 [==============================] - 5s 16ms/step - loss: 0.4941 - accuracy: 0.7786 - val_loss: 0.4911 - val_accuracy: 0.7780\n",
      "Epoch 11/100\n",
      "313/313 [==============================] - 5s 16ms/step - loss: 0.4830 - accuracy: 0.7846 - val_loss: 0.4796 - val_accuracy: 0.7850\n",
      "Epoch 12/100\n",
      "313/313 [==============================] - 5s 16ms/step - loss: 0.4722 - accuracy: 0.7915 - val_loss: 0.4713 - val_accuracy: 0.7874\n",
      "Epoch 13/100\n",
      "313/313 [==============================] - 5s 16ms/step - loss: 0.4656 - accuracy: 0.7890 - val_loss: 0.4653 - val_accuracy: 0.7922\n",
      "Epoch 14/100\n",
      "313/313 [==============================] - 5s 16ms/step - loss: 0.4580 - accuracy: 0.7925 - val_loss: 0.4591 - val_accuracy: 0.7934\n",
      "Epoch 15/100\n",
      "313/313 [==============================] - 5s 16ms/step - loss: 0.4514 - accuracy: 0.7969 - val_loss: 0.4539 - val_accuracy: 0.7954\n",
      "Epoch 16/100\n",
      "313/313 [==============================] - 5s 16ms/step - loss: 0.4469 - accuracy: 0.7986 - val_loss: 0.4511 - val_accuracy: 0.7950\n",
      "Epoch 17/100\n",
      "313/313 [==============================] - 5s 16ms/step - loss: 0.4424 - accuracy: 0.8001 - val_loss: 0.4469 - val_accuracy: 0.7990\n",
      "Epoch 18/100\n",
      "313/313 [==============================] - 5s 16ms/step - loss: 0.4388 - accuracy: 0.8016 - val_loss: 0.4512 - val_accuracy: 0.7944\n",
      "Epoch 19/100\n",
      "313/313 [==============================] - 5s 16ms/step - loss: 0.4355 - accuracy: 0.8041 - val_loss: 0.4436 - val_accuracy: 0.7970\n",
      "Epoch 20/100\n",
      "313/313 [==============================] - 5s 16ms/step - loss: 0.4348 - accuracy: 0.8045 - val_loss: 0.4412 - val_accuracy: 0.8022\n",
      "Epoch 21/100\n",
      "313/313 [==============================] - 5s 16ms/step - loss: 0.4317 - accuracy: 0.8063 - val_loss: 0.4420 - val_accuracy: 0.7984\n",
      "Epoch 22/100\n",
      "313/313 [==============================] - 5s 16ms/step - loss: 0.4295 - accuracy: 0.8056 - val_loss: 0.4402 - val_accuracy: 0.7994\n",
      "Epoch 23/100\n",
      "313/313 [==============================] - 5s 16ms/step - loss: 0.4287 - accuracy: 0.8051 - val_loss: 0.4391 - val_accuracy: 0.8006\n",
      "Epoch 24/100\n",
      "313/313 [==============================] - 5s 16ms/step - loss: 0.4279 - accuracy: 0.8073 - val_loss: 0.4381 - val_accuracy: 0.7994\n",
      "Epoch 25/100\n",
      "313/313 [==============================] - 5s 16ms/step - loss: 0.4269 - accuracy: 0.8073 - val_loss: 0.4366 - val_accuracy: 0.8014\n",
      "Epoch 26/100\n",
      "313/313 [==============================] - 5s 16ms/step - loss: 0.4254 - accuracy: 0.8080 - val_loss: 0.4361 - val_accuracy: 0.8016\n",
      "Epoch 27/100\n",
      "313/313 [==============================] - 5s 16ms/step - loss: 0.4259 - accuracy: 0.8070 - val_loss: 0.4355 - val_accuracy: 0.8000\n",
      "Epoch 28/100\n",
      "313/313 [==============================] - 5s 16ms/step - loss: 0.4248 - accuracy: 0.8075 - val_loss: 0.4356 - val_accuracy: 0.7990\n",
      "Epoch 29/100\n",
      "313/313 [==============================] - 5s 16ms/step - loss: 0.4233 - accuracy: 0.8078 - val_loss: 0.4357 - val_accuracy: 0.7996\n",
      "Epoch 30/100\n",
      "313/313 [==============================] - 5s 16ms/step - loss: 0.4222 - accuracy: 0.8098 - val_loss: 0.4382 - val_accuracy: 0.7988\n"
     ]
    }
   ],
   "source": [
    "ot=keras.optimizers.RMSprop(learning_rate=1e-4)\n",
    "m2.compile(optimizer=ot,loss='binary_crossentropy',metrics='accuracy')\n",
    "ck_p = keras.callbacks.ModelCheckpoint('Ex2_LSTM.h5', \n",
    "                                                save_best_only=True)\n",
    "e_stopping= keras.callbacks.EarlyStopping(patience=3,\n",
    "                                                  restore_best_weights=True)\n",
    "hy2=m2.fit(s_t_x,t_y,epochs=100,batch_size=64,validation_data=(s_v_x,v_y)\n",
    "        , callbacks=[ck_p,e_stopping])"
   ]
  },
  {
   "cell_type": "code",
   "execution_count": 24,
   "id": "b5f4a70f",
   "metadata": {},
   "outputs": [
    {
     "data": {
      "text/plain": [
       "[<matplotlib.lines.Line2D at 0x172078e1640>]"
      ]
     },
     "execution_count": 24,
     "metadata": {},
     "output_type": "execute_result"
    },
    {
     "data": {
      "image/png": "[encoded data removed]",
      "text/plain": [
       "<Figure size 432x288 with 1 Axes>"
      ]
     },
     "metadata": {
      "needs_background": "light"
     },
     "output_type": "display_data"
    }
   ],
   "source": [
    "plt.plot(hy2.history['loss'])\n",
    "plt.plot(hy2.history['val_loss'])"
   ]
  },
  {
   "cell_type": "code",
   "execution_count": 25,
   "id": "3303d3c0",
   "metadata": {},
   "outputs": [],
   "source": [
    "m3=keras.Sequential()\n",
    "m3.add(keras.layers.Embedding(500,16,input_length=100))\n",
    "m3.add(keras.layers.LSTM(8,dropout=0.3,return_sequences=True))\n",
    "m3.add(keras.layers.LSTM(8,dropout=0.3))\n",
    "m3.add(keras.layers.Dense(1,activation='sigmoid'))"
   ]
  },
  {
   "cell_type": "code",
   "execution_count": 26,
   "id": "5141cb42",
   "metadata": {},
   "outputs": [
    {
     "name": "stdout",
     "output_type": "stream",
     "text": [
      "Epoch 1/100\n",
      "313/313 [==============================] - 12s 32ms/step - loss: 0.6927 - accuracy: 0.5407 - val_loss: 0.6921 - val_accuracy: 0.6024\n",
      "Epoch 2/100\n",
      "313/313 [==============================] - 10s 31ms/step - loss: 0.6909 - accuracy: 0.5997 - val_loss: 0.6888 - val_accuracy: 0.6388\n",
      "Epoch 3/100\n",
      "313/313 [==============================] - 10s 31ms/step - loss: 0.6834 - accuracy: 0.6381 - val_loss: 0.6735 - val_accuracy: 0.6608\n",
      "Epoch 4/100\n",
      "313/313 [==============================] - 10s 31ms/step - loss: 0.6417 - accuracy: 0.6750 - val_loss: 0.5885 - val_accuracy: 0.7120\n",
      "Epoch 5/100\n",
      "313/313 [==============================] - 10s 31ms/step - loss: 0.5546 - accuracy: 0.7290 - val_loss: 0.5274 - val_accuracy: 0.7398\n",
      "Epoch 6/100\n",
      "313/313 [==============================] - 10s 31ms/step - loss: 0.5170 - accuracy: 0.7545 - val_loss: 0.5015 - val_accuracy: 0.7604\n",
      "Epoch 7/100\n",
      "313/313 [==============================] - 10s 31ms/step - loss: 0.4995 - accuracy: 0.7637 - val_loss: 0.4875 - val_accuracy: 0.7698\n",
      "Epoch 8/100\n",
      "313/313 [==============================] - 10s 31ms/step - loss: 0.4864 - accuracy: 0.7743 - val_loss: 0.4779 - val_accuracy: 0.7742\n",
      "Epoch 9/100\n",
      "313/313 [==============================] - 10s 31ms/step - loss: 0.4769 - accuracy: 0.7796 - val_loss: 0.4696 - val_accuracy: 0.7832\n",
      "Epoch 10/100\n",
      "313/313 [==============================] - 10s 31ms/step - loss: 0.4669 - accuracy: 0.7850 - val_loss: 0.4629 - val_accuracy: 0.7840\n",
      "Epoch 11/100\n",
      "313/313 [==============================] - 10s 31ms/step - loss: 0.4631 - accuracy: 0.7864 - val_loss: 0.4614 - val_accuracy: 0.7852\n",
      "Epoch 12/100\n",
      "313/313 [==============================] - 10s 31ms/step - loss: 0.4565 - accuracy: 0.7895 - val_loss: 0.4574 - val_accuracy: 0.7878\n",
      "Epoch 13/100\n",
      "313/313 [==============================] - 10s 31ms/step - loss: 0.4537 - accuracy: 0.7906 - val_loss: 0.4535 - val_accuracy: 0.7894\n",
      "Epoch 14/100\n",
      "313/313 [==============================] - 10s 31ms/step - loss: 0.4494 - accuracy: 0.7948 - val_loss: 0.4502 - val_accuracy: 0.7924\n",
      "Epoch 15/100\n",
      "313/313 [==============================] - 10s 31ms/step - loss: 0.4455 - accuracy: 0.7984 - val_loss: 0.4493 - val_accuracy: 0.7904\n",
      "Epoch 16/100\n",
      "313/313 [==============================] - 10s 31ms/step - loss: 0.4430 - accuracy: 0.7992 - val_loss: 0.4506 - val_accuracy: 0.7924\n",
      "Epoch 17/100\n",
      "313/313 [==============================] - 10s 31ms/step - loss: 0.4423 - accuracy: 0.7994 - val_loss: 0.4448 - val_accuracy: 0.7930\n",
      "Epoch 18/100\n",
      "313/313 [==============================] - 10s 31ms/step - loss: 0.4399 - accuracy: 0.8012 - val_loss: 0.4452 - val_accuracy: 0.7934\n",
      "Epoch 19/100\n",
      "313/313 [==============================] - 10s 31ms/step - loss: 0.4371 - accuracy: 0.8011 - val_loss: 0.4421 - val_accuracy: 0.7948\n",
      "Epoch 20/100\n",
      "313/313 [==============================] - 10s 31ms/step - loss: 0.4361 - accuracy: 0.8024 - val_loss: 0.4420 - val_accuracy: 0.7938\n",
      "Epoch 21/100\n",
      "313/313 [==============================] - 10s 31ms/step - loss: 0.4344 - accuracy: 0.8019 - val_loss: 0.4405 - val_accuracy: 0.7960\n",
      "Epoch 22/100\n",
      "313/313 [==============================] - 10s 31ms/step - loss: 0.4345 - accuracy: 0.8038 - val_loss: 0.4402 - val_accuracy: 0.7970\n",
      "Epoch 23/100\n",
      "313/313 [==============================] - 10s 31ms/step - loss: 0.4314 - accuracy: 0.8070 - val_loss: 0.4485 - val_accuracy: 0.7952\n",
      "Epoch 24/100\n",
      "313/313 [==============================] - 10s 31ms/step - loss: 0.4321 - accuracy: 0.8015 - val_loss: 0.4377 - val_accuracy: 0.7962\n",
      "Epoch 25/100\n",
      "313/313 [==============================] - 10s 31ms/step - loss: 0.4304 - accuracy: 0.8041 - val_loss: 0.4383 - val_accuracy: 0.8002\n",
      "Epoch 26/100\n",
      "313/313 [==============================] - 10s 31ms/step - loss: 0.4279 - accuracy: 0.8049 - val_loss: 0.4374 - val_accuracy: 0.8008\n",
      "Epoch 27/100\n",
      "313/313 [==============================] - 10s 31ms/step - loss: 0.4244 - accuracy: 0.8077 - val_loss: 0.4362 - val_accuracy: 0.8002\n",
      "Epoch 28/100\n",
      "313/313 [==============================] - 10s 31ms/step - loss: 0.4263 - accuracy: 0.8068 - val_loss: 0.4415 - val_accuracy: 0.7888\n",
      "Epoch 29/100\n",
      "313/313 [==============================] - 10s 31ms/step - loss: 0.4245 - accuracy: 0.8074 - val_loss: 0.4356 - val_accuracy: 0.7976\n",
      "Epoch 30/100\n",
      "313/313 [==============================] - 10s 31ms/step - loss: 0.4249 - accuracy: 0.8059 - val_loss: 0.4354 - val_accuracy: 0.7990\n",
      "Epoch 31/100\n",
      "313/313 [==============================] - 10s 31ms/step - loss: 0.4244 - accuracy: 0.8044 - val_loss: 0.4348 - val_accuracy: 0.7976\n",
      "Epoch 32/100\n",
      "313/313 [==============================] - 10s 31ms/step - loss: 0.4223 - accuracy: 0.8090 - val_loss: 0.4338 - val_accuracy: 0.7996\n",
      "Epoch 33/100\n",
      "313/313 [==============================] - 10s 31ms/step - loss: 0.4227 - accuracy: 0.8080 - val_loss: 0.4361 - val_accuracy: 0.8032\n",
      "Epoch 34/100\n",
      "313/313 [==============================] - 10s 31ms/step - loss: 0.4222 - accuracy: 0.8077 - val_loss: 0.4331 - val_accuracy: 0.8006\n",
      "Epoch 35/100\n",
      "313/313 [==============================] - 10s 31ms/step - loss: 0.4202 - accuracy: 0.8089 - val_loss: 0.4351 - val_accuracy: 0.8006\n",
      "Epoch 36/100\n",
      "313/313 [==============================] - 10s 31ms/step - loss: 0.4199 - accuracy: 0.8083 - val_loss: 0.4355 - val_accuracy: 0.8020\n",
      "Epoch 37/100\n",
      "313/313 [==============================] - 10s 31ms/step - loss: 0.4206 - accuracy: 0.8080 - val_loss: 0.4330 - val_accuracy: 0.8034\n",
      "Epoch 38/100\n",
      "313/313 [==============================] - 10s 31ms/step - loss: 0.4188 - accuracy: 0.8077 - val_loss: 0.4325 - val_accuracy: 0.8028\n",
      "Epoch 39/100\n",
      "313/313 [==============================] - 10s 31ms/step - loss: 0.4193 - accuracy: 0.8087 - val_loss: 0.4330 - val_accuracy: 0.8010\n",
      "Epoch 40/100\n",
      "313/313 [==============================] - 10s 31ms/step - loss: 0.4181 - accuracy: 0.8097 - val_loss: 0.4326 - val_accuracy: 0.8024\n",
      "Epoch 41/100\n",
      "313/313 [==============================] - 10s 31ms/step - loss: 0.4178 - accuracy: 0.8095 - val_loss: 0.4318 - val_accuracy: 0.8036\n",
      "Epoch 42/100\n",
      "313/313 [==============================] - 10s 31ms/step - loss: 0.4171 - accuracy: 0.8120 - val_loss: 0.4335 - val_accuracy: 0.8004\n",
      "Epoch 43/100\n",
      "313/313 [==============================] - 10s 31ms/step - loss: 0.4174 - accuracy: 0.8098 - val_loss: 0.4319 - val_accuracy: 0.7998\n",
      "Epoch 44/100\n",
      "313/313 [==============================] - 10s 31ms/step - loss: 0.4154 - accuracy: 0.8104 - val_loss: 0.4319 - val_accuracy: 0.8026\n"
     ]
    }
   ],
   "source": [
    "ot=keras.optimizers.RMSprop(learning_rate=1e-4)\n",
    "m3.compile(optimizer=ot,loss='binary_crossentropy',metrics='accuracy')\n",
    "ck_p = keras.callbacks.ModelCheckpoint('Ex2_LSTM_M.h5', \n",
    "                                                save_best_only=True)\n",
    "e_stopping= keras.callbacks.EarlyStopping(patience=3,\n",
    "                                                  restore_best_weights=True)\n",
    "hy3=m3.fit(s_t_x,t_y,epochs=100,batch_size=64,validation_data=(s_v_x,v_y)\n",
    "        , callbacks=[ck_p,e_stopping])"
   ]
  },
  {
   "cell_type": "code",
   "execution_count": 27,
   "id": "41bd8fba",
   "metadata": {},
   "outputs": [
    {
     "data": {
      "text/plain": [
       "[<matplotlib.lines.Line2D at 0x17203caa2b0>]"
      ]
     },
     "execution_count": 27,
     "metadata": {},
     "output_type": "execute_result"
    },
    {
     "data": {
      "image/png": "[encoded data removed]",
      "text/plain": [
       "<Figure size 432x288 with 1 Axes>"
      ]
     },
     "metadata": {
      "needs_background": "light"
     },
     "output_type": "display_data"
    }
   ],
   "source": [
    "plt.plot(hy3.history['loss'])\n",
    "plt.plot(hy3.history['val_loss'])"
   ]
  },
  {
   "cell_type": "code",
   "execution_count": 28,
   "id": "c1e3e81a",
   "metadata": {},
   "outputs": [],
   "source": [
    "m4 = keras.Sequential()\n",
    "m4.add(keras.layers.Embedding(500, 16, input_length = 100))\n",
    "m4.add(keras.layers.GRU(8, dropout = 0.3, return_sequences = True))\n",
    "m4.add(keras.layers.GRU(8, dropout = 0.3))\n",
    "m4.add(keras.layers.Dense(1, activation = 'sigmoid'))"
   ]
  },
  {
   "cell_type": "code",
   "execution_count": 29,
   "id": "9ca4a6ce",
   "metadata": {},
   "outputs": [
    {
     "name": "stdout",
     "output_type": "stream",
     "text": [
      "Epoch 1/100\n",
      "313/313 [==============================] - 13s 36ms/step - loss: 0.6928 - accuracy: 0.5174 - val_loss: 0.6923 - val_accuracy: 0.5400\n",
      "Epoch 2/100\n",
      "313/313 [==============================] - 11s 34ms/step - loss: 0.6914 - accuracy: 0.5599 - val_loss: 0.6905 - val_accuracy: 0.5768\n",
      "Epoch 3/100\n",
      "313/313 [==============================] - 11s 34ms/step - loss: 0.6882 - accuracy: 0.5993 - val_loss: 0.6862 - val_accuracy: 0.6060\n",
      "Epoch 4/100\n",
      "313/313 [==============================] - 11s 34ms/step - loss: 0.6809 - accuracy: 0.6220 - val_loss: 0.6755 - val_accuracy: 0.6330\n",
      "Epoch 5/100\n",
      "313/313 [==============================] - 11s 34ms/step - loss: 0.6638 - accuracy: 0.6442 - val_loss: 0.6526 - val_accuracy: 0.6516\n",
      "Epoch 6/100\n",
      "313/313 [==============================] - 11s 34ms/step - loss: 0.6323 - accuracy: 0.6628 - val_loss: 0.6150 - val_accuracy: 0.6714\n",
      "Epoch 7/100\n",
      "313/313 [==============================] - 11s 34ms/step - loss: 0.5967 - accuracy: 0.6842 - val_loss: 0.5826 - val_accuracy: 0.6958\n",
      "Epoch 8/100\n",
      "313/313 [==============================] - 11s 34ms/step - loss: 0.5674 - accuracy: 0.7056 - val_loss: 0.5577 - val_accuracy: 0.7156\n",
      "Epoch 9/100\n",
      "313/313 [==============================] - 11s 34ms/step - loss: 0.5401 - accuracy: 0.7301 - val_loss: 0.5312 - val_accuracy: 0.7406\n",
      "Epoch 10/100\n",
      "313/313 [==============================] - 11s 34ms/step - loss: 0.5185 - accuracy: 0.7486 - val_loss: 0.5156 - val_accuracy: 0.7488\n",
      "Epoch 11/100\n",
      "313/313 [==============================] - 11s 34ms/step - loss: 0.5067 - accuracy: 0.7579 - val_loss: 0.5083 - val_accuracy: 0.7606\n",
      "Epoch 12/100\n",
      "313/313 [==============================] - 11s 34ms/step - loss: 0.4983 - accuracy: 0.7635 - val_loss: 0.4984 - val_accuracy: 0.7658\n",
      "Epoch 13/100\n",
      "313/313 [==============================] - 11s 34ms/step - loss: 0.4941 - accuracy: 0.7682 - val_loss: 0.4937 - val_accuracy: 0.7688\n",
      "Epoch 14/100\n",
      "313/313 [==============================] - 11s 34ms/step - loss: 0.4896 - accuracy: 0.7692 - val_loss: 0.4888 - val_accuracy: 0.7690\n",
      "Epoch 15/100\n",
      "313/313 [==============================] - 11s 34ms/step - loss: 0.4813 - accuracy: 0.7746 - val_loss: 0.4850 - val_accuracy: 0.7708\n",
      "Epoch 16/100\n",
      "313/313 [==============================] - 11s 34ms/step - loss: 0.4798 - accuracy: 0.7760 - val_loss: 0.4809 - val_accuracy: 0.7778\n",
      "Epoch 17/100\n",
      "313/313 [==============================] - 11s 34ms/step - loss: 0.4752 - accuracy: 0.7796 - val_loss: 0.4763 - val_accuracy: 0.7776\n",
      "Epoch 18/100\n",
      "313/313 [==============================] - 11s 34ms/step - loss: 0.4712 - accuracy: 0.7813 - val_loss: 0.4737 - val_accuracy: 0.7796\n",
      "Epoch 19/100\n",
      "313/313 [==============================] - 11s 34ms/step - loss: 0.4685 - accuracy: 0.7840 - val_loss: 0.4704 - val_accuracy: 0.7810\n",
      "Epoch 20/100\n",
      "313/313 [==============================] - 11s 34ms/step - loss: 0.4641 - accuracy: 0.7863 - val_loss: 0.4687 - val_accuracy: 0.7768\n",
      "Epoch 21/100\n",
      "313/313 [==============================] - 11s 34ms/step - loss: 0.4608 - accuracy: 0.7882 - val_loss: 0.4641 - val_accuracy: 0.7820\n",
      "Epoch 22/100\n",
      "313/313 [==============================] - 11s 34ms/step - loss: 0.4574 - accuracy: 0.7900 - val_loss: 0.4621 - val_accuracy: 0.7832\n",
      "Epoch 23/100\n",
      "313/313 [==============================] - 11s 34ms/step - loss: 0.4560 - accuracy: 0.7914 - val_loss: 0.4609 - val_accuracy: 0.7838\n",
      "Epoch 24/100\n",
      "313/313 [==============================] - 11s 34ms/step - loss: 0.4517 - accuracy: 0.7940 - val_loss: 0.4575 - val_accuracy: 0.7880\n",
      "Epoch 25/100\n",
      "313/313 [==============================] - 11s 34ms/step - loss: 0.4502 - accuracy: 0.7938 - val_loss: 0.4562 - val_accuracy: 0.7890\n",
      "Epoch 26/100\n",
      "313/313 [==============================] - 11s 34ms/step - loss: 0.4483 - accuracy: 0.7954 - val_loss: 0.4556 - val_accuracy: 0.7878\n",
      "Epoch 27/100\n",
      "313/313 [==============================] - 11s 34ms/step - loss: 0.4465 - accuracy: 0.7949 - val_loss: 0.4537 - val_accuracy: 0.7866\n",
      "Epoch 28/100\n",
      "313/313 [==============================] - 11s 34ms/step - loss: 0.4432 - accuracy: 0.7994 - val_loss: 0.4505 - val_accuracy: 0.7902\n",
      "Epoch 29/100\n",
      "313/313 [==============================] - 11s 34ms/step - loss: 0.4425 - accuracy: 0.7986 - val_loss: 0.4514 - val_accuracy: 0.7880\n",
      "Epoch 30/100\n",
      "313/313 [==============================] - 11s 34ms/step - loss: 0.4405 - accuracy: 0.7986 - val_loss: 0.4498 - val_accuracy: 0.7928\n",
      "Epoch 31/100\n",
      "313/313 [==============================] - 11s 34ms/step - loss: 0.4361 - accuracy: 0.8020 - val_loss: 0.4474 - val_accuracy: 0.7908\n",
      "Epoch 32/100\n",
      "313/313 [==============================] - 11s 34ms/step - loss: 0.4355 - accuracy: 0.8034 - val_loss: 0.4512 - val_accuracy: 0.7884\n",
      "Epoch 33/100\n",
      "313/313 [==============================] - 11s 35ms/step - loss: 0.4349 - accuracy: 0.8018 - val_loss: 0.4453 - val_accuracy: 0.7944\n",
      "Epoch 34/100\n",
      "313/313 [==============================] - 11s 34ms/step - loss: 0.4343 - accuracy: 0.8038 - val_loss: 0.4549 - val_accuracy: 0.7850\n",
      "Epoch 35/100\n",
      "313/313 [==============================] - 11s 34ms/step - loss: 0.4318 - accuracy: 0.8047 - val_loss: 0.4434 - val_accuracy: 0.7968\n",
      "Epoch 36/100\n",
      "313/313 [==============================] - 11s 34ms/step - loss: 0.4303 - accuracy: 0.8055 - val_loss: 0.4419 - val_accuracy: 0.7930\n",
      "Epoch 37/100\n",
      "313/313 [==============================] - 11s 34ms/step - loss: 0.4288 - accuracy: 0.8070 - val_loss: 0.4409 - val_accuracy: 0.7944\n",
      "Epoch 38/100\n",
      "313/313 [==============================] - 11s 34ms/step - loss: 0.4285 - accuracy: 0.8063 - val_loss: 0.4405 - val_accuracy: 0.7966\n",
      "Epoch 39/100\n",
      "313/313 [==============================] - 11s 34ms/step - loss: 0.4279 - accuracy: 0.8049 - val_loss: 0.4436 - val_accuracy: 0.7932\n",
      "Epoch 40/100\n",
      "313/313 [==============================] - 11s 34ms/step - loss: 0.4274 - accuracy: 0.8074 - val_loss: 0.4391 - val_accuracy: 0.7944\n",
      "Epoch 41/100\n",
      "313/313 [==============================] - 11s 34ms/step - loss: 0.4246 - accuracy: 0.8058 - val_loss: 0.4395 - val_accuracy: 0.7964\n",
      "Epoch 42/100\n",
      "313/313 [==============================] - 11s 34ms/step - loss: 0.4239 - accuracy: 0.8088 - val_loss: 0.4394 - val_accuracy: 0.7952\n",
      "Epoch 43/100\n",
      "313/313 [==============================] - 11s 34ms/step - loss: 0.4248 - accuracy: 0.8077 - val_loss: 0.4401 - val_accuracy: 0.7938\n"
     ]
    }
   ],
   "source": [
    "ot = keras.optimizers.RMSprop(learning_rate = 1e-4)\n",
    "m4.compile(optimizer = ot, loss = 'binary_crossentropy', metrics = 'accuracy')\n",
    "ck_p = keras.callbacks.ModelCheckpoint('Ex2_GRU_M.h5', save_best_only = True)\n",
    "e_stopping = keras.callbacks.EarlyStopping(patience = 3, restore_best_weights = True)\n",
    "hy4 = m4.fit(s_t_x, t_y, epochs = 100, batch_size = 64, validation_data = (s_v_x, v_y), callbacks=[ck_p, e_stopping])"
   ]
  },
  {
   "cell_type": "code",
   "execution_count": 30,
   "id": "3b01df38",
   "metadata": {},
   "outputs": [
    {
     "data": {
      "text/plain": [
       "[<matplotlib.lines.Line2D at 0x1720383d3a0>]"
      ]
     },
     "execution_count": 30,
     "metadata": {},
     "output_type": "execute_result"
    },
    {
     "data": {
      "image/png": "[encoded data removed]",
      "text/plain": [
       "<Figure size 432x288 with 1 Axes>"
      ]
     },
     "metadata": {
      "needs_background": "light"
     },
     "output_type": "display_data"
    }
   ],
   "source": [
    "plt.plot(hy4.history['loss'])\n",
    "plt.plot(hy4.history['val_loss'])"
   ]
  }
 ],
 "metadata": {
  "kernelspec": {
   "display_name": "Python 3 (ipykernel)",
   "language": "python",
   "name": "python3"
  },
  "language_info": {
   "codemirror_mode": {
    "name": "ipython",
    "version": 3
   },
   "file_extension": ".py",
   "mimetype": "text/x-python",
   "name": "python",
   "nbconvert_exporter": "python",
   "pygments_lexer": "ipython3",
   "version": "3.9.7"
  }
 },
 "nbformat": 4,
 "nbformat_minor": 5
}
