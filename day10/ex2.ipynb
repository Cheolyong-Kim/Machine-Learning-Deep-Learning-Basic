{
 "cells": [
  {
   "cell_type": "code",
   "execution_count": 1,
   "id": "94ad9752",
   "metadata": {},
   "outputs": [
    {
     "data": {
      "text/plain": [
       "(25000,)"
      ]
     },
     "execution_count": 1,
     "metadata": {},
     "output_type": "execute_result"
    }
   ],
   "source": [
    "from tensorflow.keras.datasets.imdb import load_data\n",
    "\n",
    "(x_data, y_data), (tt_x, tt_y) = load_data(num_words = 500)  # 500번 단어 까지만 들고옴\n",
    "x_data.shape"
   ]
  },
  {
   "cell_type": "code",
   "execution_count": 2,
   "id": "b79d4f9f",
   "metadata": {},
   "outputs": [
    {
     "data": {
      "text/plain": [
       "(218, 189)"
      ]
     },
     "execution_count": 2,
     "metadata": {},
     "output_type": "execute_result"
    }
   ],
   "source": [
    "len(x_data[0]), len(x_data[1])  # 길이 제약을 주지 않았기 때문에 데이터 하나하나의 길이는 다름"
   ]
  },
  {
   "cell_type": "code",
   "execution_count": 3,
   "id": "bd730afe",
   "metadata": {},
   "outputs": [
    {
     "data": {
      "text/plain": [
       "array([1, 0, 0, 1, 0], dtype=int64)"
      ]
     },
     "execution_count": 3,
     "metadata": {},
     "output_type": "execute_result"
    }
   ],
   "source": [
    "y_data[:5]  # 긍정, 부정으로 나뉨"
   ]
  },
  {
   "cell_type": "code",
   "execution_count": 4,
   "id": "f60b1245",
   "metadata": {},
   "outputs": [],
   "source": [
    "from sklearn.model_selection import train_test_split\n",
    "\n",
    "t_x, v_x, t_y, v_y = train_test_split(x_data, y_data, test_size = 0.2, random_state = 42)"
   ]
  },
  {
   "cell_type": "code",
   "execution_count": 5,
   "id": "940e8836",
   "metadata": {},
   "outputs": [
    {
     "data": {
      "text/plain": [
       "array([259, 520, 290, ..., 300,  70,  77])"
      ]
     },
     "execution_count": 5,
     "metadata": {},
     "output_type": "execute_result"
    }
   ],
   "source": [
    "import numpy as np\n",
    "l = np.array([len(x) for x in t_x])\n",
    "l"
   ]
  },
  {
   "cell_type": "code",
   "execution_count": 6,
   "id": "971310ba",
   "metadata": {},
   "outputs": [
    {
     "data": {
      "image/png": "[encoded data removed]",
      "text/plain": [
       "<Figure size 432x288 with 1 Axes>"
      ]
     },
     "metadata": {
      "needs_background": "light"
     },
     "output_type": "display_data"
    }
   ],
   "source": [
    "import matplotlib.pyplot as plt\n",
    "plt.hist(l)\n",
    "plt.show()"
   ]
  },
  {
   "cell_type": "code",
   "execution_count": 7,
   "id": "d6171774",
   "metadata": {},
   "outputs": [
    {
     "data": {
      "text/plain": [
       "178.0"
      ]
     },
     "execution_count": 7,
     "metadata": {},
     "output_type": "execute_result"
    }
   ],
   "source": [
    "np.median(l)  # 중간값 출력"
   ]
  },
  {
   "cell_type": "code",
   "execution_count": 8,
   "id": "abe198dd",
   "metadata": {},
   "outputs": [],
   "source": [
    "from tensorflow.keras.preprocessing.sequence import pad_sequences\n",
    "\n",
    "s_t_x = pad_sequences(t_x, maxlen = 100)  # 텍스트 앞 부분을 보통 자름(리뷰 앞부분은 보통 본인의 소개거나 비교에 필요없는 내용이기 때문)"
   ]
  },
  {
   "cell_type": "code",
   "execution_count": 9,
   "id": "ec0d4889",
   "metadata": {},
   "outputs": [
    {
     "data": {
      "text/plain": [
       "(20000, 100)"
      ]
     },
     "execution_count": 9,
     "metadata": {},
     "output_type": "execute_result"
    }
   ],
   "source": [
    "s_t_x.shape"
   ]
  },
  {
   "cell_type": "code",
   "execution_count": 10,
   "id": "bfc991f1",
   "metadata": {},
   "outputs": [],
   "source": [
    "s_v_x = pad_sequences(v_x, maxlen = 100)"
   ]
  },
  {
   "cell_type": "code",
   "execution_count": 11,
   "id": "69417f6f",
   "metadata": {},
   "outputs": [],
   "source": [
    "from tensorflow import keras\n",
    "\n",
    "m = keras.Sequential()"
   ]
  },
  {
   "cell_type": "code",
   "execution_count": 12,
   "id": "d8f68fa7",
   "metadata": {},
   "outputs": [],
   "source": [
    "m.add(keras.layers.SimpleRNN(8, input_shape = (100, 500)))  # 단어길이는 100개, 단어 종류는 500개\n",
    "m.add(keras.layers.Dense(1, activation = 'sigmoid'))"
   ]
  },
  {
   "cell_type": "code",
   "execution_count": 13,
   "id": "5050d932",
   "metadata": {},
   "outputs": [],
   "source": [
    "t_h0 = keras.utils.to_categorical(s_t_x)  # 원-핫 인코딩"
   ]
  },
  {
   "cell_type": "code",
   "execution_count": 14,
   "id": "1e7fedb6",
   "metadata": {},
   "outputs": [
    {
     "data": {
      "text/plain": [
       "(20000, 100, 500)"
      ]
     },
     "execution_count": 14,
     "metadata": {},
     "output_type": "execute_result"
    }
   ],
   "source": [
    "t_h0.shape"
   ]
  },
  {
   "cell_type": "code",
   "execution_count": 15,
   "id": "e442a28c",
   "metadata": {},
   "outputs": [],
   "source": [
    "v_h0 = keras.utils.to_categorical(s_v_x)"
   ]
  },
  {
   "cell_type": "code",
   "execution_count": 16,
   "id": "d8fff408",
   "metadata": {},
   "outputs": [
    {
     "name": "stdout",
     "output_type": "stream",
     "text": [
      "Model: \"sequential\"\n",
      "_________________________________________________________________\n",
      " Layer (type)                Output Shape              Param #   \n",
      "=================================================================\n",
      " simple_rnn (SimpleRNN)      (None, 8)                 4072      \n",
      "                                                                 \n",
      " dense (Dense)               (None, 1)                 9         \n",
      "                                                                 \n",
      "=================================================================\n",
      "Total params: 4,081\n",
      "Trainable params: 4,081\n",
      "Non-trainable params: 0\n",
      "_________________________________________________________________\n"
     ]
    }
   ],
   "source": [
    "m.summary()"
   ]
  },
  {
   "cell_type": "code",
   "execution_count": 17,
   "id": "a6cc99f2",
   "metadata": {},
   "outputs": [
    {
     "name": "stdout",
     "output_type": "stream",
     "text": [
      "Epoch 1/100\n",
      "313/313 [==============================] - 10s 27ms/step - loss: 0.7020 - accuracy: 0.4993 - val_loss: 0.6986 - val_accuracy: 0.5012\n",
      "Epoch 2/100\n",
      "313/313 [==============================] - 8s 25ms/step - loss: 0.6967 - accuracy: 0.5087 - val_loss: 0.6950 - val_accuracy: 0.5166\n",
      "Epoch 3/100\n",
      "313/313 [==============================] - 10s 33ms/step - loss: 0.6929 - accuracy: 0.5206 - val_loss: 0.6924 - val_accuracy: 0.5238\n",
      "Epoch 4/100\n",
      "313/313 [==============================] - 10s 32ms/step - loss: 0.6895 - accuracy: 0.5346 - val_loss: 0.6899 - val_accuracy: 0.5314\n",
      "Epoch 5/100\n",
      "313/313 [==============================] - 8s 25ms/step - loss: 0.6863 - accuracy: 0.5462 - val_loss: 0.6876 - val_accuracy: 0.5450\n",
      "Epoch 6/100\n",
      "313/313 [==============================] - 9s 28ms/step - loss: 0.6829 - accuracy: 0.5578 - val_loss: 0.6847 - val_accuracy: 0.5532\n",
      "Epoch 7/100\n",
      "313/313 [==============================] - 10s 31ms/step - loss: 0.6789 - accuracy: 0.5720 - val_loss: 0.6813 - val_accuracy: 0.5660\n",
      "Epoch 8/100\n",
      "313/313 [==============================] - 9s 28ms/step - loss: 0.6740 - accuracy: 0.5839 - val_loss: 0.6750 - val_accuracy: 0.5804\n",
      "Epoch 9/100\n",
      "313/313 [==============================] - 9s 28ms/step - loss: 0.6646 - accuracy: 0.6047 - val_loss: 0.6536 - val_accuracy: 0.6312\n",
      "Epoch 10/100\n",
      "313/313 [==============================] - 8s 25ms/step - loss: 0.6113 - accuracy: 0.6715 - val_loss: 0.5967 - val_accuracy: 0.6874\n",
      "Epoch 11/100\n",
      "313/313 [==============================] - 9s 29ms/step - loss: 0.5775 - accuracy: 0.7036 - val_loss: 0.5715 - val_accuracy: 0.7064\n",
      "Epoch 12/100\n",
      "313/313 [==============================] - 9s 28ms/step - loss: 0.5502 - accuracy: 0.7283 - val_loss: 0.5475 - val_accuracy: 0.7326\n",
      "Epoch 13/100\n",
      "313/313 [==============================] - 9s 28ms/step - loss: 0.5272 - accuracy: 0.7462 - val_loss: 0.5299 - val_accuracy: 0.7408\n",
      "Epoch 14/100\n",
      "313/313 [==============================] - 8s 26ms/step - loss: 0.5112 - accuracy: 0.7588 - val_loss: 0.5163 - val_accuracy: 0.7532\n",
      "Epoch 15/100\n",
      "313/313 [==============================] - 8s 25ms/step - loss: 0.4980 - accuracy: 0.7685 - val_loss: 0.5055 - val_accuracy: 0.7606\n",
      "Epoch 16/100\n",
      "313/313 [==============================] - 9s 27ms/step - loss: 0.4859 - accuracy: 0.7764 - val_loss: 0.4997 - val_accuracy: 0.7618\n",
      "Epoch 17/100\n",
      "313/313 [==============================] - 8s 27ms/step - loss: 0.4766 - accuracy: 0.7835 - val_loss: 0.4882 - val_accuracy: 0.7688\n",
      "Epoch 18/100\n",
      "313/313 [==============================] - 9s 28ms/step - loss: 0.4701 - accuracy: 0.7871 - val_loss: 0.4883 - val_accuracy: 0.7726\n",
      "Epoch 19/100\n",
      "313/313 [==============================] - 8s 26ms/step - loss: 0.4624 - accuracy: 0.7908 - val_loss: 0.4796 - val_accuracy: 0.7758\n",
      "Epoch 20/100\n",
      "313/313 [==============================] - 9s 29ms/step - loss: 0.4570 - accuracy: 0.7955 - val_loss: 0.4738 - val_accuracy: 0.7800\n",
      "Epoch 21/100\n",
      "313/313 [==============================] - 8s 27ms/step - loss: 0.4522 - accuracy: 0.7972 - val_loss: 0.4725 - val_accuracy: 0.7812\n",
      "Epoch 22/100\n",
      "313/313 [==============================] - 9s 28ms/step - loss: 0.4477 - accuracy: 0.8002 - val_loss: 0.4678 - val_accuracy: 0.7828\n",
      "Epoch 23/100\n",
      "313/313 [==============================] - 8s 26ms/step - loss: 0.4446 - accuracy: 0.8011 - val_loss: 0.4700 - val_accuracy: 0.7804\n",
      "Epoch 24/100\n",
      "313/313 [==============================] - 8s 25ms/step - loss: 0.4413 - accuracy: 0.8055 - val_loss: 0.4647 - val_accuracy: 0.7848\n",
      "Epoch 25/100\n",
      "313/313 [==============================] - 8s 27ms/step - loss: 0.4374 - accuracy: 0.8070 - val_loss: 0.4610 - val_accuracy: 0.7834\n",
      "Epoch 26/100\n",
      "313/313 [==============================] - 8s 26ms/step - loss: 0.4350 - accuracy: 0.8075 - val_loss: 0.4637 - val_accuracy: 0.7868\n",
      "Epoch 27/100\n",
      "313/313 [==============================] - 8s 26ms/step - loss: 0.4330 - accuracy: 0.8088 - val_loss: 0.4596 - val_accuracy: 0.7852\n",
      "Epoch 28/100\n",
      "313/313 [==============================] - 9s 29ms/step - loss: 0.4308 - accuracy: 0.8111 - val_loss: 0.4565 - val_accuracy: 0.7876\n",
      "Epoch 29/100\n",
      "313/313 [==============================] - 9s 29ms/step - loss: 0.4284 - accuracy: 0.8125 - val_loss: 0.4619 - val_accuracy: 0.7866\n",
      "Epoch 30/100\n",
      "313/313 [==============================] - 9s 28ms/step - loss: 0.4268 - accuracy: 0.8113 - val_loss: 0.4550 - val_accuracy: 0.7876\n",
      "Epoch 31/100\n",
      "313/313 [==============================] - 9s 28ms/step - loss: 0.4254 - accuracy: 0.8130 - val_loss: 0.4536 - val_accuracy: 0.7898\n",
      "Epoch 32/100\n",
      "313/313 [==============================] - 9s 29ms/step - loss: 0.4245 - accuracy: 0.8144 - val_loss: 0.4543 - val_accuracy: 0.7884\n",
      "Epoch 33/100\n",
      "313/313 [==============================] - 9s 28ms/step - loss: 0.4221 - accuracy: 0.8151 - val_loss: 0.4505 - val_accuracy: 0.7896\n",
      "Epoch 34/100\n",
      "313/313 [==============================] - 9s 28ms/step - loss: 0.4213 - accuracy: 0.8141 - val_loss: 0.4498 - val_accuracy: 0.7918\n",
      "Epoch 35/100\n",
      "313/313 [==============================] - 9s 30ms/step - loss: 0.4204 - accuracy: 0.8145 - val_loss: 0.4551 - val_accuracy: 0.7862\n",
      "Epoch 36/100\n",
      "313/313 [==============================] - 11s 36ms/step - loss: 0.4187 - accuracy: 0.8152 - val_loss: 0.4497 - val_accuracy: 0.7944\n",
      "Epoch 37/100\n",
      "313/313 [==============================] - 11s 36ms/step - loss: 0.4179 - accuracy: 0.8166 - val_loss: 0.4488 - val_accuracy: 0.7942\n",
      "Epoch 38/100\n",
      "313/313 [==============================] - 9s 28ms/step - loss: 0.4167 - accuracy: 0.8162 - val_loss: 0.4517 - val_accuracy: 0.7932\n",
      "Epoch 39/100\n",
      "313/313 [==============================] - 8s 26ms/step - loss: 0.4158 - accuracy: 0.8174 - val_loss: 0.4472 - val_accuracy: 0.7944\n",
      "Epoch 40/100\n",
      "313/313 [==============================] - 8s 24ms/step - loss: 0.4147 - accuracy: 0.8178 - val_loss: 0.4479 - val_accuracy: 0.7932\n",
      "Epoch 41/100\n",
      "313/313 [==============================] - 8s 25ms/step - loss: 0.4133 - accuracy: 0.8187 - val_loss: 0.4490 - val_accuracy: 0.7966\n",
      "Epoch 42/100\n",
      "313/313 [==============================] - 8s 26ms/step - loss: 0.4126 - accuracy: 0.8192 - val_loss: 0.4460 - val_accuracy: 0.7956\n",
      "Epoch 43/100\n",
      "313/313 [==============================] - 10s 32ms/step - loss: 0.4120 - accuracy: 0.8173 - val_loss: 0.4466 - val_accuracy: 0.7976\n",
      "Epoch 44/100\n",
      "313/313 [==============================] - 8s 25ms/step - loss: 0.4115 - accuracy: 0.8183 - val_loss: 0.4466 - val_accuracy: 0.7968\n",
      "Epoch 45/100\n",
      "313/313 [==============================] - 8s 25ms/step - loss: 0.4103 - accuracy: 0.8193 - val_loss: 0.4470 - val_accuracy: 0.7950\n"
     ]
    }
   ],
   "source": [
    "ot = keras.optimizers.RMSprop(learning_rate = 1e-4)\n",
    "m.compile(optimizer = ot, loss = 'binary_crossentropy', metrics = 'accuracy')\n",
    "ck_p = keras.callbacks.ModelCheckpoint('best_ex2m.h5', save_best_only = True)\n",
    "e_st = keras.callbacks.EarlyStopping(patience = 3, restore_best_weights = True)\n",
    "hy = m.fit(t_h0, t_y, epochs = 100, batch_size = 64, validation_data = (v_h0, v_y), callbacks = [ck_p, e_st])"
   ]
  },
  {
   "cell_type": "code",
   "execution_count": 18,
   "id": "a10ab486",
   "metadata": {},
   "outputs": [
    {
     "data": {
      "image/png": "[encoded data removed]",
      "text/plain": [
       "<Figure size 432x288 with 1 Axes>"
      ]
     },
     "metadata": {
      "needs_background": "light"
     },
     "output_type": "display_data"
    }
   ],
   "source": [
    "plt.plot(hy.history['loss'])\n",
    "plt.plot(hy.history['val_loss'])\n",
    "plt.show()"
   ]
  },
  {
   "cell_type": "code",
   "execution_count": 19,
   "id": "86e61a30",
   "metadata": {},
   "outputs": [
    {
     "name": "stdout",
     "output_type": "stream",
     "text": [
      "Epoch 1/100\n",
      "313/313 [==============================] - 4s 11ms/step - loss: 0.6966 - accuracy: 0.5095 - val_loss: 0.6953 - val_accuracy: 0.5044\n",
      "Epoch 2/100\n",
      "313/313 [==============================] - 3s 11ms/step - loss: 0.6909 - accuracy: 0.5315 - val_loss: 0.6924 - val_accuracy: 0.5166\n",
      "Epoch 3/100\n",
      "313/313 [==============================] - 4s 12ms/step - loss: 0.6865 - accuracy: 0.5514 - val_loss: 0.6896 - val_accuracy: 0.5266\n",
      "Epoch 4/100\n",
      "313/313 [==============================] - 3s 11ms/step - loss: 0.6820 - accuracy: 0.5687 - val_loss: 0.6872 - val_accuracy: 0.5418\n",
      "Epoch 5/100\n",
      "313/313 [==============================] - 3s 11ms/step - loss: 0.6773 - accuracy: 0.5843 - val_loss: 0.6846 - val_accuracy: 0.5464\n",
      "Epoch 6/100\n",
      "313/313 [==============================] - 4s 11ms/step - loss: 0.6725 - accuracy: 0.5945 - val_loss: 0.6823 - val_accuracy: 0.5518\n",
      "Epoch 7/100\n",
      "313/313 [==============================] - 4s 11ms/step - loss: 0.6676 - accuracy: 0.6059 - val_loss: 0.6800 - val_accuracy: 0.5594\n",
      "Epoch 8/100\n",
      "313/313 [==============================] - 4s 11ms/step - loss: 0.6629 - accuracy: 0.6141 - val_loss: 0.6775 - val_accuracy: 0.5638\n",
      "Epoch 9/100\n",
      "313/313 [==============================] - 3s 11ms/step - loss: 0.6582 - accuracy: 0.6218 - val_loss: 0.6760 - val_accuracy: 0.5660\n",
      "Epoch 10/100\n",
      "313/313 [==============================] - 4s 11ms/step - loss: 0.6535 - accuracy: 0.6292 - val_loss: 0.6739 - val_accuracy: 0.5754\n",
      "Epoch 11/100\n",
      "313/313 [==============================] - 4s 11ms/step - loss: 0.6488 - accuracy: 0.6336 - val_loss: 0.6710 - val_accuracy: 0.5776\n",
      "Epoch 12/100\n",
      "313/313 [==============================] - 4s 11ms/step - loss: 0.6443 - accuracy: 0.6397 - val_loss: 0.6708 - val_accuracy: 0.5798\n",
      "Epoch 13/100\n",
      "313/313 [==============================] - 4s 11ms/step - loss: 0.6399 - accuracy: 0.6427 - val_loss: 0.6692 - val_accuracy: 0.5830\n",
      "Epoch 14/100\n",
      "313/313 [==============================] - 3s 11ms/step - loss: 0.6357 - accuracy: 0.6474 - val_loss: 0.6685 - val_accuracy: 0.5824\n",
      "Epoch 15/100\n",
      "313/313 [==============================] - 3s 11ms/step - loss: 0.6318 - accuracy: 0.6514 - val_loss: 0.6666 - val_accuracy: 0.5860\n",
      "Epoch 16/100\n",
      "313/313 [==============================] - 4s 11ms/step - loss: 0.6281 - accuracy: 0.6540 - val_loss: 0.6657 - val_accuracy: 0.5908\n",
      "Epoch 17/100\n",
      "313/313 [==============================] - 3s 11ms/step - loss: 0.6245 - accuracy: 0.6574 - val_loss: 0.6646 - val_accuracy: 0.5916\n",
      "Epoch 18/100\n",
      "313/313 [==============================] - 4s 12ms/step - loss: 0.6209 - accuracy: 0.6607 - val_loss: 0.6641 - val_accuracy: 0.5940\n",
      "Epoch 19/100\n",
      "313/313 [==============================] - 4s 11ms/step - loss: 0.6176 - accuracy: 0.6640 - val_loss: 0.6632 - val_accuracy: 0.5978\n",
      "Epoch 20/100\n",
      "313/313 [==============================] - 4s 12ms/step - loss: 0.6143 - accuracy: 0.6653 - val_loss: 0.6623 - val_accuracy: 0.5952\n",
      "Epoch 21/100\n",
      "313/313 [==============================] - 4s 12ms/step - loss: 0.6113 - accuracy: 0.6690 - val_loss: 0.6620 - val_accuracy: 0.6010\n",
      "Epoch 22/100\n",
      "313/313 [==============================] - 4s 12ms/step - loss: 0.6085 - accuracy: 0.6701 - val_loss: 0.6620 - val_accuracy: 0.5986\n",
      "Epoch 23/100\n",
      "313/313 [==============================] - 3s 11ms/step - loss: 0.6056 - accuracy: 0.6750 - val_loss: 0.6620 - val_accuracy: 0.5990\n",
      "Epoch 24/100\n",
      "313/313 [==============================] - 3s 11ms/step - loss: 0.6030 - accuracy: 0.6768 - val_loss: 0.6610 - val_accuracy: 0.6018\n",
      "Epoch 25/100\n",
      "313/313 [==============================] - 4s 11ms/step - loss: 0.6006 - accuracy: 0.6787 - val_loss: 0.6602 - val_accuracy: 0.6034\n",
      "Epoch 26/100\n",
      "313/313 [==============================] - 3s 11ms/step - loss: 0.5982 - accuracy: 0.6794 - val_loss: 0.6609 - val_accuracy: 0.6034\n",
      "Epoch 27/100\n",
      "313/313 [==============================] - 4s 11ms/step - loss: 0.5955 - accuracy: 0.6812 - val_loss: 0.6609 - val_accuracy: 0.6044\n",
      "Epoch 28/100\n",
      "313/313 [==============================] - 4s 12ms/step - loss: 0.5935 - accuracy: 0.6820 - val_loss: 0.6597 - val_accuracy: 0.6076\n",
      "Epoch 29/100\n",
      "313/313 [==============================] - 4s 12ms/step - loss: 0.5912 - accuracy: 0.6859 - val_loss: 0.6614 - val_accuracy: 0.6036\n",
      "Epoch 30/100\n",
      "313/313 [==============================] - 4s 12ms/step - loss: 0.5889 - accuracy: 0.6888 - val_loss: 0.6604 - val_accuracy: 0.6084\n",
      "Epoch 31/100\n",
      "313/313 [==============================] - 4s 11ms/step - loss: 0.5869 - accuracy: 0.6901 - val_loss: 0.6606 - val_accuracy: 0.6062\n"
     ]
    }
   ],
   "source": [
    "m1 = keras.Sequential()\n",
    "m1.add(keras.layers.Embedding(500, 16, input_length = 100))  # 단어 임배딩\n",
    "m1.add(keras.layers.SimpleRNN(8))\n",
    "m1.add(keras.layers.Dense(1, activation = 'sigmoid'))\n",
    "\n",
    "ot = keras.optimizers.RMSprop(learning_rate = 1e-4)\n",
    "m1.compile(optimizer = ot, loss = 'binary_crossentropy', metrics = 'accuracy')\n",
    "ck_p = keras.callbacks.ModelCheckpoint('best_ex2_emd_m.h5', save_best_only = True)\n",
    "e_st = keras.callbacks.EarlyStopping(patience = 3, restore_best_weights = True)\n",
    "hy1 = m1.fit(s_t_x, t_y, epochs = 100, batch_size = 64, validation_data = (s_v_x, v_y), callbacks = [ck_p, e_st])"
   ]
  },
  {
   "cell_type": "code",
   "execution_count": 20,
   "id": "24aa7faa",
   "metadata": {},
   "outputs": [
    {
     "data": {
      "image/png": "[encoded data removed]",
      "text/plain": [
       "<Figure size 432x288 with 1 Axes>"
      ]
     },
     "metadata": {
      "needs_background": "light"
     },
     "output_type": "display_data"
    }
   ],
   "source": [
    "plt.plot(hy1.history['loss'])\n",
    "plt.plot(hy1.history['val_loss'])\n",
    "plt.show()"
   ]
  },
  {
   "cell_type": "code",
   "execution_count": 21,
   "id": "0b8c3067",
   "metadata": {},
   "outputs": [],
   "source": [
    "(x_data, y_data), (tt_x, tt_y) = load_data(num_words = 500)\n",
    "t_x, v_x, t_y, v_y = train_test_split(x_data, y_data, test_size = 0.2, random_state = 42)"
   ]
  },
  {
   "cell_type": "code",
   "execution_count": 22,
   "id": "d0df8398",
   "metadata": {},
   "outputs": [],
   "source": [
    "s_t_x = pad_sequences(t_x, maxlen = 100)\n",
    "s_v_x = pad_sequences(v_x, maxlen = 100)"
   ]
  },
  {
   "cell_type": "code",
   "execution_count": 23,
   "id": "83e15be2",
   "metadata": {},
   "outputs": [
    {
     "name": "stdout",
     "output_type": "stream",
     "text": [
      "Epoch 1/100\n",
      "313/313 [==============================] - 9s 22ms/step - loss: 0.6926 - accuracy: 0.5274 - val_loss: 0.6918 - val_accuracy: 0.5906\n",
      "Epoch 2/100\n",
      "313/313 [==============================] - 7s 21ms/step - loss: 0.6907 - accuracy: 0.5907 - val_loss: 0.6894 - val_accuracy: 0.6188\n",
      "Epoch 3/100\n",
      "313/313 [==============================] - 7s 21ms/step - loss: 0.6866 - accuracy: 0.6246 - val_loss: 0.6833 - val_accuracy: 0.6504\n",
      "Epoch 4/100\n",
      "313/313 [==============================] - 7s 22ms/step - loss: 0.6741 - accuracy: 0.6613 - val_loss: 0.6610 - val_accuracy: 0.6656\n",
      "Epoch 5/100\n",
      "313/313 [==============================] - 7s 21ms/step - loss: 0.6203 - accuracy: 0.6943 - val_loss: 0.5910 - val_accuracy: 0.7208\n",
      "Epoch 6/100\n",
      "313/313 [==============================] - 7s 22ms/step - loss: 0.5728 - accuracy: 0.7303 - val_loss: 0.5619 - val_accuracy: 0.7420\n",
      "Epoch 7/100\n",
      "313/313 [==============================] - 7s 22ms/step - loss: 0.5469 - accuracy: 0.7473 - val_loss: 0.5372 - val_accuracy: 0.7536\n",
      "Epoch 8/100\n",
      "313/313 [==============================] - 7s 21ms/step - loss: 0.5241 - accuracy: 0.7599 - val_loss: 0.5153 - val_accuracy: 0.7722\n",
      "Epoch 9/100\n",
      "313/313 [==============================] - 7s 22ms/step - loss: 0.5034 - accuracy: 0.7698 - val_loss: 0.4958 - val_accuracy: 0.7756\n",
      "Epoch 10/100\n",
      "313/313 [==============================] - 7s 21ms/step - loss: 0.4880 - accuracy: 0.7781 - val_loss: 0.4811 - val_accuracy: 0.7782\n",
      "Epoch 11/100\n",
      "313/313 [==============================] - 7s 22ms/step - loss: 0.4759 - accuracy: 0.7820 - val_loss: 0.4709 - val_accuracy: 0.7836\n",
      "Epoch 12/100\n",
      "313/313 [==============================] - 7s 22ms/step - loss: 0.4644 - accuracy: 0.7883 - val_loss: 0.4632 - val_accuracy: 0.7894\n",
      "Epoch 13/100\n",
      "313/313 [==============================] - 7s 22ms/step - loss: 0.4576 - accuracy: 0.7930 - val_loss: 0.4581 - val_accuracy: 0.7908\n",
      "Epoch 14/100\n",
      "313/313 [==============================] - 7s 22ms/step - loss: 0.4516 - accuracy: 0.7950 - val_loss: 0.4557 - val_accuracy: 0.7888\n",
      "Epoch 15/100\n",
      "313/313 [==============================] - -3s -8271us/step - loss: 0.4479 - accuracy: 0.7965 - val_loss: 0.4518 - val_accuracy: 0.7872\n",
      "Epoch 16/100\n",
      "313/313 [==============================] - 7s 21ms/step - loss: 0.4441 - accuracy: 0.7955 - val_loss: 0.4482 - val_accuracy: 0.7910\n",
      "Epoch 17/100\n",
      "313/313 [==============================] - 7s 22ms/step - loss: 0.4397 - accuracy: 0.8005 - val_loss: 0.4465 - val_accuracy: 0.7918\n",
      "Epoch 18/100\n",
      "313/313 [==============================] - 7s 21ms/step - loss: 0.4369 - accuracy: 0.8021 - val_loss: 0.4429 - val_accuracy: 0.7972\n",
      "Epoch 19/100\n",
      "313/313 [==============================] - 7s 21ms/step - loss: 0.4363 - accuracy: 0.7994 - val_loss: 0.4414 - val_accuracy: 0.7952\n",
      "Epoch 20/100\n",
      "313/313 [==============================] - 7s 22ms/step - loss: 0.4323 - accuracy: 0.8023 - val_loss: 0.4425 - val_accuracy: 0.7906\n",
      "Epoch 21/100\n",
      "313/313 [==============================] - 7s 22ms/step - loss: 0.4306 - accuracy: 0.8046 - val_loss: 0.4390 - val_accuracy: 0.7954\n",
      "Epoch 22/100\n",
      "313/313 [==============================] - 9s 30ms/step - loss: 0.4281 - accuracy: 0.8043 - val_loss: 0.4428 - val_accuracy: 0.7990\n",
      "Epoch 23/100\n",
      "313/313 [==============================] - 10s 33ms/step - loss: 0.4263 - accuracy: 0.8074 - val_loss: 0.4371 - val_accuracy: 0.7988\n",
      "Epoch 24/100\n",
      "313/313 [==============================] - 8s 27ms/step - loss: 0.4239 - accuracy: 0.8092 - val_loss: 0.4358 - val_accuracy: 0.7968\n",
      "Epoch 25/100\n",
      "313/313 [==============================] - 8s 24ms/step - loss: 0.4248 - accuracy: 0.8067 - val_loss: 0.4358 - val_accuracy: 0.7982\n",
      "Epoch 26/100\n",
      "313/313 [==============================] - 7s 24ms/step - loss: 0.4227 - accuracy: 0.8088 - val_loss: 0.4354 - val_accuracy: 0.8018\n",
      "Epoch 27/100\n",
      "313/313 [==============================] - 7s 22ms/step - loss: 0.4215 - accuracy: 0.8069 - val_loss: 0.4336 - val_accuracy: 0.7984\n",
      "Epoch 28/100\n",
      "313/313 [==============================] - 8s 25ms/step - loss: 0.4205 - accuracy: 0.8083 - val_loss: 0.4347 - val_accuracy: 0.8026\n",
      "Epoch 29/100\n",
      "313/313 [==============================] - 10s 30ms/step - loss: 0.4205 - accuracy: 0.8094 - val_loss: 0.4328 - val_accuracy: 0.8014\n",
      "Epoch 30/100\n",
      "313/313 [==============================] - 7s 24ms/step - loss: 0.4203 - accuracy: 0.8094 - val_loss: 0.4324 - val_accuracy: 0.7990\n",
      "Epoch 31/100\n",
      "313/313 [==============================] - 8s 25ms/step - loss: 0.4175 - accuracy: 0.8097 - val_loss: 0.4322 - val_accuracy: 0.7970\n",
      "Epoch 32/100\n",
      "313/313 [==============================] - 8s 26ms/step - loss: 0.4169 - accuracy: 0.8089 - val_loss: 0.4324 - val_accuracy: 0.7960\n",
      "Epoch 33/100\n",
      "313/313 [==============================] - 7s 23ms/step - loss: 0.4174 - accuracy: 0.8104 - val_loss: 0.4341 - val_accuracy: 0.8034\n",
      "Epoch 34/100\n",
      "313/313 [==============================] - 7s 23ms/step - loss: 0.4167 - accuracy: 0.8097 - val_loss: 0.4306 - val_accuracy: 0.7998\n",
      "Epoch 35/100\n",
      "313/313 [==============================] - 7s 22ms/step - loss: 0.4139 - accuracy: 0.8116 - val_loss: 0.4302 - val_accuracy: 0.7984\n",
      "Epoch 36/100\n",
      "313/313 [==============================] - 7s 22ms/step - loss: 0.4156 - accuracy: 0.8114 - val_loss: 0.4304 - val_accuracy: 0.8038\n",
      "Epoch 37/100\n",
      "313/313 [==============================] - 7s 22ms/step - loss: 0.4125 - accuracy: 0.8131 - val_loss: 0.4296 - val_accuracy: 0.8016\n",
      "Epoch 38/100\n",
      "313/313 [==============================] - 7s 21ms/step - loss: 0.4130 - accuracy: 0.8117 - val_loss: 0.4316 - val_accuracy: 0.8052\n",
      "Epoch 39/100\n",
      "313/313 [==============================] - 7s 22ms/step - loss: 0.4119 - accuracy: 0.8132 - val_loss: 0.4291 - val_accuracy: 0.8026\n",
      "Epoch 40/100\n",
      "313/313 [==============================] - 7s 23ms/step - loss: 0.4115 - accuracy: 0.8120 - val_loss: 0.4296 - val_accuracy: 0.8044\n",
      "Epoch 41/100\n",
      "313/313 [==============================] - 8s 24ms/step - loss: 0.4117 - accuracy: 0.8135 - val_loss: 0.4288 - val_accuracy: 0.8048\n",
      "Epoch 42/100\n",
      "313/313 [==============================] - 8s 25ms/step - loss: 0.4072 - accuracy: 0.8163 - val_loss: 0.4286 - val_accuracy: 0.8032\n",
      "Epoch 43/100\n",
      "313/313 [==============================] - 8s 24ms/step - loss: 0.4093 - accuracy: 0.8117 - val_loss: 0.4282 - val_accuracy: 0.8054\n",
      "Epoch 44/100\n",
      "313/313 [==============================] - 7s 23ms/step - loss: 0.4087 - accuracy: 0.8145 - val_loss: 0.4293 - val_accuracy: 0.8004\n",
      "Epoch 45/100\n",
      "313/313 [==============================] - 8s 25ms/step - loss: 0.4074 - accuracy: 0.8162 - val_loss: 0.4317 - val_accuracy: 0.7966\n",
      "Epoch 46/100\n",
      "313/313 [==============================] - 9s 29ms/step - loss: 0.4086 - accuracy: 0.8140 - val_loss: 0.4287 - val_accuracy: 0.8058\n"
     ]
    }
   ],
   "source": [
    "m2 = keras.Sequential()\n",
    "m2.add(keras.layers.Embedding(500, 16, input_length = 100))\n",
    "m2.add(keras.layers.LSTM(8, dropout = 0.3))  # LSTM 사용\n",
    "m2.add(keras.layers.Dense(1, activation = 'sigmoid'))\n",
    "\n",
    "ot = keras.optimizers.RMSprop(learning_rate = 1e-4)\n",
    "m2.compile(optimizer = ot, loss = 'binary_crossentropy', metrics = 'accuracy')\n",
    "ck_p = keras.callbacks.ModelCheckpoint('best_ex2_LSTM_m.h5', save_best_only = True)\n",
    "e_st = keras.callbacks.EarlyStopping(patience = 3, restore_best_weights = True)\n",
    "hy2 = m2.fit(s_t_x, t_y, epochs = 100, batch_size = 64, validation_data = (s_v_x, v_y), callbacks = [ck_p, e_st])"
   ]
  },
  {
   "cell_type": "code",
   "execution_count": 24,
   "id": "035cff2c",
   "metadata": {},
   "outputs": [
    {
     "data": {
      "image/png": "[encoded data removed]",
      "text/plain": [
       "<Figure size 432x288 with 1 Axes>"
      ]
     },
     "metadata": {
      "needs_background": "light"
     },
     "output_type": "display_data"
    }
   ],
   "source": [
    "plt.plot(hy2.history['loss'])\n",
    "plt.plot(hy2.history['val_loss'])\n",
    "plt.show()"
   ]
  },
  {
   "cell_type": "code",
   "execution_count": 25,
   "id": "5eaa925c",
   "metadata": {},
   "outputs": [],
   "source": [
    "m3 = keras.Sequential()\n",
    "m3.add(keras.layers.Embedding(500, 16, input_length = 100))\n",
    "m3.add(keras.layers.LSTM(8, dropout = 0.3, return_sequences = True))\n",
    "m3.add(keras.layers.LSTM(8, dropout = 0.3))\n",
    "m3.add(keras.layers.Dense(1, activation = 'sigmoid'))"
   ]
  },
  {
   "cell_type": "code",
   "execution_count": 26,
   "id": "d449abdd",
   "metadata": {},
   "outputs": [],
   "source": [
    "m4 = keras.Sequential()\n",
    "m4.add(keras.layers.Embedding(500, 16, input_length = 100))\n",
    "m4.add(keras.layers.GRU(8, dropout = 0.3, return_sequences = True))\n",
    "m4.add(keras.layers.GRU(8, dropout = 0.3))\n",
    "m4.add(keras.layers.Dense(1, activation = 'sigmoid'))"
   ]
  }
 ],
 "metadata": {
  "kernelspec": {
   "display_name": "Python 3 (ipykernel)",
   "language": "python",
   "name": "python3"
  },
  "language_info": {
   "codemirror_mode": {
    "name": "ipython",
    "version": 3
   },
   "file_extension": ".py",
   "mimetype": "text/x-python",
   "name": "python",
   "nbconvert_exporter": "python",
   "pygments_lexer": "ipython3",
   "version": "3.9.7"
  }
 },
 "nbformat": 4,
 "nbformat_minor": 5
}
