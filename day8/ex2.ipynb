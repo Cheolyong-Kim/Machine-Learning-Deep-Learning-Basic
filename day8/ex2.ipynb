{
 "cells": [
  {
   "cell_type": "code",
   "execution_count": 1,
   "id": "89fce137",
   "metadata": {},
   "outputs": [],
   "source": [
    "import numpy as np"
   ]
  },
  {
   "cell_type": "code",
   "execution_count": 5,
   "id": "524ea6be",
   "metadata": {},
   "outputs": [],
   "source": [
    "# 시그모이드 함수\n",
    "def actf(x):\n",
    "    return 1 / (1 + np.exp(-x))\n",
    "\n",
    "# 시그모이드 미분 함수\n",
    "def d_actf(x):\n",
    "    return x * (1 - x)"
   ]
  },
  {
   "cell_type": "code",
   "execution_count": 6,
   "id": "6cefba2a",
   "metadata": {},
   "outputs": [
    {
     "data": {
      "text/plain": [
       "array([[16, 19],\n",
       "       [36, 43]])"
      ]
     },
     "execution_count": 6,
     "metadata": {},
     "output_type": "execute_result"
    }
   ],
   "source": [
    "w = np.array([[1, 2], [3, 4]])\n",
    "x = np.array([[4, 5], [6, 7]])\n",
    "\n",
    "w.dot(x)"
   ]
  },
  {
   "cell_type": "code",
   "execution_count": 7,
   "id": "674214de",
   "metadata": {},
   "outputs": [],
   "source": [
    "X = np.array([[0, 0, 1], [0, 1, 1], [1, 0, 1], [1, 1, 1]])\n",
    "Y = np.array([[0], [1], [1], [0]])\n",
    "in_n = 3\n",
    "h_n = 6\n",
    "out_n = 1\n",
    "\n",
    "np.random.seed(5)\n",
    "# 가중치를 -1~1까지의 값으로 나오게 함\n",
    "w0 = 2 * np.random.random((in_n, h_n)) - 1\n",
    "w1 = 2 * np.random.random((h_n, out_n)) - 1"
   ]
  },
  {
   "cell_type": "code",
   "execution_count": 15,
   "id": "15761666",
   "metadata": {},
   "outputs": [
    {
     "name": "stdout",
     "output_type": "stream",
     "text": [
      "[[0.01144685]\n",
      " [0.98853856]\n",
      " [0.98734948]\n",
      " [0.01447403]]\n"
     ]
    }
   ],
   "source": [
    "for i in range(10000):\n",
    "    l0 = X  # 입력값(레이어 0)\n",
    "    # 순전파\n",
    "    net1 = np.dot(l0, w0)  # 입력 -> 은닉층 \n",
    "    l1 = actf(net1)  # 레이어 1\n",
    "    l1[:, -1] = 1  # 바이어스 값 1로 수정\n",
    "    net2 = np.dot(l1, w1)  # 은닉층 -> 은닉층\n",
    "    l2 = actf(net2)  # 결과값 (레이어 2)\n",
    "    \n",
    "    # 역전파\n",
    "    l2_e = l2 - Y  # 오차값\n",
    "    l2_d = l2_e * d_actf(l2)  # 출력층의 델타값\n",
    "    l1_e = np.dot(l2_d, w1.T)  # 은닉오차\n",
    "    l1_d = l1_e * d_actf(l1)  # 은닉층의 델타값\n",
    "    \n",
    "    # 가중치 갱신(학습률 0.2)\n",
    "    w1 += -0.2 * np.dot(l1.T, l2_d)\n",
    "    w0 += -0.2 * np.dot(l0.T, l1_d)\n",
    "\n",
    "print(l2)"
   ]
  },
  {
   "cell_type": "code",
   "execution_count": null,
   "id": "13ad16a5",
   "metadata": {},
   "outputs": [],
   "source": []
  }
 ],
 "metadata": {
  "kernelspec": {
   "display_name": "Python 3 (ipykernel)",
   "language": "python",
   "name": "python3"
  },
  "language_info": {
   "codemirror_mode": {
    "name": "ipython",
    "version": 3
   },
   "file_extension": ".py",
   "mimetype": "text/x-python",
   "name": "python",
   "nbconvert_exporter": "python",
   "pygments_lexer": "ipython3",
   "version": "3.9.7"
  }
 },
 "nbformat": 4,
 "nbformat_minor": 5
}
